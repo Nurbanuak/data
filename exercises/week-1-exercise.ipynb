{
 "cells": [
  {
   "cell_type": "markdown",
   "metadata": {},
   "source": [
    "## EXERCİSE1"
   ]
  },
  {
   "cell_type": "code",
   "execution_count": 24,
   "metadata": {},
   "outputs": [
    {
     "name": "stdout",
     "output_type": "stream",
     "text": [
      "7\n"
     ]
    }
   ],
   "source": [
    " \n",
    "def count_elements(my_list):\n",
    "    if not my_list:\n",
    "        return \"Error: The list is empty\"\n",
    "    else:\n",
    "        return len(my_list)\n",
    "\n",
    "# Example\n",
    "my_list = [2, 4, 6, 8, 10, 12, 14]\n",
    "result = count_elements(my_list)\n",
    "print(result)"
   ]
  },
  {
   "cell_type": "markdown",
   "metadata": {},
   "source": [
    "## EXERCİSE2"
   ]
  },
  {
   "cell_type": "code",
   "execution_count": 26,
   "metadata": {},
   "outputs": [
    {
     "name": "stdout",
     "output_type": "stream",
     "text": [
      "{'a': 3, 'd': 1, ' ': 1, 'l': 2, 'o': 1, 'v': 1, 'e': 2, 'c': 1}\n"
     ]
    }
   ],
   "source": [
    "def count_characters(my_string):\n",
    "    char_count = {}\n",
    "    for char in my_string:\n",
    "        if char in char_count:\n",
    "            char_count[char] += 1\n",
    "        else:\n",
    "            char_count[char] = 1\n",
    "    return char_count\n",
    "\n",
    "# Example \n",
    "my_string = \"ada lovelace\"\n",
    "result = count_characters(my_string)\n",
    "print(result)"
   ]
  }
 ],
 "metadata": {
  "kernelspec": {
   "display_name": "Python 3",
   "language": "python",
   "name": "python3"
  },
  "language_info": {
   "codemirror_mode": {
    "name": "ipython",
    "version": 3
   },
   "file_extension": ".py",
   "mimetype": "text/x-python",
   "name": "python",
   "nbconvert_exporter": "python",
   "pygments_lexer": "ipython3",
   "version": "3.11.5"
  }
 },
 "nbformat": 4,
 "nbformat_minor": 2
}
