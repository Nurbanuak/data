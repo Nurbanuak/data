{
 "cells": [
  {
   "cell_type": "markdown",
   "metadata": {},
   "source": [
    "# Web scraping with python"
   ]
  },
  {
   "cell_type": "markdown",
   "metadata": {},
   "source": [
    "- Beatiful Soup docs: https://www.crummy.com/software/BeautifulSoup/bs4/doc/#"
   ]
  },
  {
   "cell_type": "code",
   "execution_count": 11,
   "metadata": {},
   "outputs": [
    {
     "name": "stdout",
     "output_type": "stream",
     "text": [
      "Collecting requests\n",
      "  Downloading requests-2.31.0-py3-none-any.whl.metadata (4.6 kB)\n",
      "Collecting charset-normalizer<4,>=2 (from requests)\n",
      "  Downloading charset_normalizer-3.3.2-cp311-cp311-win_amd64.whl.metadata (34 kB)\n",
      "Collecting idna<4,>=2.5 (from requests)\n",
      "  Downloading idna-3.6-py3-none-any.whl.metadata (9.9 kB)\n",
      "Collecting urllib3<3,>=1.21.1 (from requests)\n",
      "  Downloading urllib3-2.1.0-py3-none-any.whl.metadata (6.4 kB)\n",
      "Collecting certifi>=2017.4.17 (from requests)\n",
      "  Downloading certifi-2023.11.17-py3-none-any.whl.metadata (2.2 kB)\n",
      "Downloading requests-2.31.0-py3-none-any.whl (62 kB)\n",
      "   ---------------------------------------- 0.0/62.6 kB ? eta -:--:--\n",
      "   ---------------------------------------- 0.0/62.6 kB ? eta -:--:--\n",
      "   ---------------------------------------- 0.0/62.6 kB ? eta -:--:--\n",
      "   ---------------------------------------- 0.0/62.6 kB ? eta -:--:--\n",
      "   -------------------------- ------------- 41.0/62.6 kB ? eta -:--:--\n",
      "   -------------------------- ------------- 41.0/62.6 kB ? eta -:--:--\n",
      "   ---------------------------------------  61.4/62.6 kB 656.4 kB/s eta 0:00:01\n",
      "   ---------------------------------------- 62.6/62.6 kB 480.1 kB/s eta 0:00:00\n",
      "Downloading certifi-2023.11.17-py3-none-any.whl (162 kB)\n",
      "   ---------------------------------------- 0.0/162.5 kB ? eta -:--:--\n",
      "   ---------------------------------------- 0.0/162.5 kB ? eta -:--:--\n",
      "   -- ------------------------------------- 10.2/162.5 kB ? eta -:--:--\n",
      "   ------- ------------------------------- 30.7/162.5 kB 435.7 kB/s eta 0:00:01\n",
      "   --------- ----------------------------- 41.0/162.5 kB 326.8 kB/s eta 0:00:01\n",
      "   -------------- ------------------------ 61.4/162.5 kB 365.7 kB/s eta 0:00:01\n",
      "   ------------------- ------------------- 81.9/162.5 kB 416.7 kB/s eta 0:00:01\n",
      "   ---------------------- ---------------- 92.2/162.5 kB 403.5 kB/s eta 0:00:01\n",
      "   -------------------------- ----------- 112.6/162.5 kB 437.6 kB/s eta 0:00:01\n",
      "   ---------------------------- --------- 122.9/162.5 kB 400.9 kB/s eta 0:00:01\n",
      "   --------------------------------- ---- 143.4/162.5 kB 426.7 kB/s eta 0:00:01\n",
      "   -------------------------------------- 162.5/162.5 kB 424.2 kB/s eta 0:00:00\n",
      "Downloading charset_normalizer-3.3.2-cp311-cp311-win_amd64.whl (99 kB)\n",
      "   ---------------------------------------- 0.0/99.9 kB ? eta -:--:--\n",
      "   ---- ----------------------------------- 10.2/99.9 kB ? eta -:--:--\n",
      "   ------------ --------------------------- 30.7/99.9 kB 640.0 kB/s eta 0:00:01\n",
      "   ---------------- ----------------------- 41.0/99.9 kB 393.8 kB/s eta 0:00:01\n",
      "   ------------------------ --------------- 61.4/99.9 kB 544.7 kB/s eta 0:00:01\n",
      "   ------------------------------------ --- 92.2/99.9 kB 521.8 kB/s eta 0:00:01\n",
      "   ---------------------------------------- 99.9/99.9 kB 476.8 kB/s eta 0:00:00\n",
      "Downloading idna-3.6-py3-none-any.whl (61 kB)\n",
      "   ---------------------------------------- 0.0/61.6 kB ? eta -:--:--\n",
      "   ------ --------------------------------- 10.2/61.6 kB ? eta -:--:--\n",
      "   ------------------- -------------------- 30.7/61.6 kB 660.6 kB/s eta 0:00:01\n",
      "   ---------------------------------------  61.4/61.6 kB 656.4 kB/s eta 0:00:01\n",
      "   ---------------------------------------- 61.6/61.6 kB 470.9 kB/s eta 0:00:00\n",
      "Downloading urllib3-2.1.0-py3-none-any.whl (104 kB)\n",
      "   ---------------------------------------- 0.0/104.6 kB ? eta -:--:--\n",
      "   --- ------------------------------------ 10.2/104.6 kB ? eta -:--:--\n",
      "   --------------- ----------------------- 41.0/104.6 kB 495.5 kB/s eta 0:00:01\n",
      "   ---------------------- ---------------- 61.4/104.6 kB 544.7 kB/s eta 0:00:01\n",
      "   -------------------------- ------------ 71.7/104.6 kB 563.7 kB/s eta 0:00:01\n",
      "   -------------------------------------  102.4/104.6 kB 590.8 kB/s eta 0:00:01\n",
      "   -------------------------------------- 104.6/104.6 kB 504.5 kB/s eta 0:00:00\n",
      "Installing collected packages: urllib3, idna, charset-normalizer, certifi, requests\n",
      "Successfully installed certifi-2023.11.17 charset-normalizer-3.3.2 idna-3.6 requests-2.31.0 urllib3-2.1.0\n",
      "Note: you may need to restart the kernel to use updated packages.\n"
     ]
    }
   ],
   "source": [
    "pip install requests"
   ]
  },
  {
   "cell_type": "code",
   "execution_count": 25,
   "metadata": {},
   "outputs": [
    {
     "name": "stdout",
     "output_type": "stream",
     "text": [
      "Collecting BeautifulSoup4\n",
      "  Downloading beautifulsoup4-4.12.2-py3-none-any.whl (142 kB)\n",
      "     ---------------------------------------- 0.0/143.0 kB ? eta -:--:--\n",
      "     -- ------------------------------------- 10.2/143.0 kB ? eta -:--:--\n",
      "     -- ------------------------------------- 10.2/143.0 kB ? eta -:--:--\n",
      "     ------- ----------------------------- 30.7/143.0 kB 262.6 kB/s eta 0:00:01\n",
      "     --------------- --------------------- 61.4/143.0 kB 409.6 kB/s eta 0:00:01\n",
      "     --------------------------------- -- 133.1/143.0 kB 714.4 kB/s eta 0:00:01\n",
      "     ------------------------------------ 143.0/143.0 kB 653.9 kB/s eta 0:00:00\n",
      "Collecting soupsieve>1.2 (from BeautifulSoup4)\n",
      "  Downloading soupsieve-2.5-py3-none-any.whl.metadata (4.7 kB)\n",
      "Downloading soupsieve-2.5-py3-none-any.whl (36 kB)\n",
      "Installing collected packages: soupsieve, BeautifulSoup4\n",
      "Successfully installed BeautifulSoup4-4.12.2 soupsieve-2.5\n",
      "Note: you may need to restart the kernel to use updated packages.\n"
     ]
    }
   ],
   "source": [
    "pip install BeautifulSoup4"
   ]
  },
  {
   "cell_type": "code",
   "execution_count": 26,
   "metadata": {},
   "outputs": [],
   "source": [
    "import requests\n",
    "from bs4 import BeautifulSoup"
   ]
  },
  {
   "cell_type": "code",
   "execution_count": 28,
   "metadata": {},
   "outputs": [],
   "source": [
    "html_doc = \"\"\"<html><head><title>The Dormouse's story</title></head>\n",
    "<body>\n",
    "<p class=\"title\"><b>The Dormouse's story</b></p>\n",
    "\n",
    "<p class=\"story\">Once upon a time there were three little sisters; and their names were\n",
    "<a href=\"http://example.com/elsie\" class=\"sister\" id=\"link1\">Elsie</a>,\n",
    "<a href=\"http://example.com/lacie\" class=\"sister\" id=\"link2\">Lacie</a> and\n",
    "<a href=\"http://example.com/tillie\" class=\"sister\" id=\"link3\">Tillie</a>;\n",
    "and they lived at the bottom of a well.</p>\n",
    "\n",
    "<p class=\"story\">...</p>\n",
    "\"\"\""
   ]
  },
  {
   "cell_type": "code",
   "execution_count": 29,
   "metadata": {},
   "outputs": [],
   "source": [
    "soup = BeautifulSoup(html_doc, 'html.parser')"
   ]
  },
  {
   "cell_type": "code",
   "execution_count": 30,
   "metadata": {},
   "outputs": [
    {
     "data": {
      "text/plain": [
       "[<a class=\"sister\" href=\"http://example.com/elsie\" id=\"link1\">Elsie</a>,\n",
       " <a class=\"sister\" href=\"http://example.com/lacie\" id=\"link2\">Lacie</a>,\n",
       " <a class=\"sister\" href=\"http://example.com/tillie\" id=\"link3\">Tillie</a>]"
      ]
     },
     "execution_count": 30,
     "metadata": {},
     "output_type": "execute_result"
    }
   ],
   "source": [
    "soup.find_all('a')"
   ]
  },
  {
   "cell_type": "code",
   "execution_count": 32,
   "metadata": {},
   "outputs": [
    {
     "name": "stdout",
     "output_type": "stream",
     "text": [
      "link1 : http://example.com/elsie\n",
      "link2 : http://example.com/lacie\n",
      "link3 : http://example.com/tillie\n"
     ]
    }
   ],
   "source": [
    "for link in soup.find_all('a'):\n",
    "    print(f\"{link.get('id')} : {link.get('href')}\")"
   ]
  },
  {
   "cell_type": "code",
   "execution_count": 35,
   "metadata": {},
   "outputs": [
    {
     "name": "stdout",
     "output_type": "stream",
     "text": [
      "link1 : http://example.com/elsie\n",
      "link2 : http://example.com/lacie\n",
      "link3 : http://example.com/tillie\n"
     ]
    }
   ],
   "source": [
    "#more readable code example:\n",
    "for link in soup.find_all('a'):\n",
    "    id = link.get('id')\n",
    "    link = link.get('href')\n",
    "    print(f\"{id} : {link}\")"
   ]
  },
  {
   "cell_type": "markdown",
   "metadata": {},
   "source": [
    "# Get url example"
   ]
  },
  {
   "cell_type": "code",
   "execution_count": 36,
   "metadata": {},
   "outputs": [],
   "source": [
    "url = \"https://en.wikipedia.org/wiki/Python_(programming_language)\"\n",
    "text = requests.get(url).content.decode('utf-8')"
   ]
  },
  {
   "cell_type": "code",
   "execution_count": 37,
   "metadata": {},
   "outputs": [],
   "source": [
    "wiki_soup = BeautifulSoup(text, 'html.parser')"
   ]
  },
  {
   "cell_type": "code",
   "execution_count": 38,
   "metadata": {},
   "outputs": [
    {
     "data": {
      "text/plain": [
       "bs4.BeautifulSoup"
      ]
     },
     "execution_count": 38,
     "metadata": {},
     "output_type": "execute_result"
    }
   ],
   "source": [
    "type(wiki_soup)"
   ]
  },
  {
   "cell_type": "code",
   "execution_count": 39,
   "metadata": {},
   "outputs": [
    {
     "data": {
      "text/plain": [
       "<title>Python (programming language) - Wikipedia</title>"
      ]
     },
     "execution_count": 39,
     "metadata": {},
     "output_type": "execute_result"
    }
   ],
   "source": [
    "wiki_soup.title"
   ]
  }
 ],
 "metadata": {
  "kernelspec": {
   "display_name": "Python 3",
   "language": "python",
   "name": "python3"
  },
  "language_info": {
   "codemirror_mode": {
    "name": "ipython",
    "version": 3
   },
   "file_extension": ".py",
   "mimetype": "text/x-python",
   "name": "python",
   "nbconvert_exporter": "python",
   "pygments_lexer": "ipython3",
   "version": "3.11.5"
  }
 },
 "nbformat": 4,
 "nbformat_minor": 2
}
