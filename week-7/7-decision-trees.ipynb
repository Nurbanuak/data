{
 "cells": [
  {
   "cell_type": "markdown",
   "metadata": {},
   "source": [
    "# İntro to Decision Trees"
   ]
  },
  {
   "cell_type": "markdown",
   "metadata": {},
   "source": [
    "Building a decision tree with the training set"
   ]
  },
  {
   "cell_type": "markdown",
   "metadata": {},
   "source": [
    "Classes are: Drug Drug\n",
    "\n",
    "Decision Tree:\n",
    "\n",
    "- age\n",
    "\n",
    " - young\n",
    "\n",
    "    - sex\n",
    "    \n",
    "      F\n",
    "      \n",
    "      M\n",
    "\n",
    "- middle-age\n",
    "\n",
    "- senior\n",
    "\n",
    "  . cholesterol\n",
    "\n",
    "      high\n",
    "      normal"
   ]
  },
  {
   "cell_type": "markdown",
   "metadata": {},
   "source": [
    "- Each \"internal node\" corresponds to a test.\n",
    "- And each \"branch\" corresponds to a result of the test.\n",
    "- And each \"leaf node\" assigns a patient to a class."
   ]
  },
  {
   "cell_type": "markdown",
   "metadata": {},
   "source": [
    "1- Choose an attribute from dataset 2- Calculate the significance of the attribute in the splitting of the data. 3- Split the data based on the value of the best attribute. 4- Go to step 1."
   ]
  },
  {
   "cell_type": "markdown",
   "metadata": {},
   "source": [
    "Building Decision Tree"
   ]
  },
  {
   "cell_type": "markdown",
   "metadata": {},
   "source": [
    "Decision trees are built using recursive partitioning to classify the data.\n",
    "\n",
    "- More predictiveness\n",
    "- Less Impurity\n",
    "- Lower Entropy\n",
    "\n",
    "\"Pure Node\": A node in the tree is considered pure if, in all of the cases, the nodes fall into a spesific category."
   ]
  },
  {
   "cell_type": "markdown",
   "metadata": {},
   "source": [
    "Entropy"
   ]
  },
  {
   "cell_type": "markdown",
   "metadata": {},
   "source": [
    "Information disorder or randomness in the data. The entropy is used to calculate the homogeneity of the samples in that node."
   ]
  },
  {
   "cell_type": "markdown",
   "metadata": {},
   "source": [
    "# TODO Check entropy formula"
   ]
  },
  {
   "cell_type": "markdown",
   "metadata": {},
   "source": [
    "\"The tree with the higher information gain after splitting.\" Information gain = Entropy before split - Weighted entropy after split"
   ]
  },
  {
   "cell_type": "markdown",
   "metadata": {},
   "source": []
  }
 ],
 "metadata": {
  "kernelspec": {
   "display_name": "Python 3",
   "language": "python",
   "name": "python3"
  },
  "language_info": {
   "name": "python",
   "version": "3.11.5"
  }
 },
 "nbformat": 4,
 "nbformat_minor": 2
}
