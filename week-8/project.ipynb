{
 "cells": [
  {
   "cell_type": "code",
   "execution_count": 133,
   "metadata": {},
   "outputs": [],
   "source": [
    "import matplotlib.pyplot as plt\n",
    "import pandas as pd\n",
    "import pylab as pl\n",
    "import numpy as np\n",
    "import seaborn as sns\n",
    "import plotly.express as px\n",
    "from sklearn import preprocessing\n",
    "from sklearn.model_selection import train_test_split\n",
    "from sklearn.linear_model import LinearRegression\n",
    "from sklearn.metrics import mean_squared_error\n",
    "from sklearn.metrics import accuracy_score, mean_squared_error\n",
    "%matplotlib inline"
   ]
  },
  {
   "cell_type": "code",
   "execution_count": 134,
   "metadata": {},
   "outputs": [],
   "source": [
    "df = pd.read_csv(\"C:/Users/victus/Documents/Presentation_project/New_project/Obesity.csv\")"
   ]
  },
  {
   "cell_type": "code",
   "execution_count": 135,
   "metadata": {},
   "outputs": [
    {
     "data": {
      "text/plain": [
       "ID          int64\n",
       "Age         int64\n",
       "Gender     object\n",
       "Height      int64\n",
       "Weight      int64\n",
       "BMI       float64\n",
       "Label      object\n",
       "dtype: object"
      ]
     },
     "execution_count": 135,
     "metadata": {},
     "output_type": "execute_result"
    }
   ],
   "source": [
    "df.dtypes"
   ]
  },
  {
   "cell_type": "code",
   "execution_count": 136,
   "metadata": {},
   "outputs": [
    {
     "data": {
      "text/html": [
       "<div>\n",
       "<style scoped>\n",
       "    .dataframe tbody tr th:only-of-type {\n",
       "        vertical-align: middle;\n",
       "    }\n",
       "\n",
       "    .dataframe tbody tr th {\n",
       "        vertical-align: top;\n",
       "    }\n",
       "\n",
       "    .dataframe thead th {\n",
       "        text-align: right;\n",
       "    }\n",
       "</style>\n",
       "<table border=\"1\" class=\"dataframe\">\n",
       "  <thead>\n",
       "    <tr style=\"text-align: right;\">\n",
       "      <th></th>\n",
       "      <th>ID</th>\n",
       "      <th>Age</th>\n",
       "      <th>Gender</th>\n",
       "      <th>Height</th>\n",
       "      <th>Weight</th>\n",
       "      <th>BMI</th>\n",
       "      <th>Label</th>\n",
       "    </tr>\n",
       "  </thead>\n",
       "  <tbody>\n",
       "    <tr>\n",
       "      <th>0</th>\n",
       "      <td>1</td>\n",
       "      <td>25</td>\n",
       "      <td>Male</td>\n",
       "      <td>175</td>\n",
       "      <td>80</td>\n",
       "      <td>25.3</td>\n",
       "      <td>Normal Weight</td>\n",
       "    </tr>\n",
       "    <tr>\n",
       "      <th>1</th>\n",
       "      <td>2</td>\n",
       "      <td>30</td>\n",
       "      <td>Female</td>\n",
       "      <td>160</td>\n",
       "      <td>60</td>\n",
       "      <td>22.5</td>\n",
       "      <td>Normal Weight</td>\n",
       "    </tr>\n",
       "    <tr>\n",
       "      <th>2</th>\n",
       "      <td>3</td>\n",
       "      <td>35</td>\n",
       "      <td>Male</td>\n",
       "      <td>180</td>\n",
       "      <td>90</td>\n",
       "      <td>27.3</td>\n",
       "      <td>Overweight</td>\n",
       "    </tr>\n",
       "    <tr>\n",
       "      <th>3</th>\n",
       "      <td>4</td>\n",
       "      <td>40</td>\n",
       "      <td>Female</td>\n",
       "      <td>150</td>\n",
       "      <td>50</td>\n",
       "      <td>20.0</td>\n",
       "      <td>Underweight</td>\n",
       "    </tr>\n",
       "    <tr>\n",
       "      <th>4</th>\n",
       "      <td>5</td>\n",
       "      <td>45</td>\n",
       "      <td>Male</td>\n",
       "      <td>190</td>\n",
       "      <td>100</td>\n",
       "      <td>31.2</td>\n",
       "      <td>Obese</td>\n",
       "    </tr>\n",
       "    <tr>\n",
       "      <th>...</th>\n",
       "      <td>...</td>\n",
       "      <td>...</td>\n",
       "      <td>...</td>\n",
       "      <td>...</td>\n",
       "      <td>...</td>\n",
       "      <td>...</td>\n",
       "      <td>...</td>\n",
       "    </tr>\n",
       "    <tr>\n",
       "      <th>103</th>\n",
       "      <td>106</td>\n",
       "      <td>11</td>\n",
       "      <td>Male</td>\n",
       "      <td>175</td>\n",
       "      <td>10</td>\n",
       "      <td>3.9</td>\n",
       "      <td>Underweight</td>\n",
       "    </tr>\n",
       "    <tr>\n",
       "      <th>104</th>\n",
       "      <td>107</td>\n",
       "      <td>16</td>\n",
       "      <td>Female</td>\n",
       "      <td>160</td>\n",
       "      <td>10</td>\n",
       "      <td>3.9</td>\n",
       "      <td>Underweight</td>\n",
       "    </tr>\n",
       "    <tr>\n",
       "      <th>105</th>\n",
       "      <td>108</td>\n",
       "      <td>21</td>\n",
       "      <td>Male</td>\n",
       "      <td>180</td>\n",
       "      <td>15</td>\n",
       "      <td>5.6</td>\n",
       "      <td>Underweight</td>\n",
       "    </tr>\n",
       "    <tr>\n",
       "      <th>106</th>\n",
       "      <td>109</td>\n",
       "      <td>26</td>\n",
       "      <td>Female</td>\n",
       "      <td>150</td>\n",
       "      <td>15</td>\n",
       "      <td>5.6</td>\n",
       "      <td>Underweight</td>\n",
       "    </tr>\n",
       "    <tr>\n",
       "      <th>107</th>\n",
       "      <td>110</td>\n",
       "      <td>31</td>\n",
       "      <td>Male</td>\n",
       "      <td>190</td>\n",
       "      <td>20</td>\n",
       "      <td>8.3</td>\n",
       "      <td>Underweight</td>\n",
       "    </tr>\n",
       "  </tbody>\n",
       "</table>\n",
       "<p>108 rows × 7 columns</p>\n",
       "</div>"
      ],
      "text/plain": [
       "      ID  Age  Gender  Height  Weight   BMI          Label\n",
       "0      1   25    Male     175      80  25.3  Normal Weight\n",
       "1      2   30  Female     160      60  22.5  Normal Weight\n",
       "2      3   35    Male     180      90  27.3     Overweight\n",
       "3      4   40  Female     150      50  20.0    Underweight\n",
       "4      5   45    Male     190     100  31.2          Obese\n",
       "..   ...  ...     ...     ...     ...   ...            ...\n",
       "103  106   11    Male     175      10   3.9    Underweight\n",
       "104  107   16  Female     160      10   3.9    Underweight\n",
       "105  108   21    Male     180      15   5.6    Underweight\n",
       "106  109   26  Female     150      15   5.6    Underweight\n",
       "107  110   31    Male     190      20   8.3    Underweight\n",
       "\n",
       "[108 rows x 7 columns]"
      ]
     },
     "execution_count": 136,
     "metadata": {},
     "output_type": "execute_result"
    }
   ],
   "source": [
    "df"
   ]
  },
  {
   "cell_type": "code",
   "execution_count": 137,
   "metadata": {},
   "outputs": [
    {
     "name": "stdout",
     "output_type": "stream",
     "text": [
      "<class 'pandas.core.frame.DataFrame'>\n",
      "RangeIndex: 108 entries, 0 to 107\n",
      "Data columns (total 7 columns):\n",
      " #   Column  Non-Null Count  Dtype  \n",
      "---  ------  --------------  -----  \n",
      " 0   ID      108 non-null    int64  \n",
      " 1   Age     108 non-null    int64  \n",
      " 2   Gender  108 non-null    object \n",
      " 3   Height  108 non-null    int64  \n",
      " 4   Weight  108 non-null    int64  \n",
      " 5   BMI     108 non-null    float64\n",
      " 6   Label   108 non-null    object \n",
      "dtypes: float64(1), int64(4), object(2)\n",
      "memory usage: 6.0+ KB\n"
     ]
    }
   ],
   "source": [
    "df.info()"
   ]
  },
  {
   "cell_type": "code",
   "execution_count": 138,
   "metadata": {},
   "outputs": [
    {
     "data": {
      "text/plain": [
       "(108, 7)"
      ]
     },
     "execution_count": 138,
     "metadata": {},
     "output_type": "execute_result"
    }
   ],
   "source": [
    "df.shape"
   ]
  },
  {
   "cell_type": "code",
   "execution_count": 139,
   "metadata": {},
   "outputs": [
    {
     "data": {
      "text/html": [
       "<div>\n",
       "<style scoped>\n",
       "    .dataframe tbody tr th:only-of-type {\n",
       "        vertical-align: middle;\n",
       "    }\n",
       "\n",
       "    .dataframe tbody tr th {\n",
       "        vertical-align: top;\n",
       "    }\n",
       "\n",
       "    .dataframe thead th {\n",
       "        text-align: right;\n",
       "    }\n",
       "</style>\n",
       "<table border=\"1\" class=\"dataframe\">\n",
       "  <thead>\n",
       "    <tr style=\"text-align: right;\">\n",
       "      <th></th>\n",
       "      <th>ID</th>\n",
       "      <th>Age</th>\n",
       "      <th>Gender</th>\n",
       "      <th>Height</th>\n",
       "      <th>Weight</th>\n",
       "      <th>BMI</th>\n",
       "      <th>Label</th>\n",
       "    </tr>\n",
       "  </thead>\n",
       "  <tbody>\n",
       "    <tr>\n",
       "      <th>0</th>\n",
       "      <td>1</td>\n",
       "      <td>25</td>\n",
       "      <td>Male</td>\n",
       "      <td>175</td>\n",
       "      <td>80</td>\n",
       "      <td>25.3</td>\n",
       "      <td>Normal Weight</td>\n",
       "    </tr>\n",
       "    <tr>\n",
       "      <th>1</th>\n",
       "      <td>2</td>\n",
       "      <td>30</td>\n",
       "      <td>Female</td>\n",
       "      <td>160</td>\n",
       "      <td>60</td>\n",
       "      <td>22.5</td>\n",
       "      <td>Normal Weight</td>\n",
       "    </tr>\n",
       "    <tr>\n",
       "      <th>2</th>\n",
       "      <td>3</td>\n",
       "      <td>35</td>\n",
       "      <td>Male</td>\n",
       "      <td>180</td>\n",
       "      <td>90</td>\n",
       "      <td>27.3</td>\n",
       "      <td>Overweight</td>\n",
       "    </tr>\n",
       "    <tr>\n",
       "      <th>3</th>\n",
       "      <td>4</td>\n",
       "      <td>40</td>\n",
       "      <td>Female</td>\n",
       "      <td>150</td>\n",
       "      <td>50</td>\n",
       "      <td>20.0</td>\n",
       "      <td>Underweight</td>\n",
       "    </tr>\n",
       "    <tr>\n",
       "      <th>4</th>\n",
       "      <td>5</td>\n",
       "      <td>45</td>\n",
       "      <td>Male</td>\n",
       "      <td>190</td>\n",
       "      <td>100</td>\n",
       "      <td>31.2</td>\n",
       "      <td>Obese</td>\n",
       "    </tr>\n",
       "    <tr>\n",
       "      <th>5</th>\n",
       "      <td>6</td>\n",
       "      <td>50</td>\n",
       "      <td>Female</td>\n",
       "      <td>140</td>\n",
       "      <td>40</td>\n",
       "      <td>16.7</td>\n",
       "      <td>Underweight</td>\n",
       "    </tr>\n",
       "    <tr>\n",
       "      <th>6</th>\n",
       "      <td>7</td>\n",
       "      <td>55</td>\n",
       "      <td>Male</td>\n",
       "      <td>200</td>\n",
       "      <td>110</td>\n",
       "      <td>34.2</td>\n",
       "      <td>Obese</td>\n",
       "    </tr>\n",
       "    <tr>\n",
       "      <th>7</th>\n",
       "      <td>8</td>\n",
       "      <td>60</td>\n",
       "      <td>Female</td>\n",
       "      <td>130</td>\n",
       "      <td>30</td>\n",
       "      <td>13.3</td>\n",
       "      <td>Underweight</td>\n",
       "    </tr>\n",
       "    <tr>\n",
       "      <th>8</th>\n",
       "      <td>9</td>\n",
       "      <td>65</td>\n",
       "      <td>Male</td>\n",
       "      <td>210</td>\n",
       "      <td>120</td>\n",
       "      <td>37.2</td>\n",
       "      <td>Obese</td>\n",
       "    </tr>\n",
       "    <tr>\n",
       "      <th>9</th>\n",
       "      <td>10</td>\n",
       "      <td>70</td>\n",
       "      <td>Female</td>\n",
       "      <td>120</td>\n",
       "      <td>20</td>\n",
       "      <td>10.0</td>\n",
       "      <td>Underweight</td>\n",
       "    </tr>\n",
       "    <tr>\n",
       "      <th>10</th>\n",
       "      <td>11</td>\n",
       "      <td>18</td>\n",
       "      <td>Male</td>\n",
       "      <td>175</td>\n",
       "      <td>70</td>\n",
       "      <td>23.4</td>\n",
       "      <td>Normal Weight</td>\n",
       "    </tr>\n",
       "    <tr>\n",
       "      <th>11</th>\n",
       "      <td>12</td>\n",
       "      <td>23</td>\n",
       "      <td>Female</td>\n",
       "      <td>160</td>\n",
       "      <td>50</td>\n",
       "      <td>20.0</td>\n",
       "      <td>Underweight</td>\n",
       "    </tr>\n",
       "    <tr>\n",
       "      <th>12</th>\n",
       "      <td>13</td>\n",
       "      <td>28</td>\n",
       "      <td>Male</td>\n",
       "      <td>180</td>\n",
       "      <td>80</td>\n",
       "      <td>25.3</td>\n",
       "      <td>Normal Weight</td>\n",
       "    </tr>\n",
       "    <tr>\n",
       "      <th>13</th>\n",
       "      <td>14</td>\n",
       "      <td>33</td>\n",
       "      <td>Female</td>\n",
       "      <td>150</td>\n",
       "      <td>60</td>\n",
       "      <td>22.5</td>\n",
       "      <td>Normal Weight</td>\n",
       "    </tr>\n",
       "    <tr>\n",
       "      <th>14</th>\n",
       "      <td>15</td>\n",
       "      <td>38</td>\n",
       "      <td>Male</td>\n",
       "      <td>190</td>\n",
       "      <td>90</td>\n",
       "      <td>27.3</td>\n",
       "      <td>Overweight</td>\n",
       "    </tr>\n",
       "    <tr>\n",
       "      <th>15</th>\n",
       "      <td>16</td>\n",
       "      <td>43</td>\n",
       "      <td>Female</td>\n",
       "      <td>140</td>\n",
       "      <td>50</td>\n",
       "      <td>20.0</td>\n",
       "      <td>Underweight</td>\n",
       "    </tr>\n",
       "    <tr>\n",
       "      <th>16</th>\n",
       "      <td>17</td>\n",
       "      <td>48</td>\n",
       "      <td>Male</td>\n",
       "      <td>200</td>\n",
       "      <td>100</td>\n",
       "      <td>31.2</td>\n",
       "      <td>Obese</td>\n",
       "    </tr>\n",
       "    <tr>\n",
       "      <th>17</th>\n",
       "      <td>19</td>\n",
       "      <td>53</td>\n",
       "      <td>Female</td>\n",
       "      <td>130</td>\n",
       "      <td>40</td>\n",
       "      <td>16.7</td>\n",
       "      <td>Underweight</td>\n",
       "    </tr>\n",
       "    <tr>\n",
       "      <th>18</th>\n",
       "      <td>20</td>\n",
       "      <td>58</td>\n",
       "      <td>Male</td>\n",
       "      <td>210</td>\n",
       "      <td>110</td>\n",
       "      <td>34.2</td>\n",
       "      <td>Obese</td>\n",
       "    </tr>\n",
       "    <tr>\n",
       "      <th>19</th>\n",
       "      <td>21</td>\n",
       "      <td>63</td>\n",
       "      <td>Female</td>\n",
       "      <td>120</td>\n",
       "      <td>30</td>\n",
       "      <td>13.3</td>\n",
       "      <td>Underweight</td>\n",
       "    </tr>\n",
       "  </tbody>\n",
       "</table>\n",
       "</div>"
      ],
      "text/plain": [
       "    ID  Age  Gender  Height  Weight   BMI          Label\n",
       "0    1   25    Male     175      80  25.3  Normal Weight\n",
       "1    2   30  Female     160      60  22.5  Normal Weight\n",
       "2    3   35    Male     180      90  27.3     Overweight\n",
       "3    4   40  Female     150      50  20.0    Underweight\n",
       "4    5   45    Male     190     100  31.2          Obese\n",
       "5    6   50  Female     140      40  16.7    Underweight\n",
       "6    7   55    Male     200     110  34.2          Obese\n",
       "7    8   60  Female     130      30  13.3    Underweight\n",
       "8    9   65    Male     210     120  37.2          Obese\n",
       "9   10   70  Female     120      20  10.0    Underweight\n",
       "10  11   18    Male     175      70  23.4  Normal Weight\n",
       "11  12   23  Female     160      50  20.0    Underweight\n",
       "12  13   28    Male     180      80  25.3  Normal Weight\n",
       "13  14   33  Female     150      60  22.5  Normal Weight\n",
       "14  15   38    Male     190      90  27.3     Overweight\n",
       "15  16   43  Female     140      50  20.0    Underweight\n",
       "16  17   48    Male     200     100  31.2          Obese\n",
       "17  19   53  Female     130      40  16.7    Underweight\n",
       "18  20   58    Male     210     110  34.2          Obese\n",
       "19  21   63  Female     120      30  13.3    Underweight"
      ]
     },
     "execution_count": 139,
     "metadata": {},
     "output_type": "execute_result"
    }
   ],
   "source": [
    "df.head(20)"
   ]
  },
  {
   "cell_type": "code",
   "execution_count": 140,
   "metadata": {},
   "outputs": [
    {
     "data": {
      "text/html": [
       "<div>\n",
       "<style scoped>\n",
       "    .dataframe tbody tr th:only-of-type {\n",
       "        vertical-align: middle;\n",
       "    }\n",
       "\n",
       "    .dataframe tbody tr th {\n",
       "        vertical-align: top;\n",
       "    }\n",
       "\n",
       "    .dataframe thead th {\n",
       "        text-align: right;\n",
       "    }\n",
       "</style>\n",
       "<table border=\"1\" class=\"dataframe\">\n",
       "  <thead>\n",
       "    <tr style=\"text-align: right;\">\n",
       "      <th></th>\n",
       "      <th>ID</th>\n",
       "      <th>Age</th>\n",
       "      <th>Height</th>\n",
       "      <th>Weight</th>\n",
       "      <th>BMI</th>\n",
       "    </tr>\n",
       "  </thead>\n",
       "  <tbody>\n",
       "    <tr>\n",
       "      <th>count</th>\n",
       "      <td>108.000000</td>\n",
       "      <td>108.000000</td>\n",
       "      <td>108.000000</td>\n",
       "      <td>108.000000</td>\n",
       "      <td>108.000000</td>\n",
       "    </tr>\n",
       "    <tr>\n",
       "      <th>mean</th>\n",
       "      <td>56.046296</td>\n",
       "      <td>46.555556</td>\n",
       "      <td>166.574074</td>\n",
       "      <td>59.490741</td>\n",
       "      <td>20.549074</td>\n",
       "    </tr>\n",
       "    <tr>\n",
       "      <th>std</th>\n",
       "      <td>31.917939</td>\n",
       "      <td>24.720620</td>\n",
       "      <td>27.873615</td>\n",
       "      <td>28.856233</td>\n",
       "      <td>7.583818</td>\n",
       "    </tr>\n",
       "    <tr>\n",
       "      <th>min</th>\n",
       "      <td>1.000000</td>\n",
       "      <td>11.000000</td>\n",
       "      <td>120.000000</td>\n",
       "      <td>10.000000</td>\n",
       "      <td>3.900000</td>\n",
       "    </tr>\n",
       "    <tr>\n",
       "      <th>25%</th>\n",
       "      <td>28.750000</td>\n",
       "      <td>27.000000</td>\n",
       "      <td>140.000000</td>\n",
       "      <td>35.000000</td>\n",
       "      <td>16.700000</td>\n",
       "    </tr>\n",
       "    <tr>\n",
       "      <th>50%</th>\n",
       "      <td>56.500000</td>\n",
       "      <td>42.500000</td>\n",
       "      <td>175.000000</td>\n",
       "      <td>55.000000</td>\n",
       "      <td>21.200000</td>\n",
       "    </tr>\n",
       "    <tr>\n",
       "      <th>75%</th>\n",
       "      <td>83.250000</td>\n",
       "      <td>59.250000</td>\n",
       "      <td>190.000000</td>\n",
       "      <td>85.000000</td>\n",
       "      <td>26.100000</td>\n",
       "    </tr>\n",
       "    <tr>\n",
       "      <th>max</th>\n",
       "      <td>110.000000</td>\n",
       "      <td>112.000000</td>\n",
       "      <td>210.000000</td>\n",
       "      <td>120.000000</td>\n",
       "      <td>37.200000</td>\n",
       "    </tr>\n",
       "  </tbody>\n",
       "</table>\n",
       "</div>"
      ],
      "text/plain": [
       "               ID         Age      Height      Weight         BMI\n",
       "count  108.000000  108.000000  108.000000  108.000000  108.000000\n",
       "mean    56.046296   46.555556  166.574074   59.490741   20.549074\n",
       "std     31.917939   24.720620   27.873615   28.856233    7.583818\n",
       "min      1.000000   11.000000  120.000000   10.000000    3.900000\n",
       "25%     28.750000   27.000000  140.000000   35.000000   16.700000\n",
       "50%     56.500000   42.500000  175.000000   55.000000   21.200000\n",
       "75%     83.250000   59.250000  190.000000   85.000000   26.100000\n",
       "max    110.000000  112.000000  210.000000  120.000000   37.200000"
      ]
     },
     "execution_count": 140,
     "metadata": {},
     "output_type": "execute_result"
    }
   ],
   "source": [
    "df.describe()"
   ]
  },
  {
   "cell_type": "code",
   "execution_count": 141,
   "metadata": {},
   "outputs": [
    {
     "data": {
      "text/plain": [
       "ID        108\n",
       "Age        75\n",
       "Gender      2\n",
       "Height     10\n",
       "Weight     23\n",
       "BMI        25\n",
       "Label       4\n",
       "dtype: int64"
      ]
     },
     "execution_count": 141,
     "metadata": {},
     "output_type": "execute_result"
    }
   ],
   "source": [
    "df.nunique()"
   ]
  },
  {
   "cell_type": "markdown",
   "metadata": {},
   "source": [
    "Ağırlık ve BMI arasında yüksek bir korelasyon var."
   ]
  },
  {
   "cell_type": "code",
   "execution_count": 146,
   "metadata": {},
   "outputs": [
    {
     "data": {
      "application/vnd.plotly.v1+json": {
       "config": {
        "plotlyServerURL": "https://plot.ly"
       },
       "data": [
        {
         "alignmentgroup": "True",
         "bingroup": "x",
         "hovertemplate": "Gender=Male<br>Age=%{x}<br>count=%{y}<extra></extra>",
         "legendgroup": "Male",
         "marker": {
          "color": "blue",
          "pattern": {
           "shape": ""
          }
         },
         "name": "Male",
         "offsetgroup": "Male",
         "orientation": "v",
         "showlegend": true,
         "type": "histogram",
         "x": [
          25,
          35,
          45,
          55,
          65,
          18,
          28,
          38,
          48,
          58,
          68,
          78,
          88,
          98,
          108,
          19,
          29,
          39,
          49,
          59,
          17,
          27,
          37,
          47,
          57,
          67,
          77,
          87,
          97,
          107,
          16,
          26,
          36,
          46,
          56,
          15,
          25,
          35,
          45,
          55,
          14,
          24,
          34,
          13,
          23,
          33,
          43,
          53,
          12,
          22,
          32,
          42,
          52,
          11,
          21,
          31
         ],
         "xaxis": "x",
         "yaxis": "y"
        },
        {
         "alignmentgroup": "True",
         "bingroup": "x",
         "hovertemplate": "Gender=Female<br>Age=%{x}<br>count=%{y}<extra></extra>",
         "legendgroup": "Female",
         "marker": {
          "color": "pink",
          "pattern": {
           "shape": ""
          }
         },
         "name": "Female",
         "offsetgroup": "Female",
         "orientation": "v",
         "showlegend": true,
         "type": "histogram",
         "x": [
          30,
          40,
          50,
          60,
          70,
          23,
          33,
          43,
          53,
          63,
          73,
          83,
          93,
          103,
          24,
          44,
          54,
          64,
          22,
          32,
          42,
          52,
          62,
          72,
          82,
          92,
          102,
          112,
          21,
          31,
          41,
          51,
          61,
          20,
          30,
          40,
          50,
          60,
          19,
          29,
          18,
          28,
          38,
          48,
          58,
          17,
          27,
          37,
          47,
          57,
          16,
          26
         ],
         "xaxis": "x2",
         "yaxis": "y2"
        }
       ],
       "layout": {
        "annotations": [
         {
          "font": {},
          "showarrow": false,
          "text": "Gender=Male",
          "x": 0.245,
          "xanchor": "center",
          "xref": "paper",
          "y": 1,
          "yanchor": "bottom",
          "yref": "paper"
         },
         {
          "font": {},
          "showarrow": false,
          "text": "Gender=Female",
          "x": 0.755,
          "xanchor": "center",
          "xref": "paper",
          "y": 1,
          "yanchor": "bottom",
          "yref": "paper"
         }
        ],
        "barmode": "relative",
        "legend": {
         "title": {
          "text": "Gender"
         },
         "tracegroupgap": 0
        },
        "template": {
         "data": {
          "bar": [
           {
            "error_x": {
             "color": "#2a3f5f"
            },
            "error_y": {
             "color": "#2a3f5f"
            },
            "marker": {
             "line": {
              "color": "#E5ECF6",
              "width": 0.5
             },
             "pattern": {
              "fillmode": "overlay",
              "size": 10,
              "solidity": 0.2
             }
            },
            "type": "bar"
           }
          ],
          "barpolar": [
           {
            "marker": {
             "line": {
              "color": "#E5ECF6",
              "width": 0.5
             },
             "pattern": {
              "fillmode": "overlay",
              "size": 10,
              "solidity": 0.2
             }
            },
            "type": "barpolar"
           }
          ],
          "carpet": [
           {
            "aaxis": {
             "endlinecolor": "#2a3f5f",
             "gridcolor": "white",
             "linecolor": "white",
             "minorgridcolor": "white",
             "startlinecolor": "#2a3f5f"
            },
            "baxis": {
             "endlinecolor": "#2a3f5f",
             "gridcolor": "white",
             "linecolor": "white",
             "minorgridcolor": "white",
             "startlinecolor": "#2a3f5f"
            },
            "type": "carpet"
           }
          ],
          "choropleth": [
           {
            "colorbar": {
             "outlinewidth": 0,
             "ticks": ""
            },
            "type": "choropleth"
           }
          ],
          "contour": [
           {
            "colorbar": {
             "outlinewidth": 0,
             "ticks": ""
            },
            "colorscale": [
             [
              0,
              "#0d0887"
             ],
             [
              0.1111111111111111,
              "#46039f"
             ],
             [
              0.2222222222222222,
              "#7201a8"
             ],
             [
              0.3333333333333333,
              "#9c179e"
             ],
             [
              0.4444444444444444,
              "#bd3786"
             ],
             [
              0.5555555555555556,
              "#d8576b"
             ],
             [
              0.6666666666666666,
              "#ed7953"
             ],
             [
              0.7777777777777778,
              "#fb9f3a"
             ],
             [
              0.8888888888888888,
              "#fdca26"
             ],
             [
              1,
              "#f0f921"
             ]
            ],
            "type": "contour"
           }
          ],
          "contourcarpet": [
           {
            "colorbar": {
             "outlinewidth": 0,
             "ticks": ""
            },
            "type": "contourcarpet"
           }
          ],
          "heatmap": [
           {
            "colorbar": {
             "outlinewidth": 0,
             "ticks": ""
            },
            "colorscale": [
             [
              0,
              "#0d0887"
             ],
             [
              0.1111111111111111,
              "#46039f"
             ],
             [
              0.2222222222222222,
              "#7201a8"
             ],
             [
              0.3333333333333333,
              "#9c179e"
             ],
             [
              0.4444444444444444,
              "#bd3786"
             ],
             [
              0.5555555555555556,
              "#d8576b"
             ],
             [
              0.6666666666666666,
              "#ed7953"
             ],
             [
              0.7777777777777778,
              "#fb9f3a"
             ],
             [
              0.8888888888888888,
              "#fdca26"
             ],
             [
              1,
              "#f0f921"
             ]
            ],
            "type": "heatmap"
           }
          ],
          "heatmapgl": [
           {
            "colorbar": {
             "outlinewidth": 0,
             "ticks": ""
            },
            "colorscale": [
             [
              0,
              "#0d0887"
             ],
             [
              0.1111111111111111,
              "#46039f"
             ],
             [
              0.2222222222222222,
              "#7201a8"
             ],
             [
              0.3333333333333333,
              "#9c179e"
             ],
             [
              0.4444444444444444,
              "#bd3786"
             ],
             [
              0.5555555555555556,
              "#d8576b"
             ],
             [
              0.6666666666666666,
              "#ed7953"
             ],
             [
              0.7777777777777778,
              "#fb9f3a"
             ],
             [
              0.8888888888888888,
              "#fdca26"
             ],
             [
              1,
              "#f0f921"
             ]
            ],
            "type": "heatmapgl"
           }
          ],
          "histogram": [
           {
            "marker": {
             "pattern": {
              "fillmode": "overlay",
              "size": 10,
              "solidity": 0.2
             }
            },
            "type": "histogram"
           }
          ],
          "histogram2d": [
           {
            "colorbar": {
             "outlinewidth": 0,
             "ticks": ""
            },
            "colorscale": [
             [
              0,
              "#0d0887"
             ],
             [
              0.1111111111111111,
              "#46039f"
             ],
             [
              0.2222222222222222,
              "#7201a8"
             ],
             [
              0.3333333333333333,
              "#9c179e"
             ],
             [
              0.4444444444444444,
              "#bd3786"
             ],
             [
              0.5555555555555556,
              "#d8576b"
             ],
             [
              0.6666666666666666,
              "#ed7953"
             ],
             [
              0.7777777777777778,
              "#fb9f3a"
             ],
             [
              0.8888888888888888,
              "#fdca26"
             ],
             [
              1,
              "#f0f921"
             ]
            ],
            "type": "histogram2d"
           }
          ],
          "histogram2dcontour": [
           {
            "colorbar": {
             "outlinewidth": 0,
             "ticks": ""
            },
            "colorscale": [
             [
              0,
              "#0d0887"
             ],
             [
              0.1111111111111111,
              "#46039f"
             ],
             [
              0.2222222222222222,
              "#7201a8"
             ],
             [
              0.3333333333333333,
              "#9c179e"
             ],
             [
              0.4444444444444444,
              "#bd3786"
             ],
             [
              0.5555555555555556,
              "#d8576b"
             ],
             [
              0.6666666666666666,
              "#ed7953"
             ],
             [
              0.7777777777777778,
              "#fb9f3a"
             ],
             [
              0.8888888888888888,
              "#fdca26"
             ],
             [
              1,
              "#f0f921"
             ]
            ],
            "type": "histogram2dcontour"
           }
          ],
          "mesh3d": [
           {
            "colorbar": {
             "outlinewidth": 0,
             "ticks": ""
            },
            "type": "mesh3d"
           }
          ],
          "parcoords": [
           {
            "line": {
             "colorbar": {
              "outlinewidth": 0,
              "ticks": ""
             }
            },
            "type": "parcoords"
           }
          ],
          "pie": [
           {
            "automargin": true,
            "type": "pie"
           }
          ],
          "scatter": [
           {
            "fillpattern": {
             "fillmode": "overlay",
             "size": 10,
             "solidity": 0.2
            },
            "type": "scatter"
           }
          ],
          "scatter3d": [
           {
            "line": {
             "colorbar": {
              "outlinewidth": 0,
              "ticks": ""
             }
            },
            "marker": {
             "colorbar": {
              "outlinewidth": 0,
              "ticks": ""
             }
            },
            "type": "scatter3d"
           }
          ],
          "scattercarpet": [
           {
            "marker": {
             "colorbar": {
              "outlinewidth": 0,
              "ticks": ""
             }
            },
            "type": "scattercarpet"
           }
          ],
          "scattergeo": [
           {
            "marker": {
             "colorbar": {
              "outlinewidth": 0,
              "ticks": ""
             }
            },
            "type": "scattergeo"
           }
          ],
          "scattergl": [
           {
            "marker": {
             "colorbar": {
              "outlinewidth": 0,
              "ticks": ""
             }
            },
            "type": "scattergl"
           }
          ],
          "scattermapbox": [
           {
            "marker": {
             "colorbar": {
              "outlinewidth": 0,
              "ticks": ""
             }
            },
            "type": "scattermapbox"
           }
          ],
          "scatterpolar": [
           {
            "marker": {
             "colorbar": {
              "outlinewidth": 0,
              "ticks": ""
             }
            },
            "type": "scatterpolar"
           }
          ],
          "scatterpolargl": [
           {
            "marker": {
             "colorbar": {
              "outlinewidth": 0,
              "ticks": ""
             }
            },
            "type": "scatterpolargl"
           }
          ],
          "scatterternary": [
           {
            "marker": {
             "colorbar": {
              "outlinewidth": 0,
              "ticks": ""
             }
            },
            "type": "scatterternary"
           }
          ],
          "surface": [
           {
            "colorbar": {
             "outlinewidth": 0,
             "ticks": ""
            },
            "colorscale": [
             [
              0,
              "#0d0887"
             ],
             [
              0.1111111111111111,
              "#46039f"
             ],
             [
              0.2222222222222222,
              "#7201a8"
             ],
             [
              0.3333333333333333,
              "#9c179e"
             ],
             [
              0.4444444444444444,
              "#bd3786"
             ],
             [
              0.5555555555555556,
              "#d8576b"
             ],
             [
              0.6666666666666666,
              "#ed7953"
             ],
             [
              0.7777777777777778,
              "#fb9f3a"
             ],
             [
              0.8888888888888888,
              "#fdca26"
             ],
             [
              1,
              "#f0f921"
             ]
            ],
            "type": "surface"
           }
          ],
          "table": [
           {
            "cells": {
             "fill": {
              "color": "#EBF0F8"
             },
             "line": {
              "color": "white"
             }
            },
            "header": {
             "fill": {
              "color": "#C8D4E3"
             },
             "line": {
              "color": "white"
             }
            },
            "type": "table"
           }
          ]
         },
         "layout": {
          "annotationdefaults": {
           "arrowcolor": "#2a3f5f",
           "arrowhead": 0,
           "arrowwidth": 1
          },
          "autotypenumbers": "strict",
          "coloraxis": {
           "colorbar": {
            "outlinewidth": 0,
            "ticks": ""
           }
          },
          "colorscale": {
           "diverging": [
            [
             0,
             "#8e0152"
            ],
            [
             0.1,
             "#c51b7d"
            ],
            [
             0.2,
             "#de77ae"
            ],
            [
             0.3,
             "#f1b6da"
            ],
            [
             0.4,
             "#fde0ef"
            ],
            [
             0.5,
             "#f7f7f7"
            ],
            [
             0.6,
             "#e6f5d0"
            ],
            [
             0.7,
             "#b8e186"
            ],
            [
             0.8,
             "#7fbc41"
            ],
            [
             0.9,
             "#4d9221"
            ],
            [
             1,
             "#276419"
            ]
           ],
           "sequential": [
            [
             0,
             "#0d0887"
            ],
            [
             0.1111111111111111,
             "#46039f"
            ],
            [
             0.2222222222222222,
             "#7201a8"
            ],
            [
             0.3333333333333333,
             "#9c179e"
            ],
            [
             0.4444444444444444,
             "#bd3786"
            ],
            [
             0.5555555555555556,
             "#d8576b"
            ],
            [
             0.6666666666666666,
             "#ed7953"
            ],
            [
             0.7777777777777778,
             "#fb9f3a"
            ],
            [
             0.8888888888888888,
             "#fdca26"
            ],
            [
             1,
             "#f0f921"
            ]
           ],
           "sequentialminus": [
            [
             0,
             "#0d0887"
            ],
            [
             0.1111111111111111,
             "#46039f"
            ],
            [
             0.2222222222222222,
             "#7201a8"
            ],
            [
             0.3333333333333333,
             "#9c179e"
            ],
            [
             0.4444444444444444,
             "#bd3786"
            ],
            [
             0.5555555555555556,
             "#d8576b"
            ],
            [
             0.6666666666666666,
             "#ed7953"
            ],
            [
             0.7777777777777778,
             "#fb9f3a"
            ],
            [
             0.8888888888888888,
             "#fdca26"
            ],
            [
             1,
             "#f0f921"
            ]
           ]
          },
          "colorway": [
           "#636efa",
           "#EF553B",
           "#00cc96",
           "#ab63fa",
           "#FFA15A",
           "#19d3f3",
           "#FF6692",
           "#B6E880",
           "#FF97FF",
           "#FECB52"
          ],
          "font": {
           "color": "#2a3f5f"
          },
          "geo": {
           "bgcolor": "white",
           "lakecolor": "white",
           "landcolor": "#E5ECF6",
           "showlakes": true,
           "showland": true,
           "subunitcolor": "white"
          },
          "hoverlabel": {
           "align": "left"
          },
          "hovermode": "closest",
          "mapbox": {
           "style": "light"
          },
          "paper_bgcolor": "white",
          "plot_bgcolor": "#E5ECF6",
          "polar": {
           "angularaxis": {
            "gridcolor": "white",
            "linecolor": "white",
            "ticks": ""
           },
           "bgcolor": "#E5ECF6",
           "radialaxis": {
            "gridcolor": "white",
            "linecolor": "white",
            "ticks": ""
           }
          },
          "scene": {
           "xaxis": {
            "backgroundcolor": "#E5ECF6",
            "gridcolor": "white",
            "gridwidth": 2,
            "linecolor": "white",
            "showbackground": true,
            "ticks": "",
            "zerolinecolor": "white"
           },
           "yaxis": {
            "backgroundcolor": "#E5ECF6",
            "gridcolor": "white",
            "gridwidth": 2,
            "linecolor": "white",
            "showbackground": true,
            "ticks": "",
            "zerolinecolor": "white"
           },
           "zaxis": {
            "backgroundcolor": "#E5ECF6",
            "gridcolor": "white",
            "gridwidth": 2,
            "linecolor": "white",
            "showbackground": true,
            "ticks": "",
            "zerolinecolor": "white"
           }
          },
          "shapedefaults": {
           "line": {
            "color": "#2a3f5f"
           }
          },
          "ternary": {
           "aaxis": {
            "gridcolor": "white",
            "linecolor": "white",
            "ticks": ""
           },
           "baxis": {
            "gridcolor": "white",
            "linecolor": "white",
            "ticks": ""
           },
           "bgcolor": "#E5ECF6",
           "caxis": {
            "gridcolor": "white",
            "linecolor": "white",
            "ticks": ""
           }
          },
          "title": {
           "x": 0.05
          },
          "xaxis": {
           "automargin": true,
           "gridcolor": "white",
           "linecolor": "white",
           "ticks": "",
           "title": {
            "standoff": 15
           },
           "zerolinecolor": "white",
           "zerolinewidth": 2
          },
          "yaxis": {
           "automargin": true,
           "gridcolor": "white",
           "linecolor": "white",
           "ticks": "",
           "title": {
            "standoff": 15
           },
           "zerolinecolor": "white",
           "zerolinewidth": 2
          }
         }
        },
        "title": {
         "text": "Age Distribution"
        },
        "xaxis": {
         "anchor": "y",
         "domain": [
          0,
          0.49
         ],
         "title": {
          "text": "Age"
         }
        },
        "xaxis2": {
         "anchor": "y2",
         "domain": [
          0.51,
          1
         ],
         "matches": "x",
         "title": {
          "text": "Age"
         }
        },
        "yaxis": {
         "anchor": "x",
         "domain": [
          0,
          1
         ],
         "title": {
          "text": "count"
         }
        },
        "yaxis2": {
         "anchor": "x2",
         "domain": [
          0,
          1
         ],
         "matches": "y",
         "showticklabels": false
        }
       }
      }
     },
     "metadata": {},
     "output_type": "display_data"
    }
   ],
   "source": [
    "df = pd.DataFrame(df)\n",
    "\n",
    "# Histogram çizimi\n",
    "fig = px.histogram(data_frame=df, x='Age', color='Gender', facet_col='Gender',\n",
    "                   title='Age Distribution', color_discrete_sequence=['blue', 'pink'])\n",
    "\n",
    "fig.show()"
   ]
  },
  {
   "cell_type": "markdown",
   "metadata": {},
   "source": [
    "Erkek ve Kadın arasındaki yaş oranı benzerlik göstermektedir.\n",
    "Çoğunlukla 10 ila 60 yaş arası insanlar var."
   ]
  },
  {
   "cell_type": "code",
   "execution_count": 92,
   "metadata": {},
   "outputs": [
    {
     "data": {
      "application/vnd.plotly.v1+json": {
       "config": {
        "plotlyServerURL": "https://plot.ly"
       },
       "data": [
        {
         "branchvalues": "total",
         "domain": {
          "x": [
           0,
           1
          ],
          "y": [
           0,
           1
          ]
         },
         "hovertemplate": "labels=%{label}<br>value=%{value}<br>parent=%{parent}<br>id=%{id}<extra></extra>",
         "ids": [
          "Female/Normal Weight",
          "Male/Normal Weight",
          "Male/Obese",
          "Female/Overweight",
          "Male/Overweight",
          "Female/Underweight",
          "Male/Underweight",
          "Female",
          "Male"
         ],
         "labels": [
          "Normal Weight",
          "Normal Weight",
          "Obese",
          "Overweight",
          "Overweight",
          "Underweight",
          "Underweight",
          "Female",
          "Male"
         ],
         "name": "",
         "parents": [
          "Female",
          "Male",
          "Male",
          "Female",
          "Male",
          "Female",
          "Male",
          "",
          ""
         ],
         "type": "sunburst",
         "values": [
          12,
          17,
          12,
          8,
          12,
          32,
          15,
          52,
          56
         ]
        }
       ],
       "layout": {
        "legend": {
         "tracegroupgap": 0
        },
        "margin": {
         "t": 60
        },
        "sunburstcolorway": [
         "pink",
         "blue"
        ],
        "template": {
         "data": {
          "bar": [
           {
            "error_x": {
             "color": "#2a3f5f"
            },
            "error_y": {
             "color": "#2a3f5f"
            },
            "marker": {
             "line": {
              "color": "#E5ECF6",
              "width": 0.5
             },
             "pattern": {
              "fillmode": "overlay",
              "size": 10,
              "solidity": 0.2
             }
            },
            "type": "bar"
           }
          ],
          "barpolar": [
           {
            "marker": {
             "line": {
              "color": "#E5ECF6",
              "width": 0.5
             },
             "pattern": {
              "fillmode": "overlay",
              "size": 10,
              "solidity": 0.2
             }
            },
            "type": "barpolar"
           }
          ],
          "carpet": [
           {
            "aaxis": {
             "endlinecolor": "#2a3f5f",
             "gridcolor": "white",
             "linecolor": "white",
             "minorgridcolor": "white",
             "startlinecolor": "#2a3f5f"
            },
            "baxis": {
             "endlinecolor": "#2a3f5f",
             "gridcolor": "white",
             "linecolor": "white",
             "minorgridcolor": "white",
             "startlinecolor": "#2a3f5f"
            },
            "type": "carpet"
           }
          ],
          "choropleth": [
           {
            "colorbar": {
             "outlinewidth": 0,
             "ticks": ""
            },
            "type": "choropleth"
           }
          ],
          "contour": [
           {
            "colorbar": {
             "outlinewidth": 0,
             "ticks": ""
            },
            "colorscale": [
             [
              0,
              "#0d0887"
             ],
             [
              0.1111111111111111,
              "#46039f"
             ],
             [
              0.2222222222222222,
              "#7201a8"
             ],
             [
              0.3333333333333333,
              "#9c179e"
             ],
             [
              0.4444444444444444,
              "#bd3786"
             ],
             [
              0.5555555555555556,
              "#d8576b"
             ],
             [
              0.6666666666666666,
              "#ed7953"
             ],
             [
              0.7777777777777778,
              "#fb9f3a"
             ],
             [
              0.8888888888888888,
              "#fdca26"
             ],
             [
              1,
              "#f0f921"
             ]
            ],
            "type": "contour"
           }
          ],
          "contourcarpet": [
           {
            "colorbar": {
             "outlinewidth": 0,
             "ticks": ""
            },
            "type": "contourcarpet"
           }
          ],
          "heatmap": [
           {
            "colorbar": {
             "outlinewidth": 0,
             "ticks": ""
            },
            "colorscale": [
             [
              0,
              "#0d0887"
             ],
             [
              0.1111111111111111,
              "#46039f"
             ],
             [
              0.2222222222222222,
              "#7201a8"
             ],
             [
              0.3333333333333333,
              "#9c179e"
             ],
             [
              0.4444444444444444,
              "#bd3786"
             ],
             [
              0.5555555555555556,
              "#d8576b"
             ],
             [
              0.6666666666666666,
              "#ed7953"
             ],
             [
              0.7777777777777778,
              "#fb9f3a"
             ],
             [
              0.8888888888888888,
              "#fdca26"
             ],
             [
              1,
              "#f0f921"
             ]
            ],
            "type": "heatmap"
           }
          ],
          "heatmapgl": [
           {
            "colorbar": {
             "outlinewidth": 0,
             "ticks": ""
            },
            "colorscale": [
             [
              0,
              "#0d0887"
             ],
             [
              0.1111111111111111,
              "#46039f"
             ],
             [
              0.2222222222222222,
              "#7201a8"
             ],
             [
              0.3333333333333333,
              "#9c179e"
             ],
             [
              0.4444444444444444,
              "#bd3786"
             ],
             [
              0.5555555555555556,
              "#d8576b"
             ],
             [
              0.6666666666666666,
              "#ed7953"
             ],
             [
              0.7777777777777778,
              "#fb9f3a"
             ],
             [
              0.8888888888888888,
              "#fdca26"
             ],
             [
              1,
              "#f0f921"
             ]
            ],
            "type": "heatmapgl"
           }
          ],
          "histogram": [
           {
            "marker": {
             "pattern": {
              "fillmode": "overlay",
              "size": 10,
              "solidity": 0.2
             }
            },
            "type": "histogram"
           }
          ],
          "histogram2d": [
           {
            "colorbar": {
             "outlinewidth": 0,
             "ticks": ""
            },
            "colorscale": [
             [
              0,
              "#0d0887"
             ],
             [
              0.1111111111111111,
              "#46039f"
             ],
             [
              0.2222222222222222,
              "#7201a8"
             ],
             [
              0.3333333333333333,
              "#9c179e"
             ],
             [
              0.4444444444444444,
              "#bd3786"
             ],
             [
              0.5555555555555556,
              "#d8576b"
             ],
             [
              0.6666666666666666,
              "#ed7953"
             ],
             [
              0.7777777777777778,
              "#fb9f3a"
             ],
             [
              0.8888888888888888,
              "#fdca26"
             ],
             [
              1,
              "#f0f921"
             ]
            ],
            "type": "histogram2d"
           }
          ],
          "histogram2dcontour": [
           {
            "colorbar": {
             "outlinewidth": 0,
             "ticks": ""
            },
            "colorscale": [
             [
              0,
              "#0d0887"
             ],
             [
              0.1111111111111111,
              "#46039f"
             ],
             [
              0.2222222222222222,
              "#7201a8"
             ],
             [
              0.3333333333333333,
              "#9c179e"
             ],
             [
              0.4444444444444444,
              "#bd3786"
             ],
             [
              0.5555555555555556,
              "#d8576b"
             ],
             [
              0.6666666666666666,
              "#ed7953"
             ],
             [
              0.7777777777777778,
              "#fb9f3a"
             ],
             [
              0.8888888888888888,
              "#fdca26"
             ],
             [
              1,
              "#f0f921"
             ]
            ],
            "type": "histogram2dcontour"
           }
          ],
          "mesh3d": [
           {
            "colorbar": {
             "outlinewidth": 0,
             "ticks": ""
            },
            "type": "mesh3d"
           }
          ],
          "parcoords": [
           {
            "line": {
             "colorbar": {
              "outlinewidth": 0,
              "ticks": ""
             }
            },
            "type": "parcoords"
           }
          ],
          "pie": [
           {
            "automargin": true,
            "type": "pie"
           }
          ],
          "scatter": [
           {
            "fillpattern": {
             "fillmode": "overlay",
             "size": 10,
             "solidity": 0.2
            },
            "type": "scatter"
           }
          ],
          "scatter3d": [
           {
            "line": {
             "colorbar": {
              "outlinewidth": 0,
              "ticks": ""
             }
            },
            "marker": {
             "colorbar": {
              "outlinewidth": 0,
              "ticks": ""
             }
            },
            "type": "scatter3d"
           }
          ],
          "scattercarpet": [
           {
            "marker": {
             "colorbar": {
              "outlinewidth": 0,
              "ticks": ""
             }
            },
            "type": "scattercarpet"
           }
          ],
          "scattergeo": [
           {
            "marker": {
             "colorbar": {
              "outlinewidth": 0,
              "ticks": ""
             }
            },
            "type": "scattergeo"
           }
          ],
          "scattergl": [
           {
            "marker": {
             "colorbar": {
              "outlinewidth": 0,
              "ticks": ""
             }
            },
            "type": "scattergl"
           }
          ],
          "scattermapbox": [
           {
            "marker": {
             "colorbar": {
              "outlinewidth": 0,
              "ticks": ""
             }
            },
            "type": "scattermapbox"
           }
          ],
          "scatterpolar": [
           {
            "marker": {
             "colorbar": {
              "outlinewidth": 0,
              "ticks": ""
             }
            },
            "type": "scatterpolar"
           }
          ],
          "scatterpolargl": [
           {
            "marker": {
             "colorbar": {
              "outlinewidth": 0,
              "ticks": ""
             }
            },
            "type": "scatterpolargl"
           }
          ],
          "scatterternary": [
           {
            "marker": {
             "colorbar": {
              "outlinewidth": 0,
              "ticks": ""
             }
            },
            "type": "scatterternary"
           }
          ],
          "surface": [
           {
            "colorbar": {
             "outlinewidth": 0,
             "ticks": ""
            },
            "colorscale": [
             [
              0,
              "#0d0887"
             ],
             [
              0.1111111111111111,
              "#46039f"
             ],
             [
              0.2222222222222222,
              "#7201a8"
             ],
             [
              0.3333333333333333,
              "#9c179e"
             ],
             [
              0.4444444444444444,
              "#bd3786"
             ],
             [
              0.5555555555555556,
              "#d8576b"
             ],
             [
              0.6666666666666666,
              "#ed7953"
             ],
             [
              0.7777777777777778,
              "#fb9f3a"
             ],
             [
              0.8888888888888888,
              "#fdca26"
             ],
             [
              1,
              "#f0f921"
             ]
            ],
            "type": "surface"
           }
          ],
          "table": [
           {
            "cells": {
             "fill": {
              "color": "#EBF0F8"
             },
             "line": {
              "color": "white"
             }
            },
            "header": {
             "fill": {
              "color": "#C8D4E3"
             },
             "line": {
              "color": "white"
             }
            },
            "type": "table"
           }
          ]
         },
         "layout": {
          "annotationdefaults": {
           "arrowcolor": "#2a3f5f",
           "arrowhead": 0,
           "arrowwidth": 1
          },
          "autotypenumbers": "strict",
          "coloraxis": {
           "colorbar": {
            "outlinewidth": 0,
            "ticks": ""
           }
          },
          "colorscale": {
           "diverging": [
            [
             0,
             "#8e0152"
            ],
            [
             0.1,
             "#c51b7d"
            ],
            [
             0.2,
             "#de77ae"
            ],
            [
             0.3,
             "#f1b6da"
            ],
            [
             0.4,
             "#fde0ef"
            ],
            [
             0.5,
             "#f7f7f7"
            ],
            [
             0.6,
             "#e6f5d0"
            ],
            [
             0.7,
             "#b8e186"
            ],
            [
             0.8,
             "#7fbc41"
            ],
            [
             0.9,
             "#4d9221"
            ],
            [
             1,
             "#276419"
            ]
           ],
           "sequential": [
            [
             0,
             "#0d0887"
            ],
            [
             0.1111111111111111,
             "#46039f"
            ],
            [
             0.2222222222222222,
             "#7201a8"
            ],
            [
             0.3333333333333333,
             "#9c179e"
            ],
            [
             0.4444444444444444,
             "#bd3786"
            ],
            [
             0.5555555555555556,
             "#d8576b"
            ],
            [
             0.6666666666666666,
             "#ed7953"
            ],
            [
             0.7777777777777778,
             "#fb9f3a"
            ],
            [
             0.8888888888888888,
             "#fdca26"
            ],
            [
             1,
             "#f0f921"
            ]
           ],
           "sequentialminus": [
            [
             0,
             "#0d0887"
            ],
            [
             0.1111111111111111,
             "#46039f"
            ],
            [
             0.2222222222222222,
             "#7201a8"
            ],
            [
             0.3333333333333333,
             "#9c179e"
            ],
            [
             0.4444444444444444,
             "#bd3786"
            ],
            [
             0.5555555555555556,
             "#d8576b"
            ],
            [
             0.6666666666666666,
             "#ed7953"
            ],
            [
             0.7777777777777778,
             "#fb9f3a"
            ],
            [
             0.8888888888888888,
             "#fdca26"
            ],
            [
             1,
             "#f0f921"
            ]
           ]
          },
          "colorway": [
           "#636efa",
           "#EF553B",
           "#00cc96",
           "#ab63fa",
           "#FFA15A",
           "#19d3f3",
           "#FF6692",
           "#B6E880",
           "#FF97FF",
           "#FECB52"
          ],
          "font": {
           "color": "#2a3f5f"
          },
          "geo": {
           "bgcolor": "white",
           "lakecolor": "white",
           "landcolor": "#E5ECF6",
           "showlakes": true,
           "showland": true,
           "subunitcolor": "white"
          },
          "hoverlabel": {
           "align": "left"
          },
          "hovermode": "closest",
          "mapbox": {
           "style": "light"
          },
          "paper_bgcolor": "white",
          "plot_bgcolor": "#E5ECF6",
          "polar": {
           "angularaxis": {
            "gridcolor": "white",
            "linecolor": "white",
            "ticks": ""
           },
           "bgcolor": "#E5ECF6",
           "radialaxis": {
            "gridcolor": "white",
            "linecolor": "white",
            "ticks": ""
           }
          },
          "scene": {
           "xaxis": {
            "backgroundcolor": "#E5ECF6",
            "gridcolor": "white",
            "gridwidth": 2,
            "linecolor": "white",
            "showbackground": true,
            "ticks": "",
            "zerolinecolor": "white"
           },
           "yaxis": {
            "backgroundcolor": "#E5ECF6",
            "gridcolor": "white",
            "gridwidth": 2,
            "linecolor": "white",
            "showbackground": true,
            "ticks": "",
            "zerolinecolor": "white"
           },
           "zaxis": {
            "backgroundcolor": "#E5ECF6",
            "gridcolor": "white",
            "gridwidth": 2,
            "linecolor": "white",
            "showbackground": true,
            "ticks": "",
            "zerolinecolor": "white"
           }
          },
          "shapedefaults": {
           "line": {
            "color": "#2a3f5f"
           }
          },
          "ternary": {
           "aaxis": {
            "gridcolor": "white",
            "linecolor": "white",
            "ticks": ""
           },
           "baxis": {
            "gridcolor": "white",
            "linecolor": "white",
            "ticks": ""
           },
           "bgcolor": "#E5ECF6",
           "caxis": {
            "gridcolor": "white",
            "linecolor": "white",
            "ticks": ""
           }
          },
          "title": {
           "x": 0.05
          },
          "xaxis": {
           "automargin": true,
           "gridcolor": "white",
           "linecolor": "white",
           "ticks": "",
           "title": {
            "standoff": 15
           },
           "zerolinecolor": "white",
           "zerolinewidth": 2
          },
          "yaxis": {
           "automargin": true,
           "gridcolor": "white",
           "linecolor": "white",
           "ticks": "",
           "title": {
            "standoff": 15
           },
           "zerolinecolor": "white",
           "zerolinewidth": 2
          }
         }
        }
       }
      }
     },
     "metadata": {},
     "output_type": "display_data"
    }
   ],
   "source": [
    "fig=px.sunburst(df,path=['Gender','Label'],values=df.value_counts().values,color_discrete_sequence=['pink','blue'])\n",
    "fig.show()"
   ]
  },
  {
   "cell_type": "markdown",
   "metadata": {},
   "source": [
    "Cinsiyet dağılımı bakıldığında eşit gözükmektedir.\n",
    "Kadınların yarısından fazlası zayıftır ve Kadınlar grubunda Obez bulunmamaktadır."
   ]
  },
  {
   "cell_type": "code",
   "execution_count": 150,
   "metadata": {},
   "outputs": [
    {
     "data": {
      "application/vnd.plotly.v1+json": {
       "config": {
        "plotlyServerURL": "https://plot.ly"
       },
       "data": [
        {
         "alignmentgroup": "True",
         "bingroup": "x",
         "hovertemplate": "Gender=Male<br>Age=%{x}<br>count=%{y}<extra></extra>",
         "legendgroup": "Male",
         "marker": {
          "color": "blue",
          "pattern": {
           "shape": ""
          }
         },
         "name": "Male",
         "offsetgroup": "Male",
         "orientation": "v",
         "showlegend": true,
         "type": "histogram",
         "x": [
          25,
          35,
          45,
          55,
          65,
          18,
          28,
          38,
          48,
          58,
          68,
          78,
          88,
          98,
          108,
          19,
          29,
          39,
          49,
          59,
          17,
          27,
          37,
          47,
          57,
          67,
          77,
          87,
          97,
          107,
          16,
          26,
          36,
          46,
          56,
          15,
          25,
          35,
          45,
          55,
          14,
          24,
          34,
          13,
          23,
          33,
          43,
          53,
          12,
          22,
          32,
          42,
          52,
          11,
          21,
          31
         ],
         "xaxis": "x",
         "yaxis": "y"
        },
        {
         "alignmentgroup": "True",
         "bingroup": "x",
         "hovertemplate": "Gender=Female<br>Age=%{x}<br>count=%{y}<extra></extra>",
         "legendgroup": "Female",
         "marker": {
          "color": "pink",
          "pattern": {
           "shape": ""
          }
         },
         "name": "Female",
         "offsetgroup": "Female",
         "orientation": "v",
         "showlegend": true,
         "type": "histogram",
         "x": [
          30,
          40,
          50,
          60,
          70,
          23,
          33,
          43,
          53,
          63,
          73,
          83,
          93,
          103,
          24,
          44,
          54,
          64,
          22,
          32,
          42,
          52,
          62,
          72,
          82,
          92,
          102,
          112,
          21,
          31,
          41,
          51,
          61,
          20,
          30,
          40,
          50,
          60,
          19,
          29,
          18,
          28,
          38,
          48,
          58,
          17,
          27,
          37,
          47,
          57,
          16,
          26
         ],
         "xaxis": "x2",
         "yaxis": "y2"
        }
       ],
       "layout": {
        "annotations": [
         {
          "font": {},
          "showarrow": false,
          "text": "Gender=Male",
          "x": 0.245,
          "xanchor": "center",
          "xref": "paper",
          "y": 1,
          "yanchor": "bottom",
          "yref": "paper"
         },
         {
          "font": {},
          "showarrow": false,
          "text": "Gender=Female",
          "x": 0.755,
          "xanchor": "center",
          "xref": "paper",
          "y": 1,
          "yanchor": "bottom",
          "yref": "paper"
         }
        ],
        "barmode": "relative",
        "legend": {
         "title": {
          "text": "Gender"
         },
         "tracegroupgap": 0
        },
        "showlegend": false,
        "template": {
         "data": {
          "bar": [
           {
            "error_x": {
             "color": "#2a3f5f"
            },
            "error_y": {
             "color": "#2a3f5f"
            },
            "marker": {
             "line": {
              "color": "#E5ECF6",
              "width": 0.5
             },
             "pattern": {
              "fillmode": "overlay",
              "size": 10,
              "solidity": 0.2
             }
            },
            "type": "bar"
           }
          ],
          "barpolar": [
           {
            "marker": {
             "line": {
              "color": "#E5ECF6",
              "width": 0.5
             },
             "pattern": {
              "fillmode": "overlay",
              "size": 10,
              "solidity": 0.2
             }
            },
            "type": "barpolar"
           }
          ],
          "carpet": [
           {
            "aaxis": {
             "endlinecolor": "#2a3f5f",
             "gridcolor": "white",
             "linecolor": "white",
             "minorgridcolor": "white",
             "startlinecolor": "#2a3f5f"
            },
            "baxis": {
             "endlinecolor": "#2a3f5f",
             "gridcolor": "white",
             "linecolor": "white",
             "minorgridcolor": "white",
             "startlinecolor": "#2a3f5f"
            },
            "type": "carpet"
           }
          ],
          "choropleth": [
           {
            "colorbar": {
             "outlinewidth": 0,
             "ticks": ""
            },
            "type": "choropleth"
           }
          ],
          "contour": [
           {
            "colorbar": {
             "outlinewidth": 0,
             "ticks": ""
            },
            "colorscale": [
             [
              0,
              "#0d0887"
             ],
             [
              0.1111111111111111,
              "#46039f"
             ],
             [
              0.2222222222222222,
              "#7201a8"
             ],
             [
              0.3333333333333333,
              "#9c179e"
             ],
             [
              0.4444444444444444,
              "#bd3786"
             ],
             [
              0.5555555555555556,
              "#d8576b"
             ],
             [
              0.6666666666666666,
              "#ed7953"
             ],
             [
              0.7777777777777778,
              "#fb9f3a"
             ],
             [
              0.8888888888888888,
              "#fdca26"
             ],
             [
              1,
              "#f0f921"
             ]
            ],
            "type": "contour"
           }
          ],
          "contourcarpet": [
           {
            "colorbar": {
             "outlinewidth": 0,
             "ticks": ""
            },
            "type": "contourcarpet"
           }
          ],
          "heatmap": [
           {
            "colorbar": {
             "outlinewidth": 0,
             "ticks": ""
            },
            "colorscale": [
             [
              0,
              "#0d0887"
             ],
             [
              0.1111111111111111,
              "#46039f"
             ],
             [
              0.2222222222222222,
              "#7201a8"
             ],
             [
              0.3333333333333333,
              "#9c179e"
             ],
             [
              0.4444444444444444,
              "#bd3786"
             ],
             [
              0.5555555555555556,
              "#d8576b"
             ],
             [
              0.6666666666666666,
              "#ed7953"
             ],
             [
              0.7777777777777778,
              "#fb9f3a"
             ],
             [
              0.8888888888888888,
              "#fdca26"
             ],
             [
              1,
              "#f0f921"
             ]
            ],
            "type": "heatmap"
           }
          ],
          "heatmapgl": [
           {
            "colorbar": {
             "outlinewidth": 0,
             "ticks": ""
            },
            "colorscale": [
             [
              0,
              "#0d0887"
             ],
             [
              0.1111111111111111,
              "#46039f"
             ],
             [
              0.2222222222222222,
              "#7201a8"
             ],
             [
              0.3333333333333333,
              "#9c179e"
             ],
             [
              0.4444444444444444,
              "#bd3786"
             ],
             [
              0.5555555555555556,
              "#d8576b"
             ],
             [
              0.6666666666666666,
              "#ed7953"
             ],
             [
              0.7777777777777778,
              "#fb9f3a"
             ],
             [
              0.8888888888888888,
              "#fdca26"
             ],
             [
              1,
              "#f0f921"
             ]
            ],
            "type": "heatmapgl"
           }
          ],
          "histogram": [
           {
            "marker": {
             "pattern": {
              "fillmode": "overlay",
              "size": 10,
              "solidity": 0.2
             }
            },
            "type": "histogram"
           }
          ],
          "histogram2d": [
           {
            "colorbar": {
             "outlinewidth": 0,
             "ticks": ""
            },
            "colorscale": [
             [
              0,
              "#0d0887"
             ],
             [
              0.1111111111111111,
              "#46039f"
             ],
             [
              0.2222222222222222,
              "#7201a8"
             ],
             [
              0.3333333333333333,
              "#9c179e"
             ],
             [
              0.4444444444444444,
              "#bd3786"
             ],
             [
              0.5555555555555556,
              "#d8576b"
             ],
             [
              0.6666666666666666,
              "#ed7953"
             ],
             [
              0.7777777777777778,
              "#fb9f3a"
             ],
             [
              0.8888888888888888,
              "#fdca26"
             ],
             [
              1,
              "#f0f921"
             ]
            ],
            "type": "histogram2d"
           }
          ],
          "histogram2dcontour": [
           {
            "colorbar": {
             "outlinewidth": 0,
             "ticks": ""
            },
            "colorscale": [
             [
              0,
              "#0d0887"
             ],
             [
              0.1111111111111111,
              "#46039f"
             ],
             [
              0.2222222222222222,
              "#7201a8"
             ],
             [
              0.3333333333333333,
              "#9c179e"
             ],
             [
              0.4444444444444444,
              "#bd3786"
             ],
             [
              0.5555555555555556,
              "#d8576b"
             ],
             [
              0.6666666666666666,
              "#ed7953"
             ],
             [
              0.7777777777777778,
              "#fb9f3a"
             ],
             [
              0.8888888888888888,
              "#fdca26"
             ],
             [
              1,
              "#f0f921"
             ]
            ],
            "type": "histogram2dcontour"
           }
          ],
          "mesh3d": [
           {
            "colorbar": {
             "outlinewidth": 0,
             "ticks": ""
            },
            "type": "mesh3d"
           }
          ],
          "parcoords": [
           {
            "line": {
             "colorbar": {
              "outlinewidth": 0,
              "ticks": ""
             }
            },
            "type": "parcoords"
           }
          ],
          "pie": [
           {
            "automargin": true,
            "type": "pie"
           }
          ],
          "scatter": [
           {
            "fillpattern": {
             "fillmode": "overlay",
             "size": 10,
             "solidity": 0.2
            },
            "type": "scatter"
           }
          ],
          "scatter3d": [
           {
            "line": {
             "colorbar": {
              "outlinewidth": 0,
              "ticks": ""
             }
            },
            "marker": {
             "colorbar": {
              "outlinewidth": 0,
              "ticks": ""
             }
            },
            "type": "scatter3d"
           }
          ],
          "scattercarpet": [
           {
            "marker": {
             "colorbar": {
              "outlinewidth": 0,
              "ticks": ""
             }
            },
            "type": "scattercarpet"
           }
          ],
          "scattergeo": [
           {
            "marker": {
             "colorbar": {
              "outlinewidth": 0,
              "ticks": ""
             }
            },
            "type": "scattergeo"
           }
          ],
          "scattergl": [
           {
            "marker": {
             "colorbar": {
              "outlinewidth": 0,
              "ticks": ""
             }
            },
            "type": "scattergl"
           }
          ],
          "scattermapbox": [
           {
            "marker": {
             "colorbar": {
              "outlinewidth": 0,
              "ticks": ""
             }
            },
            "type": "scattermapbox"
           }
          ],
          "scatterpolar": [
           {
            "marker": {
             "colorbar": {
              "outlinewidth": 0,
              "ticks": ""
             }
            },
            "type": "scatterpolar"
           }
          ],
          "scatterpolargl": [
           {
            "marker": {
             "colorbar": {
              "outlinewidth": 0,
              "ticks": ""
             }
            },
            "type": "scatterpolargl"
           }
          ],
          "scatterternary": [
           {
            "marker": {
             "colorbar": {
              "outlinewidth": 0,
              "ticks": ""
             }
            },
            "type": "scatterternary"
           }
          ],
          "surface": [
           {
            "colorbar": {
             "outlinewidth": 0,
             "ticks": ""
            },
            "colorscale": [
             [
              0,
              "#0d0887"
             ],
             [
              0.1111111111111111,
              "#46039f"
             ],
             [
              0.2222222222222222,
              "#7201a8"
             ],
             [
              0.3333333333333333,
              "#9c179e"
             ],
             [
              0.4444444444444444,
              "#bd3786"
             ],
             [
              0.5555555555555556,
              "#d8576b"
             ],
             [
              0.6666666666666666,
              "#ed7953"
             ],
             [
              0.7777777777777778,
              "#fb9f3a"
             ],
             [
              0.8888888888888888,
              "#fdca26"
             ],
             [
              1,
              "#f0f921"
             ]
            ],
            "type": "surface"
           }
          ],
          "table": [
           {
            "cells": {
             "fill": {
              "color": "#EBF0F8"
             },
             "line": {
              "color": "white"
             }
            },
            "header": {
             "fill": {
              "color": "#C8D4E3"
             },
             "line": {
              "color": "white"
             }
            },
            "type": "table"
           }
          ]
         },
         "layout": {
          "annotationdefaults": {
           "arrowcolor": "#2a3f5f",
           "arrowhead": 0,
           "arrowwidth": 1
          },
          "autotypenumbers": "strict",
          "coloraxis": {
           "colorbar": {
            "outlinewidth": 0,
            "ticks": ""
           }
          },
          "colorscale": {
           "diverging": [
            [
             0,
             "#8e0152"
            ],
            [
             0.1,
             "#c51b7d"
            ],
            [
             0.2,
             "#de77ae"
            ],
            [
             0.3,
             "#f1b6da"
            ],
            [
             0.4,
             "#fde0ef"
            ],
            [
             0.5,
             "#f7f7f7"
            ],
            [
             0.6,
             "#e6f5d0"
            ],
            [
             0.7,
             "#b8e186"
            ],
            [
             0.8,
             "#7fbc41"
            ],
            [
             0.9,
             "#4d9221"
            ],
            [
             1,
             "#276419"
            ]
           ],
           "sequential": [
            [
             0,
             "#0d0887"
            ],
            [
             0.1111111111111111,
             "#46039f"
            ],
            [
             0.2222222222222222,
             "#7201a8"
            ],
            [
             0.3333333333333333,
             "#9c179e"
            ],
            [
             0.4444444444444444,
             "#bd3786"
            ],
            [
             0.5555555555555556,
             "#d8576b"
            ],
            [
             0.6666666666666666,
             "#ed7953"
            ],
            [
             0.7777777777777778,
             "#fb9f3a"
            ],
            [
             0.8888888888888888,
             "#fdca26"
            ],
            [
             1,
             "#f0f921"
            ]
           ],
           "sequentialminus": [
            [
             0,
             "#0d0887"
            ],
            [
             0.1111111111111111,
             "#46039f"
            ],
            [
             0.2222222222222222,
             "#7201a8"
            ],
            [
             0.3333333333333333,
             "#9c179e"
            ],
            [
             0.4444444444444444,
             "#bd3786"
            ],
            [
             0.5555555555555556,
             "#d8576b"
            ],
            [
             0.6666666666666666,
             "#ed7953"
            ],
            [
             0.7777777777777778,
             "#fb9f3a"
            ],
            [
             0.8888888888888888,
             "#fdca26"
            ],
            [
             1,
             "#f0f921"
            ]
           ]
          },
          "colorway": [
           "#636efa",
           "#EF553B",
           "#00cc96",
           "#ab63fa",
           "#FFA15A",
           "#19d3f3",
           "#FF6692",
           "#B6E880",
           "#FF97FF",
           "#FECB52"
          ],
          "font": {
           "color": "#2a3f5f"
          },
          "geo": {
           "bgcolor": "white",
           "lakecolor": "white",
           "landcolor": "#E5ECF6",
           "showlakes": true,
           "showland": true,
           "subunitcolor": "white"
          },
          "hoverlabel": {
           "align": "left"
          },
          "hovermode": "closest",
          "mapbox": {
           "style": "light"
          },
          "paper_bgcolor": "white",
          "plot_bgcolor": "#E5ECF6",
          "polar": {
           "angularaxis": {
            "gridcolor": "white",
            "linecolor": "white",
            "ticks": ""
           },
           "bgcolor": "#E5ECF6",
           "radialaxis": {
            "gridcolor": "white",
            "linecolor": "white",
            "ticks": ""
           }
          },
          "scene": {
           "xaxis": {
            "backgroundcolor": "#E5ECF6",
            "gridcolor": "white",
            "gridwidth": 2,
            "linecolor": "white",
            "showbackground": true,
            "ticks": "",
            "zerolinecolor": "white"
           },
           "yaxis": {
            "backgroundcolor": "#E5ECF6",
            "gridcolor": "white",
            "gridwidth": 2,
            "linecolor": "white",
            "showbackground": true,
            "ticks": "",
            "zerolinecolor": "white"
           },
           "zaxis": {
            "backgroundcolor": "#E5ECF6",
            "gridcolor": "white",
            "gridwidth": 2,
            "linecolor": "white",
            "showbackground": true,
            "ticks": "",
            "zerolinecolor": "white"
           }
          },
          "shapedefaults": {
           "line": {
            "color": "#2a3f5f"
           }
          },
          "ternary": {
           "aaxis": {
            "gridcolor": "white",
            "linecolor": "white",
            "ticks": ""
           },
           "baxis": {
            "gridcolor": "white",
            "linecolor": "white",
            "ticks": ""
           },
           "bgcolor": "#E5ECF6",
           "caxis": {
            "gridcolor": "white",
            "linecolor": "white",
            "ticks": ""
           }
          },
          "title": {
           "x": 0.05
          },
          "xaxis": {
           "automargin": true,
           "gridcolor": "white",
           "linecolor": "white",
           "ticks": "",
           "title": {
            "standoff": 15
           },
           "zerolinecolor": "white",
           "zerolinewidth": 2
          },
          "yaxis": {
           "automargin": true,
           "gridcolor": "white",
           "linecolor": "white",
           "ticks": "",
           "title": {
            "standoff": 15
           },
           "zerolinecolor": "white",
           "zerolinewidth": 2
          }
         }
        },
        "title": {
         "text": "Age Distribution"
        },
        "xaxis": {
         "anchor": "y",
         "domain": [
          0,
          0.49
         ],
         "title": {
          "text": "Age"
         }
        },
        "xaxis2": {
         "anchor": "y2",
         "domain": [
          0.51,
          1
         ],
         "matches": "x",
         "title": {
          "text": "Age"
         }
        },
        "yaxis": {
         "anchor": "x",
         "domain": [
          0,
          1
         ],
         "title": {
          "text": "count"
         }
        },
        "yaxis2": {
         "anchor": "x2",
         "domain": [
          0,
          1
         ],
         "matches": "y",
         "showticklabels": false
        }
       }
      }
     },
     "metadata": {},
     "output_type": "display_data"
    },
    {
     "data": {
      "application/vnd.plotly.v1+json": {
       "config": {
        "plotlyServerURL": "https://plot.ly"
       },
       "data": [
        {
         "alignmentgroup": "True",
         "bingroup": "x",
         "hovertemplate": "Label=%{x}<br>count=%{y}<extra></extra>",
         "legendgroup": "Normal Weight",
         "marker": {
          "color": "blue",
          "pattern": {
           "shape": ""
          }
         },
         "name": "Normal Weight",
         "offsetgroup": "Normal Weight",
         "orientation": "v",
         "showlegend": true,
         "type": "histogram",
         "x": [
          "Normal Weight",
          "Normal Weight",
          "Normal Weight",
          "Normal Weight",
          "Normal Weight",
          "Normal Weight",
          "Normal Weight",
          "Normal Weight",
          "Normal Weight",
          "Normal Weight",
          "Normal Weight",
          "Normal Weight",
          "Normal Weight",
          "Normal Weight",
          "Normal Weight",
          "Normal Weight",
          "Normal Weight",
          "Normal Weight",
          "Normal Weight",
          "Normal Weight",
          "Normal Weight",
          "Normal Weight",
          "Normal Weight",
          "Normal Weight",
          "Normal Weight",
          "Normal Weight",
          "Normal Weight",
          "Normal Weight",
          "Normal Weight"
         ],
         "xaxis": "x",
         "yaxis": "y"
        },
        {
         "alignmentgroup": "True",
         "bingroup": "x",
         "hovertemplate": "Label=%{x}<br>count=%{y}<extra></extra>",
         "legendgroup": "Overweight",
         "marker": {
          "color": "pink",
          "pattern": {
           "shape": ""
          }
         },
         "name": "Overweight",
         "offsetgroup": "Overweight",
         "orientation": "v",
         "showlegend": true,
         "type": "histogram",
         "x": [
          "Overweight",
          "Overweight",
          "Overweight",
          "Overweight",
          "Overweight",
          "Overweight",
          "Overweight",
          "Overweight",
          "Overweight",
          "Overweight",
          "Overweight",
          "Overweight",
          "Overweight",
          "Overweight",
          "Overweight",
          "Overweight",
          "Overweight",
          "Overweight",
          "Overweight",
          "Overweight"
         ],
         "xaxis": "x",
         "yaxis": "y"
        },
        {
         "alignmentgroup": "True",
         "bingroup": "x",
         "hovertemplate": "Label=%{x}<br>count=%{y}<extra></extra>",
         "legendgroup": "Underweight",
         "marker": {
          "color": "blue",
          "pattern": {
           "shape": ""
          }
         },
         "name": "Underweight",
         "offsetgroup": "Underweight",
         "orientation": "v",
         "showlegend": true,
         "type": "histogram",
         "x": [
          "Underweight",
          "Underweight",
          "Underweight",
          "Underweight",
          "Underweight",
          "Underweight",
          "Underweight",
          "Underweight",
          "Underweight",
          "Underweight",
          "Underweight",
          "Underweight",
          "Underweight",
          "Underweight",
          "Underweight",
          "Underweight",
          "Underweight",
          "Underweight",
          "Underweight",
          "Underweight",
          "Underweight",
          "Underweight",
          "Underweight",
          "Underweight",
          "Underweight",
          "Underweight",
          "Underweight",
          "Underweight",
          "Underweight",
          "Underweight",
          "Underweight",
          "Underweight",
          "Underweight",
          "Underweight",
          "Underweight",
          "Underweight",
          "Underweight",
          "Underweight",
          "Underweight",
          "Underweight",
          "Underweight",
          "Underweight",
          "Underweight",
          "Underweight",
          "Underweight",
          "Underweight",
          "Underweight"
         ],
         "xaxis": "x",
         "yaxis": "y"
        },
        {
         "alignmentgroup": "True",
         "bingroup": "x",
         "hovertemplate": "Label=%{x}<br>count=%{y}<extra></extra>",
         "legendgroup": "Obese",
         "marker": {
          "color": "pink",
          "pattern": {
           "shape": ""
          }
         },
         "name": "Obese",
         "offsetgroup": "Obese",
         "orientation": "v",
         "showlegend": true,
         "type": "histogram",
         "x": [
          "Obese",
          "Obese",
          "Obese",
          "Obese",
          "Obese",
          "Obese",
          "Obese",
          "Obese",
          "Obese",
          "Obese",
          "Obese",
          "Obese"
         ],
         "xaxis": "x",
         "yaxis": "y"
        }
       ],
       "layout": {
        "barmode": "relative",
        "legend": {
         "title": {
          "text": "Label"
         },
         "tracegroupgap": 0
        },
        "template": {
         "data": {
          "bar": [
           {
            "error_x": {
             "color": "#2a3f5f"
            },
            "error_y": {
             "color": "#2a3f5f"
            },
            "marker": {
             "line": {
              "color": "#E5ECF6",
              "width": 0.5
             },
             "pattern": {
              "fillmode": "overlay",
              "size": 10,
              "solidity": 0.2
             }
            },
            "type": "bar"
           }
          ],
          "barpolar": [
           {
            "marker": {
             "line": {
              "color": "#E5ECF6",
              "width": 0.5
             },
             "pattern": {
              "fillmode": "overlay",
              "size": 10,
              "solidity": 0.2
             }
            },
            "type": "barpolar"
           }
          ],
          "carpet": [
           {
            "aaxis": {
             "endlinecolor": "#2a3f5f",
             "gridcolor": "white",
             "linecolor": "white",
             "minorgridcolor": "white",
             "startlinecolor": "#2a3f5f"
            },
            "baxis": {
             "endlinecolor": "#2a3f5f",
             "gridcolor": "white",
             "linecolor": "white",
             "minorgridcolor": "white",
             "startlinecolor": "#2a3f5f"
            },
            "type": "carpet"
           }
          ],
          "choropleth": [
           {
            "colorbar": {
             "outlinewidth": 0,
             "ticks": ""
            },
            "type": "choropleth"
           }
          ],
          "contour": [
           {
            "colorbar": {
             "outlinewidth": 0,
             "ticks": ""
            },
            "colorscale": [
             [
              0,
              "#0d0887"
             ],
             [
              0.1111111111111111,
              "#46039f"
             ],
             [
              0.2222222222222222,
              "#7201a8"
             ],
             [
              0.3333333333333333,
              "#9c179e"
             ],
             [
              0.4444444444444444,
              "#bd3786"
             ],
             [
              0.5555555555555556,
              "#d8576b"
             ],
             [
              0.6666666666666666,
              "#ed7953"
             ],
             [
              0.7777777777777778,
              "#fb9f3a"
             ],
             [
              0.8888888888888888,
              "#fdca26"
             ],
             [
              1,
              "#f0f921"
             ]
            ],
            "type": "contour"
           }
          ],
          "contourcarpet": [
           {
            "colorbar": {
             "outlinewidth": 0,
             "ticks": ""
            },
            "type": "contourcarpet"
           }
          ],
          "heatmap": [
           {
            "colorbar": {
             "outlinewidth": 0,
             "ticks": ""
            },
            "colorscale": [
             [
              0,
              "#0d0887"
             ],
             [
              0.1111111111111111,
              "#46039f"
             ],
             [
              0.2222222222222222,
              "#7201a8"
             ],
             [
              0.3333333333333333,
              "#9c179e"
             ],
             [
              0.4444444444444444,
              "#bd3786"
             ],
             [
              0.5555555555555556,
              "#d8576b"
             ],
             [
              0.6666666666666666,
              "#ed7953"
             ],
             [
              0.7777777777777778,
              "#fb9f3a"
             ],
             [
              0.8888888888888888,
              "#fdca26"
             ],
             [
              1,
              "#f0f921"
             ]
            ],
            "type": "heatmap"
           }
          ],
          "heatmapgl": [
           {
            "colorbar": {
             "outlinewidth": 0,
             "ticks": ""
            },
            "colorscale": [
             [
              0,
              "#0d0887"
             ],
             [
              0.1111111111111111,
              "#46039f"
             ],
             [
              0.2222222222222222,
              "#7201a8"
             ],
             [
              0.3333333333333333,
              "#9c179e"
             ],
             [
              0.4444444444444444,
              "#bd3786"
             ],
             [
              0.5555555555555556,
              "#d8576b"
             ],
             [
              0.6666666666666666,
              "#ed7953"
             ],
             [
              0.7777777777777778,
              "#fb9f3a"
             ],
             [
              0.8888888888888888,
              "#fdca26"
             ],
             [
              1,
              "#f0f921"
             ]
            ],
            "type": "heatmapgl"
           }
          ],
          "histogram": [
           {
            "marker": {
             "pattern": {
              "fillmode": "overlay",
              "size": 10,
              "solidity": 0.2
             }
            },
            "type": "histogram"
           }
          ],
          "histogram2d": [
           {
            "colorbar": {
             "outlinewidth": 0,
             "ticks": ""
            },
            "colorscale": [
             [
              0,
              "#0d0887"
             ],
             [
              0.1111111111111111,
              "#46039f"
             ],
             [
              0.2222222222222222,
              "#7201a8"
             ],
             [
              0.3333333333333333,
              "#9c179e"
             ],
             [
              0.4444444444444444,
              "#bd3786"
             ],
             [
              0.5555555555555556,
              "#d8576b"
             ],
             [
              0.6666666666666666,
              "#ed7953"
             ],
             [
              0.7777777777777778,
              "#fb9f3a"
             ],
             [
              0.8888888888888888,
              "#fdca26"
             ],
             [
              1,
              "#f0f921"
             ]
            ],
            "type": "histogram2d"
           }
          ],
          "histogram2dcontour": [
           {
            "colorbar": {
             "outlinewidth": 0,
             "ticks": ""
            },
            "colorscale": [
             [
              0,
              "#0d0887"
             ],
             [
              0.1111111111111111,
              "#46039f"
             ],
             [
              0.2222222222222222,
              "#7201a8"
             ],
             [
              0.3333333333333333,
              "#9c179e"
             ],
             [
              0.4444444444444444,
              "#bd3786"
             ],
             [
              0.5555555555555556,
              "#d8576b"
             ],
             [
              0.6666666666666666,
              "#ed7953"
             ],
             [
              0.7777777777777778,
              "#fb9f3a"
             ],
             [
              0.8888888888888888,
              "#fdca26"
             ],
             [
              1,
              "#f0f921"
             ]
            ],
            "type": "histogram2dcontour"
           }
          ],
          "mesh3d": [
           {
            "colorbar": {
             "outlinewidth": 0,
             "ticks": ""
            },
            "type": "mesh3d"
           }
          ],
          "parcoords": [
           {
            "line": {
             "colorbar": {
              "outlinewidth": 0,
              "ticks": ""
             }
            },
            "type": "parcoords"
           }
          ],
          "pie": [
           {
            "automargin": true,
            "type": "pie"
           }
          ],
          "scatter": [
           {
            "fillpattern": {
             "fillmode": "overlay",
             "size": 10,
             "solidity": 0.2
            },
            "type": "scatter"
           }
          ],
          "scatter3d": [
           {
            "line": {
             "colorbar": {
              "outlinewidth": 0,
              "ticks": ""
             }
            },
            "marker": {
             "colorbar": {
              "outlinewidth": 0,
              "ticks": ""
             }
            },
            "type": "scatter3d"
           }
          ],
          "scattercarpet": [
           {
            "marker": {
             "colorbar": {
              "outlinewidth": 0,
              "ticks": ""
             }
            },
            "type": "scattercarpet"
           }
          ],
          "scattergeo": [
           {
            "marker": {
             "colorbar": {
              "outlinewidth": 0,
              "ticks": ""
             }
            },
            "type": "scattergeo"
           }
          ],
          "scattergl": [
           {
            "marker": {
             "colorbar": {
              "outlinewidth": 0,
              "ticks": ""
             }
            },
            "type": "scattergl"
           }
          ],
          "scattermapbox": [
           {
            "marker": {
             "colorbar": {
              "outlinewidth": 0,
              "ticks": ""
             }
            },
            "type": "scattermapbox"
           }
          ],
          "scatterpolar": [
           {
            "marker": {
             "colorbar": {
              "outlinewidth": 0,
              "ticks": ""
             }
            },
            "type": "scatterpolar"
           }
          ],
          "scatterpolargl": [
           {
            "marker": {
             "colorbar": {
              "outlinewidth": 0,
              "ticks": ""
             }
            },
            "type": "scatterpolargl"
           }
          ],
          "scatterternary": [
           {
            "marker": {
             "colorbar": {
              "outlinewidth": 0,
              "ticks": ""
             }
            },
            "type": "scatterternary"
           }
          ],
          "surface": [
           {
            "colorbar": {
             "outlinewidth": 0,
             "ticks": ""
            },
            "colorscale": [
             [
              0,
              "#0d0887"
             ],
             [
              0.1111111111111111,
              "#46039f"
             ],
             [
              0.2222222222222222,
              "#7201a8"
             ],
             [
              0.3333333333333333,
              "#9c179e"
             ],
             [
              0.4444444444444444,
              "#bd3786"
             ],
             [
              0.5555555555555556,
              "#d8576b"
             ],
             [
              0.6666666666666666,
              "#ed7953"
             ],
             [
              0.7777777777777778,
              "#fb9f3a"
             ],
             [
              0.8888888888888888,
              "#fdca26"
             ],
             [
              1,
              "#f0f921"
             ]
            ],
            "type": "surface"
           }
          ],
          "table": [
           {
            "cells": {
             "fill": {
              "color": "#EBF0F8"
             },
             "line": {
              "color": "white"
             }
            },
            "header": {
             "fill": {
              "color": "#C8D4E3"
             },
             "line": {
              "color": "white"
             }
            },
            "type": "table"
           }
          ]
         },
         "layout": {
          "annotationdefaults": {
           "arrowcolor": "#2a3f5f",
           "arrowhead": 0,
           "arrowwidth": 1
          },
          "autotypenumbers": "strict",
          "coloraxis": {
           "colorbar": {
            "outlinewidth": 0,
            "ticks": ""
           }
          },
          "colorscale": {
           "diverging": [
            [
             0,
             "#8e0152"
            ],
            [
             0.1,
             "#c51b7d"
            ],
            [
             0.2,
             "#de77ae"
            ],
            [
             0.3,
             "#f1b6da"
            ],
            [
             0.4,
             "#fde0ef"
            ],
            [
             0.5,
             "#f7f7f7"
            ],
            [
             0.6,
             "#e6f5d0"
            ],
            [
             0.7,
             "#b8e186"
            ],
            [
             0.8,
             "#7fbc41"
            ],
            [
             0.9,
             "#4d9221"
            ],
            [
             1,
             "#276419"
            ]
           ],
           "sequential": [
            [
             0,
             "#0d0887"
            ],
            [
             0.1111111111111111,
             "#46039f"
            ],
            [
             0.2222222222222222,
             "#7201a8"
            ],
            [
             0.3333333333333333,
             "#9c179e"
            ],
            [
             0.4444444444444444,
             "#bd3786"
            ],
            [
             0.5555555555555556,
             "#d8576b"
            ],
            [
             0.6666666666666666,
             "#ed7953"
            ],
            [
             0.7777777777777778,
             "#fb9f3a"
            ],
            [
             0.8888888888888888,
             "#fdca26"
            ],
            [
             1,
             "#f0f921"
            ]
           ],
           "sequentialminus": [
            [
             0,
             "#0d0887"
            ],
            [
             0.1111111111111111,
             "#46039f"
            ],
            [
             0.2222222222222222,
             "#7201a8"
            ],
            [
             0.3333333333333333,
             "#9c179e"
            ],
            [
             0.4444444444444444,
             "#bd3786"
            ],
            [
             0.5555555555555556,
             "#d8576b"
            ],
            [
             0.6666666666666666,
             "#ed7953"
            ],
            [
             0.7777777777777778,
             "#fb9f3a"
            ],
            [
             0.8888888888888888,
             "#fdca26"
            ],
            [
             1,
             "#f0f921"
            ]
           ]
          },
          "colorway": [
           "#636efa",
           "#EF553B",
           "#00cc96",
           "#ab63fa",
           "#FFA15A",
           "#19d3f3",
           "#FF6692",
           "#B6E880",
           "#FF97FF",
           "#FECB52"
          ],
          "font": {
           "color": "#2a3f5f"
          },
          "geo": {
           "bgcolor": "white",
           "lakecolor": "white",
           "landcolor": "#E5ECF6",
           "showlakes": true,
           "showland": true,
           "subunitcolor": "white"
          },
          "hoverlabel": {
           "align": "left"
          },
          "hovermode": "closest",
          "mapbox": {
           "style": "light"
          },
          "paper_bgcolor": "white",
          "plot_bgcolor": "#E5ECF6",
          "polar": {
           "angularaxis": {
            "gridcolor": "white",
            "linecolor": "white",
            "ticks": ""
           },
           "bgcolor": "#E5ECF6",
           "radialaxis": {
            "gridcolor": "white",
            "linecolor": "white",
            "ticks": ""
           }
          },
          "scene": {
           "xaxis": {
            "backgroundcolor": "#E5ECF6",
            "gridcolor": "white",
            "gridwidth": 2,
            "linecolor": "white",
            "showbackground": true,
            "ticks": "",
            "zerolinecolor": "white"
           },
           "yaxis": {
            "backgroundcolor": "#E5ECF6",
            "gridcolor": "white",
            "gridwidth": 2,
            "linecolor": "white",
            "showbackground": true,
            "ticks": "",
            "zerolinecolor": "white"
           },
           "zaxis": {
            "backgroundcolor": "#E5ECF6",
            "gridcolor": "white",
            "gridwidth": 2,
            "linecolor": "white",
            "showbackground": true,
            "ticks": "",
            "zerolinecolor": "white"
           }
          },
          "shapedefaults": {
           "line": {
            "color": "#2a3f5f"
           }
          },
          "ternary": {
           "aaxis": {
            "gridcolor": "white",
            "linecolor": "white",
            "ticks": ""
           },
           "baxis": {
            "gridcolor": "white",
            "linecolor": "white",
            "ticks": ""
           },
           "bgcolor": "#E5ECF6",
           "caxis": {
            "gridcolor": "white",
            "linecolor": "white",
            "ticks": ""
           }
          },
          "title": {
           "x": 0.05
          },
          "xaxis": {
           "automargin": true,
           "gridcolor": "white",
           "linecolor": "white",
           "ticks": "",
           "title": {
            "standoff": 15
           },
           "zerolinecolor": "white",
           "zerolinewidth": 2
          },
          "yaxis": {
           "automargin": true,
           "gridcolor": "white",
           "linecolor": "white",
           "ticks": "",
           "title": {
            "standoff": 15
           },
           "zerolinecolor": "white",
           "zerolinewidth": 2
          }
         }
        },
        "title": {
         "text": "Label Distribution"
        },
        "xaxis": {
         "anchor": "y",
         "categoryarray": [
          "Normal Weight",
          "Overweight",
          "Underweight",
          "Obese"
         ],
         "categoryorder": "array",
         "domain": [
          0,
          1
         ],
         "title": {
          "text": "Label"
         }
        },
        "yaxis": {
         "anchor": "x",
         "domain": [
          0,
          1
         ],
         "title": {
          "text": "count"
         }
        }
       }
      }
     },
     "metadata": {},
     "output_type": "display_data"
    }
   ],
   "source": [
    "df = pd.DataFrame(df)\n",
    "\n",
    "# Age için histogram çizimi\n",
    "fig_age = px.histogram(data_frame=df, x='Age', color='Gender', facet_col='Gender',\n",
    "                       title='Age Distribution', color_discrete_sequence=['blue', 'pink'])\n",
    "fig_age.update_layout(showlegend=False)  # Legend'i gizle\n",
    "\n",
    "# Label için histogram çizimi\n",
    "fig_label = px.histogram(data_frame=df, x='Label', color='Label', title='Label Distribution',\n",
    "                         color_discrete_sequence=['blue', 'pink'])\n",
    "\n",
    "fig_age.show()\n",
    "fig_label.show()"
   ]
  },
  {
   "cell_type": "code",
   "execution_count": 152,
   "metadata": {},
   "outputs": [
    {
     "data": {
      "application/vnd.plotly.v1+json": {
       "config": {
        "plotlyServerURL": "https://plot.ly"
       },
       "data": [
        {
         "alignmentgroup": "True",
         "bingroup": "x",
         "hovertemplate": "Label=Normal Weight<br>Weight=%{x}<br>count=%{y}<extra></extra>",
         "legendgroup": "Normal Weight",
         "marker": {
          "color": "green",
          "pattern": {
           "shape": ""
          }
         },
         "name": "Normal Weight",
         "offsetgroup": "Normal Weight",
         "orientation": "v",
         "showlegend": true,
         "type": "histogram",
         "x": [
          80,
          60,
          70,
          80,
          60,
          80,
          60,
          75,
          55,
          65,
          75,
          55,
          65,
          65,
          75,
          55,
          65,
          55,
          65,
          75,
          55,
          65,
          55,
          65,
          75,
          60,
          70,
          55,
          55
         ],
         "xaxis": "x",
         "yaxis": "y"
        },
        {
         "alignmentgroup": "True",
         "bingroup": "x",
         "hovertemplate": "Label=Overweight<br>Weight=%{x}<br>count=%{y}<extra></extra>",
         "legendgroup": "Overweight",
         "marker": {
          "color": "yellow",
          "pattern": {
           "shape": ""
          }
         },
         "name": "Overweight",
         "offsetgroup": "Overweight",
         "orientation": "v",
         "showlegend": true,
         "type": "histogram",
         "x": [
          90,
          90,
          90,
          85,
          95,
          75,
          85,
          95,
          85,
          95,
          75,
          85,
          85,
          95,
          75,
          85,
          85,
          95,
          75,
          85
         ],
         "xaxis": "x2",
         "yaxis": "y2"
        },
        {
         "alignmentgroup": "True",
         "bingroup": "x",
         "hovertemplate": "Label=Underweight<br>Weight=%{x}<br>count=%{y}<extra></extra>",
         "legendgroup": "Underweight",
         "marker": {
          "color": "green",
          "pattern": {
           "shape": ""
          }
         },
         "name": "Underweight",
         "offsetgroup": "Underweight",
         "orientation": "v",
         "showlegend": true,
         "type": "histogram",
         "x": [
          50,
          40,
          30,
          20,
          50,
          50,
          40,
          30,
          50,
          40,
          30,
          45,
          45,
          35,
          45,
          45,
          30,
          40,
          50,
          35,
          25,
          45,
          30,
          25,
          20,
          30,
          25,
          40,
          35,
          50,
          40,
          35,
          15,
          15,
          20,
          20,
          25,
          25,
          30,
          30,
          35,
          25,
          10,
          10,
          15,
          15,
          20
         ],
         "xaxis": "x3",
         "yaxis": "y3"
        },
        {
         "alignmentgroup": "True",
         "bingroup": "x",
         "hovertemplate": "Label=Obese<br>Weight=%{x}<br>count=%{y}<extra></extra>",
         "legendgroup": "Obese",
         "marker": {
          "color": "yellow",
          "pattern": {
           "shape": ""
          }
         },
         "name": "Obese",
         "offsetgroup": "Obese",
         "orientation": "v",
         "showlegend": true,
         "type": "histogram",
         "x": [
          100,
          110,
          120,
          100,
          110,
          100,
          110,
          120,
          105,
          115,
          105,
          105
         ],
         "xaxis": "x4",
         "yaxis": "y4"
        }
       ],
       "layout": {
        "annotations": [
         {
          "font": {},
          "showarrow": false,
          "text": "Label=Normal Weight",
          "x": 0.1175,
          "xanchor": "center",
          "xref": "paper",
          "y": 1,
          "yanchor": "bottom",
          "yref": "paper"
         },
         {
          "font": {},
          "showarrow": false,
          "text": "Label=Overweight",
          "x": 0.3725,
          "xanchor": "center",
          "xref": "paper",
          "y": 1,
          "yanchor": "bottom",
          "yref": "paper"
         },
         {
          "font": {},
          "showarrow": false,
          "text": "Label=Underweight",
          "x": 0.6275,
          "xanchor": "center",
          "xref": "paper",
          "y": 1,
          "yanchor": "bottom",
          "yref": "paper"
         },
         {
          "font": {},
          "showarrow": false,
          "text": "Label=Obese",
          "x": 0.8824999999999998,
          "xanchor": "center",
          "xref": "paper",
          "y": 1,
          "yanchor": "bottom",
          "yref": "paper"
         }
        ],
        "barmode": "relative",
        "legend": {
         "title": {
          "text": "Label"
         },
         "tracegroupgap": 0
        },
        "template": {
         "data": {
          "bar": [
           {
            "error_x": {
             "color": "#2a3f5f"
            },
            "error_y": {
             "color": "#2a3f5f"
            },
            "marker": {
             "line": {
              "color": "#E5ECF6",
              "width": 0.5
             },
             "pattern": {
              "fillmode": "overlay",
              "size": 10,
              "solidity": 0.2
             }
            },
            "type": "bar"
           }
          ],
          "barpolar": [
           {
            "marker": {
             "line": {
              "color": "#E5ECF6",
              "width": 0.5
             },
             "pattern": {
              "fillmode": "overlay",
              "size": 10,
              "solidity": 0.2
             }
            },
            "type": "barpolar"
           }
          ],
          "carpet": [
           {
            "aaxis": {
             "endlinecolor": "#2a3f5f",
             "gridcolor": "white",
             "linecolor": "white",
             "minorgridcolor": "white",
             "startlinecolor": "#2a3f5f"
            },
            "baxis": {
             "endlinecolor": "#2a3f5f",
             "gridcolor": "white",
             "linecolor": "white",
             "minorgridcolor": "white",
             "startlinecolor": "#2a3f5f"
            },
            "type": "carpet"
           }
          ],
          "choropleth": [
           {
            "colorbar": {
             "outlinewidth": 0,
             "ticks": ""
            },
            "type": "choropleth"
           }
          ],
          "contour": [
           {
            "colorbar": {
             "outlinewidth": 0,
             "ticks": ""
            },
            "colorscale": [
             [
              0,
              "#0d0887"
             ],
             [
              0.1111111111111111,
              "#46039f"
             ],
             [
              0.2222222222222222,
              "#7201a8"
             ],
             [
              0.3333333333333333,
              "#9c179e"
             ],
             [
              0.4444444444444444,
              "#bd3786"
             ],
             [
              0.5555555555555556,
              "#d8576b"
             ],
             [
              0.6666666666666666,
              "#ed7953"
             ],
             [
              0.7777777777777778,
              "#fb9f3a"
             ],
             [
              0.8888888888888888,
              "#fdca26"
             ],
             [
              1,
              "#f0f921"
             ]
            ],
            "type": "contour"
           }
          ],
          "contourcarpet": [
           {
            "colorbar": {
             "outlinewidth": 0,
             "ticks": ""
            },
            "type": "contourcarpet"
           }
          ],
          "heatmap": [
           {
            "colorbar": {
             "outlinewidth": 0,
             "ticks": ""
            },
            "colorscale": [
             [
              0,
              "#0d0887"
             ],
             [
              0.1111111111111111,
              "#46039f"
             ],
             [
              0.2222222222222222,
              "#7201a8"
             ],
             [
              0.3333333333333333,
              "#9c179e"
             ],
             [
              0.4444444444444444,
              "#bd3786"
             ],
             [
              0.5555555555555556,
              "#d8576b"
             ],
             [
              0.6666666666666666,
              "#ed7953"
             ],
             [
              0.7777777777777778,
              "#fb9f3a"
             ],
             [
              0.8888888888888888,
              "#fdca26"
             ],
             [
              1,
              "#f0f921"
             ]
            ],
            "type": "heatmap"
           }
          ],
          "heatmapgl": [
           {
            "colorbar": {
             "outlinewidth": 0,
             "ticks": ""
            },
            "colorscale": [
             [
              0,
              "#0d0887"
             ],
             [
              0.1111111111111111,
              "#46039f"
             ],
             [
              0.2222222222222222,
              "#7201a8"
             ],
             [
              0.3333333333333333,
              "#9c179e"
             ],
             [
              0.4444444444444444,
              "#bd3786"
             ],
             [
              0.5555555555555556,
              "#d8576b"
             ],
             [
              0.6666666666666666,
              "#ed7953"
             ],
             [
              0.7777777777777778,
              "#fb9f3a"
             ],
             [
              0.8888888888888888,
              "#fdca26"
             ],
             [
              1,
              "#f0f921"
             ]
            ],
            "type": "heatmapgl"
           }
          ],
          "histogram": [
           {
            "marker": {
             "pattern": {
              "fillmode": "overlay",
              "size": 10,
              "solidity": 0.2
             }
            },
            "type": "histogram"
           }
          ],
          "histogram2d": [
           {
            "colorbar": {
             "outlinewidth": 0,
             "ticks": ""
            },
            "colorscale": [
             [
              0,
              "#0d0887"
             ],
             [
              0.1111111111111111,
              "#46039f"
             ],
             [
              0.2222222222222222,
              "#7201a8"
             ],
             [
              0.3333333333333333,
              "#9c179e"
             ],
             [
              0.4444444444444444,
              "#bd3786"
             ],
             [
              0.5555555555555556,
              "#d8576b"
             ],
             [
              0.6666666666666666,
              "#ed7953"
             ],
             [
              0.7777777777777778,
              "#fb9f3a"
             ],
             [
              0.8888888888888888,
              "#fdca26"
             ],
             [
              1,
              "#f0f921"
             ]
            ],
            "type": "histogram2d"
           }
          ],
          "histogram2dcontour": [
           {
            "colorbar": {
             "outlinewidth": 0,
             "ticks": ""
            },
            "colorscale": [
             [
              0,
              "#0d0887"
             ],
             [
              0.1111111111111111,
              "#46039f"
             ],
             [
              0.2222222222222222,
              "#7201a8"
             ],
             [
              0.3333333333333333,
              "#9c179e"
             ],
             [
              0.4444444444444444,
              "#bd3786"
             ],
             [
              0.5555555555555556,
              "#d8576b"
             ],
             [
              0.6666666666666666,
              "#ed7953"
             ],
             [
              0.7777777777777778,
              "#fb9f3a"
             ],
             [
              0.8888888888888888,
              "#fdca26"
             ],
             [
              1,
              "#f0f921"
             ]
            ],
            "type": "histogram2dcontour"
           }
          ],
          "mesh3d": [
           {
            "colorbar": {
             "outlinewidth": 0,
             "ticks": ""
            },
            "type": "mesh3d"
           }
          ],
          "parcoords": [
           {
            "line": {
             "colorbar": {
              "outlinewidth": 0,
              "ticks": ""
             }
            },
            "type": "parcoords"
           }
          ],
          "pie": [
           {
            "automargin": true,
            "type": "pie"
           }
          ],
          "scatter": [
           {
            "fillpattern": {
             "fillmode": "overlay",
             "size": 10,
             "solidity": 0.2
            },
            "type": "scatter"
           }
          ],
          "scatter3d": [
           {
            "line": {
             "colorbar": {
              "outlinewidth": 0,
              "ticks": ""
             }
            },
            "marker": {
             "colorbar": {
              "outlinewidth": 0,
              "ticks": ""
             }
            },
            "type": "scatter3d"
           }
          ],
          "scattercarpet": [
           {
            "marker": {
             "colorbar": {
              "outlinewidth": 0,
              "ticks": ""
             }
            },
            "type": "scattercarpet"
           }
          ],
          "scattergeo": [
           {
            "marker": {
             "colorbar": {
              "outlinewidth": 0,
              "ticks": ""
             }
            },
            "type": "scattergeo"
           }
          ],
          "scattergl": [
           {
            "marker": {
             "colorbar": {
              "outlinewidth": 0,
              "ticks": ""
             }
            },
            "type": "scattergl"
           }
          ],
          "scattermapbox": [
           {
            "marker": {
             "colorbar": {
              "outlinewidth": 0,
              "ticks": ""
             }
            },
            "type": "scattermapbox"
           }
          ],
          "scatterpolar": [
           {
            "marker": {
             "colorbar": {
              "outlinewidth": 0,
              "ticks": ""
             }
            },
            "type": "scatterpolar"
           }
          ],
          "scatterpolargl": [
           {
            "marker": {
             "colorbar": {
              "outlinewidth": 0,
              "ticks": ""
             }
            },
            "type": "scatterpolargl"
           }
          ],
          "scatterternary": [
           {
            "marker": {
             "colorbar": {
              "outlinewidth": 0,
              "ticks": ""
             }
            },
            "type": "scatterternary"
           }
          ],
          "surface": [
           {
            "colorbar": {
             "outlinewidth": 0,
             "ticks": ""
            },
            "colorscale": [
             [
              0,
              "#0d0887"
             ],
             [
              0.1111111111111111,
              "#46039f"
             ],
             [
              0.2222222222222222,
              "#7201a8"
             ],
             [
              0.3333333333333333,
              "#9c179e"
             ],
             [
              0.4444444444444444,
              "#bd3786"
             ],
             [
              0.5555555555555556,
              "#d8576b"
             ],
             [
              0.6666666666666666,
              "#ed7953"
             ],
             [
              0.7777777777777778,
              "#fb9f3a"
             ],
             [
              0.8888888888888888,
              "#fdca26"
             ],
             [
              1,
              "#f0f921"
             ]
            ],
            "type": "surface"
           }
          ],
          "table": [
           {
            "cells": {
             "fill": {
              "color": "#EBF0F8"
             },
             "line": {
              "color": "white"
             }
            },
            "header": {
             "fill": {
              "color": "#C8D4E3"
             },
             "line": {
              "color": "white"
             }
            },
            "type": "table"
           }
          ]
         },
         "layout": {
          "annotationdefaults": {
           "arrowcolor": "#2a3f5f",
           "arrowhead": 0,
           "arrowwidth": 1
          },
          "autotypenumbers": "strict",
          "coloraxis": {
           "colorbar": {
            "outlinewidth": 0,
            "ticks": ""
           }
          },
          "colorscale": {
           "diverging": [
            [
             0,
             "#8e0152"
            ],
            [
             0.1,
             "#c51b7d"
            ],
            [
             0.2,
             "#de77ae"
            ],
            [
             0.3,
             "#f1b6da"
            ],
            [
             0.4,
             "#fde0ef"
            ],
            [
             0.5,
             "#f7f7f7"
            ],
            [
             0.6,
             "#e6f5d0"
            ],
            [
             0.7,
             "#b8e186"
            ],
            [
             0.8,
             "#7fbc41"
            ],
            [
             0.9,
             "#4d9221"
            ],
            [
             1,
             "#276419"
            ]
           ],
           "sequential": [
            [
             0,
             "#0d0887"
            ],
            [
             0.1111111111111111,
             "#46039f"
            ],
            [
             0.2222222222222222,
             "#7201a8"
            ],
            [
             0.3333333333333333,
             "#9c179e"
            ],
            [
             0.4444444444444444,
             "#bd3786"
            ],
            [
             0.5555555555555556,
             "#d8576b"
            ],
            [
             0.6666666666666666,
             "#ed7953"
            ],
            [
             0.7777777777777778,
             "#fb9f3a"
            ],
            [
             0.8888888888888888,
             "#fdca26"
            ],
            [
             1,
             "#f0f921"
            ]
           ],
           "sequentialminus": [
            [
             0,
             "#0d0887"
            ],
            [
             0.1111111111111111,
             "#46039f"
            ],
            [
             0.2222222222222222,
             "#7201a8"
            ],
            [
             0.3333333333333333,
             "#9c179e"
            ],
            [
             0.4444444444444444,
             "#bd3786"
            ],
            [
             0.5555555555555556,
             "#d8576b"
            ],
            [
             0.6666666666666666,
             "#ed7953"
            ],
            [
             0.7777777777777778,
             "#fb9f3a"
            ],
            [
             0.8888888888888888,
             "#fdca26"
            ],
            [
             1,
             "#f0f921"
            ]
           ]
          },
          "colorway": [
           "#636efa",
           "#EF553B",
           "#00cc96",
           "#ab63fa",
           "#FFA15A",
           "#19d3f3",
           "#FF6692",
           "#B6E880",
           "#FF97FF",
           "#FECB52"
          ],
          "font": {
           "color": "#2a3f5f"
          },
          "geo": {
           "bgcolor": "white",
           "lakecolor": "white",
           "landcolor": "#E5ECF6",
           "showlakes": true,
           "showland": true,
           "subunitcolor": "white"
          },
          "hoverlabel": {
           "align": "left"
          },
          "hovermode": "closest",
          "mapbox": {
           "style": "light"
          },
          "paper_bgcolor": "white",
          "plot_bgcolor": "#E5ECF6",
          "polar": {
           "angularaxis": {
            "gridcolor": "white",
            "linecolor": "white",
            "ticks": ""
           },
           "bgcolor": "#E5ECF6",
           "radialaxis": {
            "gridcolor": "white",
            "linecolor": "white",
            "ticks": ""
           }
          },
          "scene": {
           "xaxis": {
            "backgroundcolor": "#E5ECF6",
            "gridcolor": "white",
            "gridwidth": 2,
            "linecolor": "white",
            "showbackground": true,
            "ticks": "",
            "zerolinecolor": "white"
           },
           "yaxis": {
            "backgroundcolor": "#E5ECF6",
            "gridcolor": "white",
            "gridwidth": 2,
            "linecolor": "white",
            "showbackground": true,
            "ticks": "",
            "zerolinecolor": "white"
           },
           "zaxis": {
            "backgroundcolor": "#E5ECF6",
            "gridcolor": "white",
            "gridwidth": 2,
            "linecolor": "white",
            "showbackground": true,
            "ticks": "",
            "zerolinecolor": "white"
           }
          },
          "shapedefaults": {
           "line": {
            "color": "#2a3f5f"
           }
          },
          "ternary": {
           "aaxis": {
            "gridcolor": "white",
            "linecolor": "white",
            "ticks": ""
           },
           "baxis": {
            "gridcolor": "white",
            "linecolor": "white",
            "ticks": ""
           },
           "bgcolor": "#E5ECF6",
           "caxis": {
            "gridcolor": "white",
            "linecolor": "white",
            "ticks": ""
           }
          },
          "title": {
           "x": 0.05
          },
          "xaxis": {
           "automargin": true,
           "gridcolor": "white",
           "linecolor": "white",
           "ticks": "",
           "title": {
            "standoff": 15
           },
           "zerolinecolor": "white",
           "zerolinewidth": 2
          },
          "yaxis": {
           "automargin": true,
           "gridcolor": "white",
           "linecolor": "white",
           "ticks": "",
           "title": {
            "standoff": 15
           },
           "zerolinecolor": "white",
           "zerolinewidth": 2
          }
         }
        },
        "title": {
         "text": "Weight Distribution by Label"
        },
        "xaxis": {
         "anchor": "y",
         "domain": [
          0,
          0.235
         ],
         "title": {
          "text": "Weight"
         }
        },
        "xaxis2": {
         "anchor": "y2",
         "domain": [
          0.255,
          0.49
         ],
         "matches": "x",
         "title": {
          "text": "Weight"
         }
        },
        "xaxis3": {
         "anchor": "y3",
         "domain": [
          0.51,
          0.745
         ],
         "matches": "x",
         "title": {
          "text": "Weight"
         }
        },
        "xaxis4": {
         "anchor": "y4",
         "domain": [
          0.7649999999999999,
          0.9999999999999999
         ],
         "matches": "x",
         "title": {
          "text": "Weight"
         }
        },
        "yaxis": {
         "anchor": "x",
         "domain": [
          0,
          1
         ],
         "title": {
          "text": "count"
         }
        },
        "yaxis2": {
         "anchor": "x2",
         "domain": [
          0,
          1
         ],
         "matches": "y",
         "showticklabels": false
        },
        "yaxis3": {
         "anchor": "x3",
         "domain": [
          0,
          1
         ],
         "matches": "y",
         "showticklabels": false
        },
        "yaxis4": {
         "anchor": "x4",
         "domain": [
          0,
          1
         ],
         "matches": "y",
         "showticklabels": false
        }
       }
      }
     },
     "metadata": {},
     "output_type": "display_data"
    }
   ],
   "source": [
    "df = pd.DataFrame(df)\n",
    "\n",
    "# Weight ve Label için histogram çizimi\n",
    "fig = px.histogram(data_frame=df, x='Weight', color='Label', facet_col='Label',\n",
    "                   title='Weight Distribution by Label', color_discrete_sequence=['green', 'yellow'])\n",
    "\n",
    "fig.show()"
   ]
  },
  {
   "cell_type": "code",
   "execution_count": 154,
   "metadata": {},
   "outputs": [
    {
     "data": {
      "application/vnd.plotly.v1+json": {
       "config": {
        "plotlyServerURL": "https://plot.ly"
       },
       "data": [
        {
         "legendgroup": "Male",
         "marker": {
          "color": "blue"
         },
         "mode": "lines",
         "name": "Male",
         "showlegend": true,
         "type": "scatter",
         "x": [
          3.9,
          3.9666,
          4.0332,
          4.0998,
          4.1664,
          4.233,
          4.2996,
          4.3662,
          4.4328,
          4.4994,
          4.566,
          4.6326,
          4.6992,
          4.7658,
          4.8324,
          4.899,
          4.9656,
          5.0322,
          5.0988,
          5.1654,
          5.232,
          5.2986,
          5.3652,
          5.4318,
          5.4984,
          5.565,
          5.6316,
          5.6982,
          5.7648,
          5.8314,
          5.898,
          5.964600000000001,
          6.0312,
          6.097799999999999,
          6.1644000000000005,
          6.231,
          6.2976,
          6.3642,
          6.4308,
          6.497400000000001,
          6.564,
          6.6306,
          6.6972000000000005,
          6.7638,
          6.830400000000001,
          6.897,
          6.9636000000000005,
          7.030200000000001,
          7.0968,
          7.163400000000001,
          7.23,
          7.2966,
          7.3632,
          7.4298,
          7.4964,
          7.563000000000001,
          7.6296,
          7.6962,
          7.7628,
          7.829400000000001,
          7.896000000000001,
          7.9626,
          8.029200000000001,
          8.0958,
          8.1624,
          8.229000000000001,
          8.2956,
          8.362200000000001,
          8.4288,
          8.4954,
          8.562000000000001,
          8.6286,
          8.6952,
          8.761800000000001,
          8.8284,
          8.895000000000001,
          8.9616,
          9.0282,
          9.094800000000001,
          9.1614,
          9.228000000000002,
          9.2946,
          9.3612,
          9.427800000000001,
          9.4944,
          9.561,
          9.627600000000001,
          9.6942,
          9.760800000000001,
          9.8274,
          9.894,
          9.9606,
          10.0272,
          10.093800000000002,
          10.160400000000001,
          10.227,
          10.2936,
          10.3602,
          10.426800000000002,
          10.493400000000001,
          10.56,
          10.626600000000002,
          10.693200000000001,
          10.7598,
          10.8264,
          10.893,
          10.959600000000002,
          11.026200000000001,
          11.0928,
          11.1594,
          11.226,
          11.292600000000002,
          11.359200000000001,
          11.4258,
          11.4924,
          11.559000000000001,
          11.6256,
          11.692200000000001,
          11.7588,
          11.825400000000002,
          11.892000000000001,
          11.958600000000002,
          12.025200000000002,
          12.091800000000001,
          12.158400000000002,
          12.225000000000001,
          12.2916,
          12.358200000000002,
          12.424800000000001,
          12.491400000000002,
          12.558000000000002,
          12.624600000000001,
          12.6912,
          12.757800000000001,
          12.824400000000002,
          12.891000000000002,
          12.957600000000001,
          13.0242,
          13.090800000000002,
          13.157400000000003,
          13.224000000000002,
          13.290600000000001,
          13.3572,
          13.423800000000002,
          13.490400000000001,
          13.557000000000002,
          13.623600000000001,
          13.6902,
          13.756800000000002,
          13.823400000000001,
          13.890000000000002,
          13.956600000000002,
          14.023200000000001,
          14.089800000000002,
          14.156400000000001,
          14.223000000000003,
          14.289600000000002,
          14.356200000000001,
          14.422800000000002,
          14.489400000000002,
          14.556000000000003,
          14.622600000000002,
          14.689200000000001,
          14.7558,
          14.822400000000002,
          14.889000000000003,
          14.955600000000002,
          15.022200000000002,
          15.0888,
          15.155400000000002,
          15.222000000000001,
          15.288600000000002,
          15.355200000000002,
          15.421800000000001,
          15.488400000000002,
          15.555000000000001,
          15.621600000000003,
          15.688200000000002,
          15.754800000000001,
          15.821400000000002,
          15.888000000000002,
          15.954600000000003,
          16.0212,
          16.0878,
          16.154400000000003,
          16.221,
          16.2876,
          16.3542,
          16.4208,
          16.4874,
          16.554000000000002,
          16.620600000000003,
          16.6872,
          16.753800000000002,
          16.8204,
          16.887,
          16.9536,
          17.020200000000003,
          17.0868,
          17.1534,
          17.220000000000002,
          17.2866,
          17.3532,
          17.419800000000002,
          17.4864,
          17.553,
          17.619600000000002,
          17.686200000000003,
          17.7528,
          17.8194,
          17.886000000000003,
          17.9526,
          18.0192,
          18.0858,
          18.1524,
          18.219,
          18.285600000000002,
          18.352200000000003,
          18.4188,
          18.485400000000002,
          18.552,
          18.6186,
          18.685200000000002,
          18.7518,
          18.8184,
          18.885,
          18.951600000000003,
          19.018200000000004,
          19.0848,
          19.151400000000002,
          19.218,
          19.2846,
          19.351200000000002,
          19.4178,
          19.4844,
          19.551000000000002,
          19.617600000000003,
          19.6842,
          19.7508,
          19.8174,
          19.884,
          19.9506,
          20.017200000000003,
          20.0838,
          20.1504,
          20.217,
          20.2836,
          20.3502,
          20.416800000000002,
          20.4834,
          20.55,
          20.616600000000002,
          20.6832,
          20.7498,
          20.8164,
          20.883000000000003,
          20.9496,
          21.016199999999998,
          21.082800000000002,
          21.1494,
          21.216,
          21.282600000000002,
          21.3492,
          21.4158,
          21.4824,
          21.549000000000003,
          21.6156,
          21.682199999999998,
          21.748800000000003,
          21.8154,
          21.882,
          21.9486,
          22.0152,
          22.0818,
          22.1484,
          22.215000000000003,
          22.2816,
          22.3482,
          22.414800000000003,
          22.4814,
          22.548000000000002,
          22.6146,
          22.6812,
          22.7478,
          22.8144,
          22.881000000000004,
          22.9476,
          23.0142,
          23.0808,
          23.1474,
          23.214000000000002,
          23.2806,
          23.3472,
          23.413800000000002,
          23.4804,
          23.547,
          23.6136,
          23.6802,
          23.7468,
          23.8134,
          23.880000000000003,
          23.9466,
          24.0132,
          24.079800000000002,
          24.1464,
          24.213,
          24.279600000000002,
          24.346200000000003,
          24.4128,
          24.4794,
          24.546000000000003,
          24.6126,
          24.6792,
          24.745800000000003,
          24.8124,
          24.879,
          24.945600000000002,
          25.012200000000004,
          25.0788,
          25.1454,
          25.212000000000003,
          25.2786,
          25.345200000000002,
          25.411800000000003,
          25.4784,
          25.545,
          25.6116,
          25.678200000000004,
          25.7448,
          25.8114,
          25.878000000000004,
          25.9446,
          26.011200000000002,
          26.0778,
          26.1444,
          26.211000000000002,
          26.2776,
          26.344200000000004,
          26.410800000000002,
          26.4774,
          26.544,
          26.6106,
          26.677200000000003,
          26.7438,
          26.8104,
          26.877000000000002,
          26.9436,
          27.010200000000005,
          27.076800000000002,
          27.1434,
          27.21,
          27.276600000000002,
          27.343200000000003,
          27.4098,
          27.4764,
          27.543000000000003,
          27.6096,
          27.6762,
          27.742800000000003,
          27.8094,
          27.876,
          27.942600000000002,
          28.009200000000003,
          28.0758,
          28.1424,
          28.209000000000003,
          28.2756,
          28.342200000000002,
          28.408800000000003,
          28.4754,
          28.542,
          28.6086,
          28.675200000000004,
          28.7418,
          28.8084,
          28.875000000000004,
          28.9416,
          29.008200000000002,
          29.0748,
          29.1414,
          29.208000000000002,
          29.2746,
          29.341200000000004,
          29.4078,
          29.4744,
          29.541000000000004,
          29.6076,
          29.674200000000003,
          29.7408,
          29.807400000000005,
          29.874000000000002,
          29.9406,
          30.007200000000005,
          30.073800000000002,
          30.140400000000003,
          30.207,
          30.273600000000002,
          30.340200000000003,
          30.4068,
          30.473400000000005,
          30.540000000000003,
          30.6066,
          30.6732,
          30.739800000000002,
          30.806400000000004,
          30.873,
          30.939600000000002,
          31.006200000000003,
          31.0728,
          31.139400000000002,
          31.206000000000003,
          31.2726,
          31.3392,
          31.405800000000003,
          31.472400000000004,
          31.539,
          31.6056,
          31.672200000000004,
          31.7388,
          31.805400000000002,
          31.872000000000003,
          31.9386,
          32.0052,
          32.0718,
          32.138400000000004,
          32.205000000000005,
          32.2716,
          32.33820000000001,
          32.4048,
          32.4714,
          32.538000000000004,
          32.604600000000005,
          32.671200000000006,
          32.7378,
          32.80440000000001,
          32.871,
          32.9376,
          33.004200000000004,
          33.070800000000006,
          33.13740000000001,
          33.204,
          33.2706,
          33.3372,
          33.403800000000004,
          33.470400000000005,
          33.537000000000006,
          33.6036,
          33.6702,
          33.7368,
          33.8034,
          33.870000000000005,
          33.936600000000006,
          34.00320000000001,
          34.0698,
          34.13640000000001,
          34.203,
          34.269600000000004,
          34.336200000000005,
          34.402800000000006,
          34.46940000000001,
          34.536,
          34.6026,
          34.669200000000004,
          34.735800000000005,
          34.802400000000006,
          34.86900000000001,
          34.9356,
          35.0022,
          35.0688,
          35.135400000000004,
          35.202000000000005,
          35.268600000000006,
          35.33520000000001,
          35.4018,
          35.4684,
          35.535000000000004,
          35.601600000000005,
          35.668200000000006,
          35.7348,
          35.80140000000001,
          35.868,
          35.9346,
          36.001200000000004,
          36.0678,
          36.13440000000001,
          36.201,
          36.2676,
          36.3342,
          36.400800000000004,
          36.467400000000005,
          36.534,
          36.60060000000001,
          36.6672,
          36.7338,
          36.8004,
          36.867000000000004,
          36.933600000000006,
          37.0002,
          37.0668,
          37.1334
         ],
         "xaxis": "x",
         "y": [
          0.008498578117259781,
          0.008610462470867171,
          0.008721904060978327,
          0.008832859636893719,
          0.008943286229711148,
          0.009053141193538656,
          0.009162382246399613,
          0.009270967510785974,
          0.009378855553817197,
          0.009486005426963862,
          0.009592376705296538,
          0.009697929526222138,
          0.009802624627671574,
          0.009906423385704136,
          0.010009287851495767,
          0.010111180787679933,
          0.010212065704011467,
          0.010311906892325414,
          0.010410669460764466,
          0.010508319367250073,
          0.01060482345217399,
          0.010700149470288398,
          0.01079426612177413,
          0.010887143082468067,
          0.010978751033231957,
          0.011069061688446215,
          0.01115804782361351,
          0.011245683302058,
          0.0113319431007072,
          0.011416803334944409,
          0.011500241282520599,
          0.01158223540651548,
          0.011662765377338185,
          0.011741812093758864,
          0.011819357702962868,
          0.01189538561962007,
          0.01196988054396206,
          0.012042828478860576,
          0.01211421674590086,
          0.012184034000443877,
          0.01225227024567164,
          0.012318916845610135,
          0.012383966537124378,
          0.012447413440880392,
          0.012509253071268937,
          0.012569482345285828,
          0.012628099590363864,
          0.012685104551151275,
          0.012740498395231711,
          0.012794283717780797,
          0.012846464545154278,
          0.012897046337402879,
          0.012946035989709006,
          0.012993441832740479,
          0.013039273631916773,
          0.013083542585583086,
          0.013126261322088108,
          0.013167443895761353,
          0.013207105781786273,
          0.013245263869965872,
          0.013281936457377783,
          0.013317143239916358,
          0.01335090530271991,
          0.013383245109481853,
          0.013414186490645207,
          0.0134437546304808,
          0.013471976053050293,
          0.013498878607056274,
          0.013524491449582555,
          0.013548845028729136,
          0.013571971065147351,
          0.013593902532482228,
          0.013614673636730282,
          0.013634319794522634,
          0.013652877610344769,
          0.013670384852705959,
          0.013686880429273008,
          0.01370240436098485,
          0.01371699775516618,
          0.013730702777660392,
          0.013743562624003863,
          0.013755621489665604,
          0.013766924539378401,
          0.013777517875589526,
          0.013787448506061077,
          0.013796764310652205,
          0.01380551400731744,
          0.013813747117357389,
          0.013821513929960172,
          0.013828865466073826,
          0.013835853441652118,
          0.013842530230317803,
          0.013848948825489604,
          0.01385516280202066,
          0.013861226277398171,
          0.01386719387255547,
          0.013873120672349384,
          0.01387906218575719,
          0.013885074305848783,
          0.013891213269590995,
          0.013897535617541978,
          0.013904098153494646,
          0.013910957904128968,
          0.013918172078733526,
          0.013925798029057397,
          0.013933893209353595,
          0.013942515136675767,
          0.013951721351489562,
          0.013961569378660195,
          0.013972116688877248,
          0.013983420660577284,
          0.013995538542424153,
          0.01400852741640596,
          0.014022444161606628,
          0.014037345418708675,
          0.014053287555282418,
          0.014070326631915164,
          0.01408851836923206,
          0.014107918115858433,
          0.014128580817371054,
          0.014150560986283518,
          0.014173912673108444,
          0.014198689438536301,
          0.014224944326768105,
          0.014252729840035854,
          0.014282097914341757,
          0.014313099896443773,
          0.014345786522111654,
          0.014380207895674053,
          0.014416413470873798,
          0.014454452033044313,
          0.014494371682616707,
          0.014536219819962823,
          0.01458004313157568,
          0.014625887577584649,
          0.014673798380598553,
          0.014723820015865889,
          0.01477599620273692,
          0.014830369897408668,
          0.014886983286929141,
          0.014945877784433527,
          0.015007094025580538,
          0.015070671866153348,
          0.015136650380785328,
          0.015205067862767067,
          0.01527596182488718,
          0.015349369001255693,
          0.015425325350055204,
          0.015503866057161513,
          0.015585025540571961,
          0.015668837455576654,
          0.015755334700604532,
          0.015844549423673453,
          0.015936513029370766,
          0.016031256186288256,
          0.01612880883483314,
          0.016229200195334713,
          0.016332458776364193,
          0.01643861238318399,
          0.016547688126240894,
          0.01665971242961683,
          0.01677471103934968,
          0.016892709031536304,
          0.017013730820129115,
          0.01713780016433795,
          0.017264940175548783,
          0.017395173323671315,
          0.017528521442828404,
          0.017665005736300993,
          0.01780464678064364,
          0.01794746452888725,
          0.0180934783127475,
          0.01824270684375929,
          0.01839516821326031,
          0.01855087989114902,
          0.018709858723345497,
          0.018872120927886673,
          0.019037682089590897,
          0.019206557153230237,
          0.01937876041515307,
          0.019554305513303318,
          0.01973320541558729,
          0.01991547240654328,
          0.020101118072274146,
          0.02029015328360758,
          0.02048258817745433,
          0.020678432136339332,
          0.020877693766086745,
          0.021080380871644575,
          0.021286500431041137,
          0.021496058567470566,
          0.021709060519510937,
          0.02192551060948421,
          0.02214541220997332,
          0.02236876770851781,
          0.02259557847051537,
          0.022825844800362646,
          0.023059565900875233,
          0.023296739831032136,
          0.023537363462096887,
          0.023781432432172445,
          0.024028941099254297,
          0.024279882492850846,
          0.024534248264246394,
          0.024792028635488416,
          0.025053212347184956,
          0.025317786605204694,
          0.025585737026377228,
          0.02585704758329542,
          0.026131700548328095,
          0.02640967643695476,
          0.026690953950539366,
          0.02697550991866485,
          0.0272633192411527,
          0.027554354829898414,
          0.027848587550654346,
          0.028145986164897805,
          0.02844651727192285,
          0.028750145251299406,
          0.029056832205844308,
          0.02936653790525193,
          0.029679219730534587,
          0.02999483261942357,
          0.030313329012884128,
          0.030634658802898715,
          0.03095876928167321,
          0.031285605092421905,
          0.03161510818188727,
          0.031947217754750165,
          0.03228187023008613,
          0.032618999200022133,
          0.0329585353907484,
          0.033300406626036505,
          0.03364453779341583,
          0.0339908508131562,
          0.03433926461020363,
          0.0346896950892134,
          0.03504205511282055,
          0.03539625448328691,
          0.03575219992765722,
          0.03610979508655649,
          0.03646894050675331,
          0.036829533637611905,
          0.03719146883154963,
          0.037554637348611454,
          0.037918927365269015,
          0.03828422398754462,
          0.038650409268555556,
          0.03901736223056792,
          0.039384958891642535,
          0.03975307229694895,
          0.040121572554816444,
          0.040490326877584526,
          0.040859199627306574,
          0.041228052366354705,
          0.04159674391296383,
          0.04196513040174692,
          0.04233306534920409,
          0.042700399724239634,
          0.04306698202369297,
          0.04343265835288155,
          0.043797272511142134,
          0.044160666082351294,
          0.044522678530394016,
          0.04488314729954145,
          0.04524190791968887,
          0.045598794116395606,
          0.04595363792565906,
          0.046306269813345506,
          0.04665651879918935,
          0.04700421258526577,
          0.04734917768882792,
          0.047691239579394216,
          0.04803022281995753,
          0.048365951212182366,
          0.04869824794544299,
          0.0490269357495484,
          0.049351837050989424,
          0.04967277413253362,
          0.049989569295985935,
          0.050302045027922515,
          0.050610024168196294,
          0.05091333008100624,
          0.051211786828311116,
          0.0515052193453619,
          0.051793453618119364,
          0.05207631686231525,
          0.05235363770390718,
          0.05262524636067353,
          0.05289097482468356,
          0.05315065704537693,
          0.05340412911297651,
          0.053651229441955633,
          0.053891798954276114,
          0.05412568126210727,
          0.05435272284973437,
          0.05457277325436003,
          0.05478568524550041,
          0.054991315002674804,
          0.05518952229108706,
          0.05538017063499396,
          0.05556312748845799,
          0.05573826440317965,
          0.05590545719310722,
          0.05606458609552189,
          0.05621553592829982,
          0.056358196243053715,
          0.05649246147386205,
          0.05661823108129638,
          0.05673540969146391,
          0.05684390722978622,
          0.05694363904924269,
          0.05703452605281372,
          0.05711649480986636,
          0.05718947766623302,
          0.05725341284774381,
          0.057308244556981754,
          0.057353923063041004,
          0.05739040478407863,
          0.05741765236246241,
          0.05743563473232931,
          0.05744432717938134,
          0.05744371139275931,
          0.05743377550884867,
          0.0574145141468851,
          0.05738592843624349,
          0.05734802603530784,
          0.05730082114183556,
          0.057244334494745655,
          0.05717859336727598,
          0.05710363155147193,
          0.0570194893339842,
          0.05692621346317179,
          0.05682385710752252,
          0.056712479805419734,
          0.0565921474063032,
          0.05646293200328667,
          0.05632491185731382,
          0.05617817131295087,
          0.05602280070592996,
          0.05585889626257611,
          0.05568655999126591,
          0.05550589956608177,
          0.0553170282028437,
          0.05512006452771455,
          0.05491513243858947,
          0.054702360959497674,
          0.05448188408825523,
          0.05425384063762579,
          0.05401837407025456,
          0.05377563232765796,
          0.053525767653560104,
          0.053268936411880775,
          0.05300529889968846,
          0.05273501915544314,
          0.05245826476286226,
          0.05217520665075129,
          0.051886018889148414,
          0.05159087848213895,
          0.051289965157701504,
          0.05098346115495245,
          0.05067155100915971,
          0.050354421334899375,
          0.05003226060773237,
          0.04970525894477804,
          0.049373607884563284,
          0.04903750016652555,
          0.04869712951054544,
          0.048352690396883925,
          0.048004377846895964,
          0.047652387204887174,
          0.04729691392147682,
          0.046938153338824895,
          0.04657630047807309,
          0.04621154982934426,
          0.045844095144635666,
          0.045474129233934006,
          0.04510184376486863,
          0.04472742906621211,
          0.0443510739355252,
          0.04397296545123135,
          0.0435932887893957,
          0.04321222704547035,
          0.0428299610612549,
          0.04244666925730749,
          0.04206252747102992,
          0.04167770880063344,
          0.04129238345518045,
          0.04090671861088028,
          0.04052087827380434,
          0.04013502314916997,
          0.03974931051732662,
          0.039363894116564574,
          0.03897892403284923,
          0.038594546596569586,
          0.03821090428637437,
          0.03782813564015388,
          0.037446375173210186,
          0.03706575330364357,
          0.036686396284969364,
          0.0363084261459629,
          0.035931960637717024,
          0.03555711318788404,
          0.03518399286205691,
          0.03481270433223488,
          0.034443347852303095,
          0.034076019240445024,
          0.03371080986839321,
          0.03334780665741321,
          0.03298709208090356,
          0.03262874417348477,
          0.0322728365464398,
          0.0319194384093587,
          0.03156861459783144,
          0.031220425607024347,
          0.03087492763096728,
          0.030532172607371802,
          0.030192208267793095,
          0.02985507819294316,
          0.029520821872955714,
          0.02918947477239977,
          0.028861068399832563,
          0.02853563038168049,
          0.028213184540231185,
          0.027893750975518817,
          0.027577346150881085,
          0.027263982981965685,
          0.02695367092896136,
          0.026646416091830005,
          0.026342221308312524,
          0.026041086254486305,
          0.025743007547647537,
          0.0254479788512968,
          0.025155990982005497,
          0.024867032017943703,
          0.02458108740885257,
          0.024298140087244933,
          0.024018170580625026,
          0.023741157124516837,
          0.023467075776097725,
          0.023195900528236484,
          0.02292760342373945,
          0.022662154669613143,
          0.02239952275115593,
          0.022139674545697267,
          0.021882575435807003,
          0.021628189421803338,
          0.021376479233393413,
          0.02112740644028613,
          0.02088093156162185,
          0.020637014174070704,
          0.020395613018456354,
          0.020156686104767823,
          0.0199201908154291,
          0.01968608400670109,
          0.01945432210809809,
          0.0192248612197048,
          0.018997657207289288,
          0.018772665795110482,
          0.018549842656326157,
          0.01832914350091407,
          0.01811052416102364,
          0.017893940673682853,
          0.017679349360789742,
          0.017466706906325,
          0.017255970430727314,
          0.017047097562378582,
          0.0168400465061529,
          0.0166347761089875,
          0.016431245922440156,
          0.016229416262202846,
          0.016029248264546395,
          0.01583070393967658,
          0.01563374622198684,
          0.01543833901719766,
          0.015244447246378582,
          0.01505203688685171,
          0.014861075009982168,
          0.014671529815864425,
          0.014483370664917911,
          0.014296568106410439,
          0.014111093903930647,
          0.013926921057837022,
          0.013744023824712407,
          0.013562377733859116,
          0.013381959600872278,
          0.013202747538332416,
          0.01302472096366319,
          0.012847860604201917,
          0.012672148499535303,
          0.012497568001154638,
          0.012324103769488842,
          0.012151741768376374,
          0.011980469257038969,
          0.011810274779624517,
          0.011641148152387423,
          0.011473080448578008,
          0.011306063981114816,
          0.01114009228311553,
          0.01097516008636474
         ],
         "yaxis": "y"
        },
        {
         "legendgroup": "Female",
         "marker": {
          "color": "pink"
         },
         "mode": "lines",
         "name": "Female",
         "showlegend": true,
         "type": "scatter",
         "x": [
          3.9,
          3.9504,
          4.0008,
          4.0512,
          4.1016,
          4.152,
          4.2024,
          4.2528,
          4.3032,
          4.3536,
          4.404,
          4.4544,
          4.5048,
          4.5552,
          4.6056,
          4.656,
          4.7064,
          4.7568,
          4.8072,
          4.8576,
          4.9079999999999995,
          4.9584,
          5.0088,
          5.0592,
          5.1096,
          5.16,
          5.2104,
          5.2608,
          5.3112,
          5.3616,
          5.412,
          5.4624,
          5.5128,
          5.5632,
          5.6136,
          5.664,
          5.7143999999999995,
          5.7648,
          5.8152,
          5.865600000000001,
          5.916,
          5.9664,
          6.0168,
          6.0672,
          6.1176,
          6.168,
          6.2184,
          6.268800000000001,
          6.3192,
          6.3696,
          6.42,
          6.4704,
          6.5207999999999995,
          6.5712,
          6.621600000000001,
          6.672000000000001,
          6.7224,
          6.7728,
          6.8232,
          6.8736,
          6.924,
          6.974400000000001,
          7.0248,
          7.075200000000001,
          7.1256,
          7.176,
          7.2264,
          7.2768,
          7.3272,
          7.3776,
          7.428000000000001,
          7.478400000000001,
          7.5288,
          7.5792,
          7.6296,
          7.68,
          7.7304,
          7.780800000000001,
          7.831200000000001,
          7.881600000000001,
          7.932,
          7.9824,
          8.0328,
          8.083200000000001,
          8.1336,
          8.184000000000001,
          8.2344,
          8.2848,
          8.3352,
          8.3856,
          8.436,
          8.4864,
          8.5368,
          8.587200000000001,
          8.6376,
          8.688,
          8.7384,
          8.7888,
          8.8392,
          8.8896,
          8.940000000000001,
          8.990400000000001,
          9.0408,
          9.0912,
          9.1416,
          9.192,
          9.2424,
          9.2928,
          9.343200000000001,
          9.393600000000001,
          9.444,
          9.4944,
          9.5448,
          9.5952,
          9.6456,
          9.696000000000002,
          9.746400000000001,
          9.796800000000001,
          9.8472,
          9.8976,
          9.948,
          9.9984,
          10.048800000000002,
          10.099200000000002,
          10.1496,
          10.200000000000001,
          10.2504,
          10.3008,
          10.3512,
          10.4016,
          10.452,
          10.5024,
          10.552800000000001,
          10.603200000000001,
          10.6536,
          10.704,
          10.7544,
          10.8048,
          10.8552,
          10.9056,
          10.956000000000001,
          11.006400000000001,
          11.0568,
          11.1072,
          11.1576,
          11.208,
          11.2584,
          11.308800000000002,
          11.359200000000001,
          11.409600000000001,
          11.46,
          11.5104,
          11.5608,
          11.6112,
          11.661600000000002,
          11.712000000000002,
          11.762400000000001,
          11.812800000000001,
          11.8632,
          11.913600000000002,
          11.964,
          12.0144,
          12.064800000000002,
          12.115200000000002,
          12.165600000000001,
          12.216000000000003,
          12.266400000000003,
          12.3168,
          12.3672,
          12.4176,
          12.468000000000002,
          12.518400000000002,
          12.568800000000001,
          12.619200000000001,
          12.6696,
          12.720000000000002,
          12.770400000000002,
          12.820800000000002,
          12.871200000000002,
          12.921600000000002,
          12.972000000000001,
          13.022400000000001,
          13.0728,
          13.1232,
          13.1736,
          13.224000000000002,
          13.274400000000002,
          13.324800000000002,
          13.375200000000001,
          13.425600000000001,
          13.476000000000003,
          13.526400000000002,
          13.576800000000002,
          13.6272,
          13.6776,
          13.728000000000002,
          13.778400000000001,
          13.828800000000001,
          13.8792,
          13.9296,
          13.980000000000002,
          14.030400000000002,
          14.080800000000002,
          14.131200000000002,
          14.181600000000001,
          14.232000000000003,
          14.282400000000003,
          14.3328,
          14.3832,
          14.4336,
          14.484000000000002,
          14.534400000000002,
          14.584800000000001,
          14.635200000000001,
          14.6856,
          14.736000000000002,
          14.786400000000002,
          14.836800000000002,
          14.887200000000002,
          14.937600000000002,
          14.988000000000001,
          15.038400000000001,
          15.0888,
          15.1392,
          15.189600000000002,
          15.240000000000002,
          15.290400000000002,
          15.340800000000002,
          15.391200000000001,
          15.441600000000003,
          15.492000000000003,
          15.542400000000002,
          15.592800000000002,
          15.6432,
          15.693600000000002,
          15.744000000000002,
          15.794400000000001,
          15.844800000000001,
          15.8952,
          15.945600000000002,
          15.996000000000002,
          16.046400000000002,
          16.0968,
          16.1472,
          16.1976,
          16.248,
          16.2984,
          16.3488,
          16.3992,
          16.4496,
          16.5,
          16.5504,
          16.6008,
          16.6512,
          16.701600000000003,
          16.752000000000002,
          16.802400000000002,
          16.852800000000002,
          16.903200000000002,
          16.9536,
          17.004,
          17.0544,
          17.1048,
          17.1552,
          17.2056,
          17.256,
          17.3064,
          17.3568,
          17.4072,
          17.457600000000003,
          17.508000000000003,
          17.558400000000002,
          17.608800000000002,
          17.6592,
          17.709600000000002,
          17.76,
          17.8104,
          17.8608,
          17.9112,
          17.9616,
          18.012,
          18.0624,
          18.1128,
          18.1632,
          18.213600000000003,
          18.264000000000003,
          18.314400000000003,
          18.3648,
          18.4152,
          18.465600000000002,
          18.516000000000002,
          18.5664,
          18.6168,
          18.6672,
          18.7176,
          18.768,
          18.8184,
          18.8688,
          18.919200000000004,
          18.969600000000003,
          19.02,
          19.0704,
          19.1208,
          19.171200000000002,
          19.221600000000002,
          19.272000000000002,
          19.322400000000002,
          19.3728,
          19.4232,
          19.4736,
          19.524,
          19.5744,
          19.6248,
          19.6752,
          19.7256,
          19.776,
          19.8264,
          19.8768,
          19.927200000000003,
          19.977600000000002,
          20.028,
          20.0784,
          20.1288,
          20.1792,
          20.2296,
          20.28,
          20.3304,
          20.3808,
          20.4312,
          20.4816,
          20.532000000000004,
          20.5824,
          20.632800000000003,
          20.6832,
          20.7336,
          20.784000000000002,
          20.8344,
          20.884800000000002,
          20.9352,
          20.9856,
          21.036,
          21.0864,
          21.1368,
          21.1872,
          21.2376,
          21.288000000000004,
          21.3384,
          21.3888,
          21.4392,
          21.4896,
          21.540000000000003,
          21.5904,
          21.640800000000002,
          21.6912,
          21.741600000000002,
          21.792,
          21.8424,
          21.8928,
          21.9432,
          21.9936,
          22.044,
          22.0944,
          22.1448,
          22.1952,
          22.2456,
          22.296000000000003,
          22.3464,
          22.396800000000002,
          22.4472,
          22.497600000000002,
          22.548000000000002,
          22.5984,
          22.6488,
          22.699199999999998,
          22.7496,
          22.8,
          22.8504,
          22.9008,
          22.9512,
          23.0016,
          23.052000000000003,
          23.1024,
          23.152800000000003,
          23.2032,
          23.253600000000002,
          23.304000000000002,
          23.3544,
          23.4048,
          23.455199999999998,
          23.5056,
          23.556,
          23.6064,
          23.6568,
          23.7072,
          23.7576,
          23.808000000000003,
          23.8584,
          23.908800000000003,
          23.9592,
          24.009600000000002,
          24.060000000000002,
          24.1104,
          24.160800000000002,
          24.211199999999998,
          24.2616,
          24.312,
          24.3624,
          24.4128,
          24.4632,
          24.5136,
          24.564000000000004,
          24.6144,
          24.664800000000003,
          24.7152,
          24.7656,
          24.816000000000003,
          24.8664,
          24.916800000000002,
          24.9672,
          25.0176,
          25.068,
          25.1184,
          25.1688,
          25.2192,
          25.2696,
          25.320000000000004,
          25.3704,
          25.4208,
          25.4712,
          25.5216,
          25.572000000000003,
          25.6224,
          25.672800000000002,
          25.7232,
          25.773600000000002,
          25.824,
          25.8744,
          25.9248,
          25.9752,
          26.0256,
          26.076,
          26.1264,
          26.1768,
          26.2272,
          26.2776,
          26.328000000000003,
          26.3784,
          26.428800000000003,
          26.479200000000002,
          26.529600000000002,
          26.580000000000002,
          26.6304,
          26.6808,
          26.7312,
          26.7816,
          26.832,
          26.8824,
          26.9328,
          26.983200000000004,
          27.0336,
          27.084000000000003,
          27.1344,
          27.184800000000003,
          27.235200000000003,
          27.285600000000002,
          27.336000000000002,
          27.3864,
          27.4368,
          27.4872,
          27.5376,
          27.588,
          27.6384,
          27.6888,
          27.739200000000004,
          27.7896,
          27.840000000000003,
          27.8904,
          27.940800000000003,
          27.991200000000003,
          28.041600000000003,
          28.092000000000002,
          28.1424,
          28.192800000000002,
          28.2432,
          28.2936,
          28.344,
          28.3944,
          28.4448,
          28.495200000000004,
          28.5456,
          28.596000000000004,
          28.6464,
          28.696800000000003,
          28.747200000000003,
          28.7976,
          28.848000000000003,
          28.8984,
          28.948800000000002,
          28.999200000000002,
          29.0496
         ],
         "xaxis": "x",
         "y": [
          0.010253422450991076,
          0.010401896080378321,
          0.010551058018710893,
          0.010700896732311659,
          0.010851400988670785,
          0.011002559854852217,
          0.011154362694375315,
          0.011306799162571832,
          0.011459859200423767,
          0.011613533026892777,
          0.01176781112975707,
          0.011922684254977063,
          0.012078143394616363,
          0.012234179773349908,
          0.012390784833596414,
          0.012547950219317426,
          0.012705667758530437,
          0.012863929444588664,
          0.013022727416284895,
          0.013182053936841765,
          0.013341901371855397,
          0.013502262166263978,
          0.01366312882041702,
          0.013824493865325352,
          0.013986349837175688,
          0.014148689251197367,
          0.014311504574972215,
          0.014474788201281768,
          0.014638532420588834,
          0.01480272939325307,
          0.014967371121582505,
          0.01513244942182482,
          0.015297955896203972,
          0.0154638819051089,
          0.015630218539542055,
          0.015796956593936075,
          0.015964086539447107,
          0.016131598497833136,
          0.016299482216025264,
          0.016467727041498643,
          0.016636321898549036,
          0.016805255265578765,
          0.016974515153494085,
          0.017144089085313684,
          0.017313964077084958,
          0.017484126620201802,
          0.017654562665214278,
          0.017825257607216302,
          0.01799619627289385,
          0.018167362909311233,
          0.01833874117450865,
          0.018510314129978785,
          0.01868206423508504,
          0.018853973343478516,
          0.019026022701564557,
          0.019198192949064205,
          0.01937046412170907,
          0.01954281565610201,
          0.019715226396769224,
          0.019887674605422602,
          0.020060137972444478,
          0.02023259363059959,
          0.020405018170972355,
          0.020577387661120397,
          0.020749677665427915,
          0.020921863267635777,
          0.02109391909551789,
          0.021265819347666345,
          0.021437537822341136,
          0.0216090479483333,
          0.021780322817783616,
          0.021951335220892418,
          0.02212205768244994,
          0.022292462500110168,
          0.022462521784325538,
          0.022632207499853826,
          0.02280149150874342,
          0.022970345614697914,
          0.02313874160871615,
          0.023306651315899308,
          0.023474046643312457,
          0.02364089962878433,
          0.023807182490525353,
          0.02397286767744115,
          0.024137927920015786,
          0.024302336281637197,
          0.024466066210234512,
          0.024629091590096658,
          0.0247913867937394,
          0.02495292673368825,
          0.0251136869140439,
          0.025273643481697104,
          0.02543277327706095,
          0.025591053884188794,
          0.025748463680148086,
          0.025904981883522048,
          0.026060588601913078,
          0.026215264878324672,
          0.026368992736301534,
          0.02652175522371074,
          0.0266735364550505,
          0.0268243216521774,
          0.026974097183346552,
          0.02712285060046453,
          0.0272705706744592,
          0.02741724742867595,
          0.02756287217021512,
          0.027707437519131028,
          0.027850937435418707,
          0.0279933672437204,
          0.028134723655690017,
          0.028275004789959847,
          0.028414210189660217,
          0.028552340837449213,
          0.028689399168015967,
          0.028825389078027442,
          0.02896031593349519,
          0.029094186574545395,
          0.029227009317581196,
          0.029358793954833456,
          0.029489551751302197,
          0.029619295439096922,
          0.02974803920919061,
          0.029875798700607862,
          0.030002590987073672,
          0.03012843456115492,
          0.03025334931593215,
          0.030377356524244798,
          0.030500478815557584,
          0.03062274015050144,
          0.030744165793146053,
          0.0308647822810667,
          0.03098461739327093,
          0.031103700116055656,
          0.031222060606868284,
          0.031339730156249045,
          0.031456741147934925,
          0.03157312701720805,
          0.03168892220757487,
          0.03180416212586346,
          0.031918883095829576,
          0.03203312231036303,
          0.032146917782388075,
          0.03226030829455193,
          0.03237333334779762,
          0.03248603310891705,
          0.03259844835718163,
          0.03271062043014698,
          0.03282259116872986,
          0.03293440286165321,
          0.03304609818935698,
          0.03315772016747025,
          0.03326931208994011,
          0.033380917471911895,
          0.03349257999245381,
          0.03360434343721806,
          0.03371625164112937,
          0.033828348431189696,
          0.03394067756948692,
          0.03405328269649276,
          0.03416620727473446,
          0.034279494532921416,
          0.034393187410607116,
          0.03450732850346366,
          0.034621960009244966,
          0.03473712367451133,
          0.034852860742186895,
          0.03496921190001848,
          0.03508621723000206,
          0.03520391615884082,
          0.03532234740949645,
          0.03544154895389257,
          0.03556155796682692,
          0.03568241078114642,
          0.035804142844236664,
          0.03592678867587516,
          0.0360503818274946,
          0.036174954842900627,
          0.03630053922048538,
          0.03642716537697581,
          0.03655486261275353,
          0.036683659078779955,
          0.0368135817451579,
          0.036944656371358756,
          0.03707690747814115,
          0.03721035832118487,
          0.03734503086646058,
          0.037480945767354196,
          0.03761812234356079,
          0.03775657856176151,
          0.037896331018093136,
          0.0380373949224179,
          0.0381797840843981,
          0.03832351090137693,
          0.038468586348064666,
          0.038615019968025896,
          0.038762819866960674,
          0.03891199270776991,
          0.03906254370739147,
          0.03921447663539099,
          0.0393677938142886,
          0.039522496121598624,
          0.039678582993557227,
          0.03983605243050916,
          0.039994901003922036,
          0.040155123864993106,
          0.040316714754810225,
          0.04047966601602606,
          0.04064396860600069,
          0.04080961211136555,
          0.04097658476395742,
          0.041144873458069234,
          0.04131446376896071,
          0.04148533997256934,
          0.04165748506635907,
          0.04183088079124152,
          0.042005507654501666,
          0.04218134495365781,
          0.04235837080118266,
          0.042536562150010705,
          0.04271589481975394,
          0.04289634352354787,
          0.04307788189544562,
          0.04326048251827883,
          0.04344411695190003,
          0.04362875576172305,
          0.04381436854747447,
          0.044000923972069936,
          0.04418838979052857,
          0.044376732878837824,
          0.044565919262682975,
          0.044755914145953236,
          0.04494668193894048,
          0.04513818628614417,
          0.0453303900936007,
          0.04552325555565401,
          0.04571674418108876,
          0.045910816818547924,
          0.04610543368116022,
          0.0463005543703052,
          0.04649613789844703,
          0.046692142710972065,
          0.04688852670696834,
          0.04708524725888978,
          0.04728226123105185,
          0.04747952499691097,
          0.047676994455083395,
          0.04787462504406612,
          0.048072371755626606,
          0.048270189146834244,
          0.04846803135071225,
          0.04866585208549478,
          0.048863604662479916,
          0.04906124199247641,
          0.049258716590846886,
          0.0494559805811586,
          0.049652985697458504,
          0.04984968328519593,
          0.05004602430082313,
          0.0502419593101117,
          0.050437438485226915,
          0.05063241160061172,
          0.05082682802773675,
          0.05102063672877978,
          0.05121378624930389,
          0.05140622471001088,
          0.05159789979765075,
          0.05178875875517592,
          0.051978748371231565,
          0.05216781496908193,
          0.05235590439507412,
          0.05254296200674875,
          0.05272893266070788,
          0.05291376070035702,
          0.053097389943640334,
          0.05327976367089165,
          0.05346082461292624,
          0.053640514939500936,
          0.05381877624827189,
          0.05399554955437989,
          0.05417077528079559,
          0.054344393249555444,
          0.05451634267402034,
          0.05468656215228749,
          0.054854989661885366,
          0.05502156255587977,
          0.05518621756051684,
          0.055348890774525365,
          0.05550951767019906,
          0.05566803309637461,
          0.055824371283416385,
          0.055978465850316794,
          0.05613024981401195,
          0.056279655601010566,
          0.05642661506142536,
          0.0565710594854904,
          0.05671291962264181,
          0.05685212570322998,
          0.056988607462925674,
          0.05712229416987306,
          0.05725311465463481,
          0.05738099734296604,
          0.05750587029144396,
          0.05762766122597204,
          0.0577462975831678,
          0.057861706554632686,
          0.05797381513409511,
          0.058082550167405406,
          0.05818783840535349,
          0.05828960655926901,
          0.058387781359354456,
          0.0584822896156915,
          0.05857305828185067,
          0.058660014521026406,
          0.058743085774606844,
          0.05882219983308188,
          0.05889728490918076,
          0.05896826971312377,
          0.05903508352986147,
          0.05909765629816934,
          0.05915591869145513,
          0.05920980220012902,
          0.05925923921538085,
          0.05930416311419923,
          0.059344508345463086,
          0.05938021051692796,
          0.059411206482926165,
          0.05943743443259236,
          0.05945883397842354,
          0.059475346244976704,
          0.05948691395750591,
          0.05949348153033503,
          0.0594949951547628,
          0.059491402886292885,
          0.05948265473098151,
          0.05946870273069545,
          0.05944950104707037,
          0.05942500604396449,
          0.05939517636819947,
          0.059359973028385526,
          0.05931935947162813,
          0.059273301657919115,
          0.05922176813201499,
          0.05916473009261412,
          0.05910216145864527,
          0.059034038932488035,
          0.0589603420599503,
          0.0588810532868343,
          0.05879615801193119,
          0.058705644636289474,
          0.05860950460861235,
          0.058507732466646284,
          0.05840032587443231,
          0.058287285655300745,
          0.058168615820499474,
          0.0580443235933559,
          0.057914419428882556,
          0.057778917028747406,
          0.05763783335153989,
          0.05749118861827541,
          0.057339006313091065,
          0.057181313179098386,
          0.05701813920936796,
          0.05684951763303437,
          0.05667548489652007,
          0.05649608063988927,
          0.05631134766835341,
          0.05612133191896266,
          0.05592608242252766,
          0.05572565126082869,
          0.055520093519179435,
          0.05530946723442397,
          0.05509383333845631,
          0.054873255597362426,
          0.0546478005462953,
          0.0544175374202025,
          0.05418253808053688,
          0.05394287693808951,
          0.0536986308720926,
          0.05344987914575042,
          0.05319670331836111,
          0.05293918715420518,
          0.05267741652837735,
          0.05241147932975145,
          0.052141465361269575,
          0.0518674662377554,
          0.05158957528145568,
          0.05130788741551861,
          0.0510224990556233,
          0.05073350799997512,
          0.05044101331788975,
          0.05014511523718578,
          0.04984591503061145,
          0.04954351490153198,
          0.04923801786910239,
          0.048929527653154475,
          0.04861814855902326,
          0.048303985362538514,
          0.04798714319540656,
          0.047667727431203066,
          0.047345843572197205,
          0.0470215971372232,
          0.046695093550812306,
          0.04636643803379312,
          0.04603573549556523,
          0.04570309042824402,
          0.04536860680286996,
          0.045032387967869826,
          0.044694536549950606,
          0.04435515435759848,
          0.04401434228735128,
          0.043672200233001356,
          0.04332882699788063,
          0.04298432021036987,
          0.0426387762427656,
          0.04229229013363035,
          0.04194495551374132,
          0.04159686453574332,
          0.0412481078076041,
          0.04089877432995779,
          0.04054895143741422,
          0.04019872474390137,
          0.03984817809209722,
          0.039497393506999295,
          0.03914645115366728,
          0.03879542929916642,
          0.038444404278727466,
          0.038093450466129865,
          0.037742640248304225,
          0.03739204400414135,
          0.037041730087483016,
          0.036691764814263034,
          0.03634221245375497,
          0.035993135223875865,
          0.03564459329048346,
          0.03529664477060023,
          0.0349493457394829,
          0.03460275024145346,
          0.034256910304396655,
          0.03391187595782202,
          0.03356769525438144,
          0.03322441429472647,
          0.032882077255582065,
          0.03254072642090975,
          0.03220040221602328,
          0.031861143244519496,
          0.03152298632787825,
          0.031185966547582288,
          0.030850117289604767,
          0.030515470291106482,
          0.030182055689183866,
          0.029849902071504213,
          0.029519036528664038,
          0.029189484708103,
          0.028861270869406593,
          0.02853441794082711,
          0.028208947576855558,
          0.02788488021667301,
          0.027562235143314868,
          0.027241030543378283,
          0.026921283567107206,
          0.026603010388690316,
          0.02628622626660831,
          0.025970945603871913,
          0.025657182007991997,
          0.02534494835052951,
          0.025034256826074054,
          0.02472511901050581,
          0.024417545918398995,
          0.02411154805942987,
          0.0238071354936574,
          0.023504317885550307,
          0.023203104556638696,
          0.0229035045366759,
          0.022605526613200307,
          0.022309179379394747,
          0.022014471280146834,
          0.021721410656219284,
          0.021430005786448422,
          0.021140264927892467,
          0.020852196353861662,
          0.02056580838976659,
          0.02028110944672966,
          0.019998108052911613,
          0.019716812882511228,
          0.019437232782404824,
          0.01915937679639819,
          0.018883254187071524,
          0.01860887445520415,
          0.01833624735677371,
          0.018065382917529956,
          0.017796291445152476,
          0.01752898353900446,
          0.017263470097505878,
          0.01699976232315111,
          0.016737871725205272,
          0.01647781012011856,
          0.016219589629702536,
          0.015963222677120054,
          0.015708721980743044
         ],
         "yaxis": "y"
        },
        {
         "legendgroup": "Male",
         "marker": {
          "color": "blue",
          "symbol": "line-ns-open"
         },
         "mode": "markers",
         "name": "Male",
         "showlegend": false,
         "type": "scatter",
         "x": [
          25.3,
          27.3,
          31.2,
          34.2,
          37.2,
          23.4,
          25.3,
          27.3,
          31.2,
          34.2,
          25.3,
          27.3,
          31.2,
          34.2,
          37.2,
          24.2,
          26.1,
          27,
          28.9,
          30.8,
          22.7,
          24.2,
          26.1,
          27,
          28.9,
          22.7,
          24.2,
          26.1,
          27,
          28.9,
          21.2,
          22.7,
          24.2,
          26.1,
          27,
          18.7,
          21.2,
          22.7,
          24.2,
          26.1,
          16.7,
          18.7,
          21.2,
          10,
          13.3,
          16.7,
          20,
          21.2,
          5.6,
          8.3,
          10,
          13.3,
          16.7,
          3.9,
          5.6,
          8.3
         ],
         "xaxis": "x",
         "y": [
          "Male",
          "Male",
          "Male",
          "Male",
          "Male",
          "Male",
          "Male",
          "Male",
          "Male",
          "Male",
          "Male",
          "Male",
          "Male",
          "Male",
          "Male",
          "Male",
          "Male",
          "Male",
          "Male",
          "Male",
          "Male",
          "Male",
          "Male",
          "Male",
          "Male",
          "Male",
          "Male",
          "Male",
          "Male",
          "Male",
          "Male",
          "Male",
          "Male",
          "Male",
          "Male",
          "Male",
          "Male",
          "Male",
          "Male",
          "Male",
          "Male",
          "Male",
          "Male",
          "Male",
          "Male",
          "Male",
          "Male",
          "Male",
          "Male",
          "Male",
          "Male",
          "Male",
          "Male",
          "Male",
          "Male",
          "Male"
         ],
         "yaxis": "y2"
        },
        {
         "legendgroup": "Female",
         "marker": {
          "color": "pink",
          "symbol": "line-ns-open"
         },
         "mode": "markers",
         "name": "Female",
         "showlegend": false,
         "type": "scatter",
         "x": [
          22.5,
          20,
          16.7,
          13.3,
          10,
          20,
          22.5,
          20,
          16.7,
          13.3,
          22.5,
          20,
          16.7,
          13.3,
          21.2,
          25,
          27.5,
          29.1,
          18.7,
          21.2,
          22.7,
          25,
          27.5,
          18.7,
          21.2,
          22.7,
          25,
          27.5,
          16.7,
          18.7,
          21.2,
          22.7,
          25,
          13.3,
          16.7,
          20,
          22.5,
          23.4,
          10,
          13.3,
          8.3,
          10,
          16.7,
          16.7,
          16.7,
          5.6,
          8.3,
          10,
          13.3,
          10,
          3.9,
          5.6
         ],
         "xaxis": "x",
         "y": [
          "Female",
          "Female",
          "Female",
          "Female",
          "Female",
          "Female",
          "Female",
          "Female",
          "Female",
          "Female",
          "Female",
          "Female",
          "Female",
          "Female",
          "Female",
          "Female",
          "Female",
          "Female",
          "Female",
          "Female",
          "Female",
          "Female",
          "Female",
          "Female",
          "Female",
          "Female",
          "Female",
          "Female",
          "Female",
          "Female",
          "Female",
          "Female",
          "Female",
          "Female",
          "Female",
          "Female",
          "Female",
          "Female",
          "Female",
          "Female",
          "Female",
          "Female",
          "Female",
          "Female",
          "Female",
          "Female",
          "Female",
          "Female",
          "Female",
          "Female",
          "Female",
          "Female"
         ],
         "yaxis": "y2"
        }
       ],
       "layout": {
        "barmode": "overlay",
        "hovermode": "closest",
        "legend": {
         "traceorder": "reversed"
        },
        "template": {
         "data": {
          "bar": [
           {
            "error_x": {
             "color": "#2a3f5f"
            },
            "error_y": {
             "color": "#2a3f5f"
            },
            "marker": {
             "line": {
              "color": "#E5ECF6",
              "width": 0.5
             },
             "pattern": {
              "fillmode": "overlay",
              "size": 10,
              "solidity": 0.2
             }
            },
            "type": "bar"
           }
          ],
          "barpolar": [
           {
            "marker": {
             "line": {
              "color": "#E5ECF6",
              "width": 0.5
             },
             "pattern": {
              "fillmode": "overlay",
              "size": 10,
              "solidity": 0.2
             }
            },
            "type": "barpolar"
           }
          ],
          "carpet": [
           {
            "aaxis": {
             "endlinecolor": "#2a3f5f",
             "gridcolor": "white",
             "linecolor": "white",
             "minorgridcolor": "white",
             "startlinecolor": "#2a3f5f"
            },
            "baxis": {
             "endlinecolor": "#2a3f5f",
             "gridcolor": "white",
             "linecolor": "white",
             "minorgridcolor": "white",
             "startlinecolor": "#2a3f5f"
            },
            "type": "carpet"
           }
          ],
          "choropleth": [
           {
            "colorbar": {
             "outlinewidth": 0,
             "ticks": ""
            },
            "type": "choropleth"
           }
          ],
          "contour": [
           {
            "colorbar": {
             "outlinewidth": 0,
             "ticks": ""
            },
            "colorscale": [
             [
              0,
              "#0d0887"
             ],
             [
              0.1111111111111111,
              "#46039f"
             ],
             [
              0.2222222222222222,
              "#7201a8"
             ],
             [
              0.3333333333333333,
              "#9c179e"
             ],
             [
              0.4444444444444444,
              "#bd3786"
             ],
             [
              0.5555555555555556,
              "#d8576b"
             ],
             [
              0.6666666666666666,
              "#ed7953"
             ],
             [
              0.7777777777777778,
              "#fb9f3a"
             ],
             [
              0.8888888888888888,
              "#fdca26"
             ],
             [
              1,
              "#f0f921"
             ]
            ],
            "type": "contour"
           }
          ],
          "contourcarpet": [
           {
            "colorbar": {
             "outlinewidth": 0,
             "ticks": ""
            },
            "type": "contourcarpet"
           }
          ],
          "heatmap": [
           {
            "colorbar": {
             "outlinewidth": 0,
             "ticks": ""
            },
            "colorscale": [
             [
              0,
              "#0d0887"
             ],
             [
              0.1111111111111111,
              "#46039f"
             ],
             [
              0.2222222222222222,
              "#7201a8"
             ],
             [
              0.3333333333333333,
              "#9c179e"
             ],
             [
              0.4444444444444444,
              "#bd3786"
             ],
             [
              0.5555555555555556,
              "#d8576b"
             ],
             [
              0.6666666666666666,
              "#ed7953"
             ],
             [
              0.7777777777777778,
              "#fb9f3a"
             ],
             [
              0.8888888888888888,
              "#fdca26"
             ],
             [
              1,
              "#f0f921"
             ]
            ],
            "type": "heatmap"
           }
          ],
          "heatmapgl": [
           {
            "colorbar": {
             "outlinewidth": 0,
             "ticks": ""
            },
            "colorscale": [
             [
              0,
              "#0d0887"
             ],
             [
              0.1111111111111111,
              "#46039f"
             ],
             [
              0.2222222222222222,
              "#7201a8"
             ],
             [
              0.3333333333333333,
              "#9c179e"
             ],
             [
              0.4444444444444444,
              "#bd3786"
             ],
             [
              0.5555555555555556,
              "#d8576b"
             ],
             [
              0.6666666666666666,
              "#ed7953"
             ],
             [
              0.7777777777777778,
              "#fb9f3a"
             ],
             [
              0.8888888888888888,
              "#fdca26"
             ],
             [
              1,
              "#f0f921"
             ]
            ],
            "type": "heatmapgl"
           }
          ],
          "histogram": [
           {
            "marker": {
             "pattern": {
              "fillmode": "overlay",
              "size": 10,
              "solidity": 0.2
             }
            },
            "type": "histogram"
           }
          ],
          "histogram2d": [
           {
            "colorbar": {
             "outlinewidth": 0,
             "ticks": ""
            },
            "colorscale": [
             [
              0,
              "#0d0887"
             ],
             [
              0.1111111111111111,
              "#46039f"
             ],
             [
              0.2222222222222222,
              "#7201a8"
             ],
             [
              0.3333333333333333,
              "#9c179e"
             ],
             [
              0.4444444444444444,
              "#bd3786"
             ],
             [
              0.5555555555555556,
              "#d8576b"
             ],
             [
              0.6666666666666666,
              "#ed7953"
             ],
             [
              0.7777777777777778,
              "#fb9f3a"
             ],
             [
              0.8888888888888888,
              "#fdca26"
             ],
             [
              1,
              "#f0f921"
             ]
            ],
            "type": "histogram2d"
           }
          ],
          "histogram2dcontour": [
           {
            "colorbar": {
             "outlinewidth": 0,
             "ticks": ""
            },
            "colorscale": [
             [
              0,
              "#0d0887"
             ],
             [
              0.1111111111111111,
              "#46039f"
             ],
             [
              0.2222222222222222,
              "#7201a8"
             ],
             [
              0.3333333333333333,
              "#9c179e"
             ],
             [
              0.4444444444444444,
              "#bd3786"
             ],
             [
              0.5555555555555556,
              "#d8576b"
             ],
             [
              0.6666666666666666,
              "#ed7953"
             ],
             [
              0.7777777777777778,
              "#fb9f3a"
             ],
             [
              0.8888888888888888,
              "#fdca26"
             ],
             [
              1,
              "#f0f921"
             ]
            ],
            "type": "histogram2dcontour"
           }
          ],
          "mesh3d": [
           {
            "colorbar": {
             "outlinewidth": 0,
             "ticks": ""
            },
            "type": "mesh3d"
           }
          ],
          "parcoords": [
           {
            "line": {
             "colorbar": {
              "outlinewidth": 0,
              "ticks": ""
             }
            },
            "type": "parcoords"
           }
          ],
          "pie": [
           {
            "automargin": true,
            "type": "pie"
           }
          ],
          "scatter": [
           {
            "fillpattern": {
             "fillmode": "overlay",
             "size": 10,
             "solidity": 0.2
            },
            "type": "scatter"
           }
          ],
          "scatter3d": [
           {
            "line": {
             "colorbar": {
              "outlinewidth": 0,
              "ticks": ""
             }
            },
            "marker": {
             "colorbar": {
              "outlinewidth": 0,
              "ticks": ""
             }
            },
            "type": "scatter3d"
           }
          ],
          "scattercarpet": [
           {
            "marker": {
             "colorbar": {
              "outlinewidth": 0,
              "ticks": ""
             }
            },
            "type": "scattercarpet"
           }
          ],
          "scattergeo": [
           {
            "marker": {
             "colorbar": {
              "outlinewidth": 0,
              "ticks": ""
             }
            },
            "type": "scattergeo"
           }
          ],
          "scattergl": [
           {
            "marker": {
             "colorbar": {
              "outlinewidth": 0,
              "ticks": ""
             }
            },
            "type": "scattergl"
           }
          ],
          "scattermapbox": [
           {
            "marker": {
             "colorbar": {
              "outlinewidth": 0,
              "ticks": ""
             }
            },
            "type": "scattermapbox"
           }
          ],
          "scatterpolar": [
           {
            "marker": {
             "colorbar": {
              "outlinewidth": 0,
              "ticks": ""
             }
            },
            "type": "scatterpolar"
           }
          ],
          "scatterpolargl": [
           {
            "marker": {
             "colorbar": {
              "outlinewidth": 0,
              "ticks": ""
             }
            },
            "type": "scatterpolargl"
           }
          ],
          "scatterternary": [
           {
            "marker": {
             "colorbar": {
              "outlinewidth": 0,
              "ticks": ""
             }
            },
            "type": "scatterternary"
           }
          ],
          "surface": [
           {
            "colorbar": {
             "outlinewidth": 0,
             "ticks": ""
            },
            "colorscale": [
             [
              0,
              "#0d0887"
             ],
             [
              0.1111111111111111,
              "#46039f"
             ],
             [
              0.2222222222222222,
              "#7201a8"
             ],
             [
              0.3333333333333333,
              "#9c179e"
             ],
             [
              0.4444444444444444,
              "#bd3786"
             ],
             [
              0.5555555555555556,
              "#d8576b"
             ],
             [
              0.6666666666666666,
              "#ed7953"
             ],
             [
              0.7777777777777778,
              "#fb9f3a"
             ],
             [
              0.8888888888888888,
              "#fdca26"
             ],
             [
              1,
              "#f0f921"
             ]
            ],
            "type": "surface"
           }
          ],
          "table": [
           {
            "cells": {
             "fill": {
              "color": "#EBF0F8"
             },
             "line": {
              "color": "white"
             }
            },
            "header": {
             "fill": {
              "color": "#C8D4E3"
             },
             "line": {
              "color": "white"
             }
            },
            "type": "table"
           }
          ]
         },
         "layout": {
          "annotationdefaults": {
           "arrowcolor": "#2a3f5f",
           "arrowhead": 0,
           "arrowwidth": 1
          },
          "autotypenumbers": "strict",
          "coloraxis": {
           "colorbar": {
            "outlinewidth": 0,
            "ticks": ""
           }
          },
          "colorscale": {
           "diverging": [
            [
             0,
             "#8e0152"
            ],
            [
             0.1,
             "#c51b7d"
            ],
            [
             0.2,
             "#de77ae"
            ],
            [
             0.3,
             "#f1b6da"
            ],
            [
             0.4,
             "#fde0ef"
            ],
            [
             0.5,
             "#f7f7f7"
            ],
            [
             0.6,
             "#e6f5d0"
            ],
            [
             0.7,
             "#b8e186"
            ],
            [
             0.8,
             "#7fbc41"
            ],
            [
             0.9,
             "#4d9221"
            ],
            [
             1,
             "#276419"
            ]
           ],
           "sequential": [
            [
             0,
             "#0d0887"
            ],
            [
             0.1111111111111111,
             "#46039f"
            ],
            [
             0.2222222222222222,
             "#7201a8"
            ],
            [
             0.3333333333333333,
             "#9c179e"
            ],
            [
             0.4444444444444444,
             "#bd3786"
            ],
            [
             0.5555555555555556,
             "#d8576b"
            ],
            [
             0.6666666666666666,
             "#ed7953"
            ],
            [
             0.7777777777777778,
             "#fb9f3a"
            ],
            [
             0.8888888888888888,
             "#fdca26"
            ],
            [
             1,
             "#f0f921"
            ]
           ],
           "sequentialminus": [
            [
             0,
             "#0d0887"
            ],
            [
             0.1111111111111111,
             "#46039f"
            ],
            [
             0.2222222222222222,
             "#7201a8"
            ],
            [
             0.3333333333333333,
             "#9c179e"
            ],
            [
             0.4444444444444444,
             "#bd3786"
            ],
            [
             0.5555555555555556,
             "#d8576b"
            ],
            [
             0.6666666666666666,
             "#ed7953"
            ],
            [
             0.7777777777777778,
             "#fb9f3a"
            ],
            [
             0.8888888888888888,
             "#fdca26"
            ],
            [
             1,
             "#f0f921"
            ]
           ]
          },
          "colorway": [
           "#636efa",
           "#EF553B",
           "#00cc96",
           "#ab63fa",
           "#FFA15A",
           "#19d3f3",
           "#FF6692",
           "#B6E880",
           "#FF97FF",
           "#FECB52"
          ],
          "font": {
           "color": "#2a3f5f"
          },
          "geo": {
           "bgcolor": "white",
           "lakecolor": "white",
           "landcolor": "#E5ECF6",
           "showlakes": true,
           "showland": true,
           "subunitcolor": "white"
          },
          "hoverlabel": {
           "align": "left"
          },
          "hovermode": "closest",
          "mapbox": {
           "style": "light"
          },
          "paper_bgcolor": "white",
          "plot_bgcolor": "#E5ECF6",
          "polar": {
           "angularaxis": {
            "gridcolor": "white",
            "linecolor": "white",
            "ticks": ""
           },
           "bgcolor": "#E5ECF6",
           "radialaxis": {
            "gridcolor": "white",
            "linecolor": "white",
            "ticks": ""
           }
          },
          "scene": {
           "xaxis": {
            "backgroundcolor": "#E5ECF6",
            "gridcolor": "white",
            "gridwidth": 2,
            "linecolor": "white",
            "showbackground": true,
            "ticks": "",
            "zerolinecolor": "white"
           },
           "yaxis": {
            "backgroundcolor": "#E5ECF6",
            "gridcolor": "white",
            "gridwidth": 2,
            "linecolor": "white",
            "showbackground": true,
            "ticks": "",
            "zerolinecolor": "white"
           },
           "zaxis": {
            "backgroundcolor": "#E5ECF6",
            "gridcolor": "white",
            "gridwidth": 2,
            "linecolor": "white",
            "showbackground": true,
            "ticks": "",
            "zerolinecolor": "white"
           }
          },
          "shapedefaults": {
           "line": {
            "color": "#2a3f5f"
           }
          },
          "ternary": {
           "aaxis": {
            "gridcolor": "white",
            "linecolor": "white",
            "ticks": ""
           },
           "baxis": {
            "gridcolor": "white",
            "linecolor": "white",
            "ticks": ""
           },
           "bgcolor": "#E5ECF6",
           "caxis": {
            "gridcolor": "white",
            "linecolor": "white",
            "ticks": ""
           }
          },
          "title": {
           "x": 0.05
          },
          "xaxis": {
           "automargin": true,
           "gridcolor": "white",
           "linecolor": "white",
           "ticks": "",
           "title": {
            "standoff": 15
           },
           "zerolinecolor": "white",
           "zerolinewidth": 2
          },
          "yaxis": {
           "automargin": true,
           "gridcolor": "white",
           "linecolor": "white",
           "ticks": "",
           "title": {
            "standoff": 15
           },
           "zerolinecolor": "white",
           "zerolinewidth": 2
          }
         }
        },
        "title": {
         "text": "BMI Distribution by Gender"
        },
        "xaxis": {
         "anchor": "y2",
         "domain": [
          0,
          1
         ],
         "zeroline": false
        },
        "yaxis": {
         "anchor": "free",
         "domain": [
          0.35,
          1
         ],
         "position": 0
        },
        "yaxis2": {
         "anchor": "x",
         "domain": [
          0,
          0.25
         ],
         "dtick": 1,
         "showticklabels": false
        }
       }
      }
     },
     "metadata": {},
     "output_type": "display_data"
    }
   ],
   "source": [
    "df = pd.DataFrame(df)\n",
    "\n",
    "# Distplot çizimi\n",
    "fig = ff.create_distplot([df[df['Gender']=='Male']['BMI'], df[df['Gender']=='Female']['BMI']],\n",
    "                         group_labels=['Male', 'Female'], colors=['blue', 'pink'], show_hist=False)\n",
    "\n",
    "fig.update_layout(title_text='BMI Distribution by Gender')\n",
    "\n",
    "fig.show()"
   ]
  },
  {
   "cell_type": "markdown",
   "metadata": {},
   "source": [
    "Kadınların BMI'sı Erkeklerinkinden daha düşüktür."
   ]
  },
  {
   "cell_type": "code",
   "execution_count": 156,
   "metadata": {},
   "outputs": [
    {
     "data": {
      "text/html": [
       "<div>\n",
       "<style scoped>\n",
       "    .dataframe tbody tr th:only-of-type {\n",
       "        vertical-align: middle;\n",
       "    }\n",
       "\n",
       "    .dataframe tbody tr th {\n",
       "        vertical-align: top;\n",
       "    }\n",
       "\n",
       "    .dataframe thead th {\n",
       "        text-align: right;\n",
       "    }\n",
       "</style>\n",
       "<table border=\"1\" class=\"dataframe\">\n",
       "  <thead>\n",
       "    <tr style=\"text-align: right;\">\n",
       "      <th></th>\n",
       "      <th>Age</th>\n",
       "      <th>Height</th>\n",
       "      <th>Weight</th>\n",
       "      <th>BMI</th>\n",
       "      <th>Gender_Female</th>\n",
       "      <th>Gender_Male</th>\n",
       "      <th>Label_Normal Weight</th>\n",
       "      <th>Label_Obese</th>\n",
       "      <th>Label_Overweight</th>\n",
       "      <th>Label_Underweight</th>\n",
       "    </tr>\n",
       "  </thead>\n",
       "  <tbody>\n",
       "    <tr>\n",
       "      <th>0</th>\n",
       "      <td>25</td>\n",
       "      <td>175</td>\n",
       "      <td>80</td>\n",
       "      <td>25.3</td>\n",
       "      <td>0</td>\n",
       "      <td>1</td>\n",
       "      <td>1</td>\n",
       "      <td>0</td>\n",
       "      <td>0</td>\n",
       "      <td>0</td>\n",
       "    </tr>\n",
       "    <tr>\n",
       "      <th>1</th>\n",
       "      <td>30</td>\n",
       "      <td>160</td>\n",
       "      <td>60</td>\n",
       "      <td>22.5</td>\n",
       "      <td>1</td>\n",
       "      <td>0</td>\n",
       "      <td>1</td>\n",
       "      <td>0</td>\n",
       "      <td>0</td>\n",
       "      <td>0</td>\n",
       "    </tr>\n",
       "    <tr>\n",
       "      <th>2</th>\n",
       "      <td>35</td>\n",
       "      <td>180</td>\n",
       "      <td>90</td>\n",
       "      <td>27.3</td>\n",
       "      <td>0</td>\n",
       "      <td>1</td>\n",
       "      <td>0</td>\n",
       "      <td>0</td>\n",
       "      <td>1</td>\n",
       "      <td>0</td>\n",
       "    </tr>\n",
       "    <tr>\n",
       "      <th>3</th>\n",
       "      <td>40</td>\n",
       "      <td>150</td>\n",
       "      <td>50</td>\n",
       "      <td>20.0</td>\n",
       "      <td>1</td>\n",
       "      <td>0</td>\n",
       "      <td>0</td>\n",
       "      <td>0</td>\n",
       "      <td>0</td>\n",
       "      <td>1</td>\n",
       "    </tr>\n",
       "    <tr>\n",
       "      <th>4</th>\n",
       "      <td>45</td>\n",
       "      <td>190</td>\n",
       "      <td>100</td>\n",
       "      <td>31.2</td>\n",
       "      <td>0</td>\n",
       "      <td>1</td>\n",
       "      <td>0</td>\n",
       "      <td>1</td>\n",
       "      <td>0</td>\n",
       "      <td>0</td>\n",
       "    </tr>\n",
       "    <tr>\n",
       "      <th>5</th>\n",
       "      <td>50</td>\n",
       "      <td>140</td>\n",
       "      <td>40</td>\n",
       "      <td>16.7</td>\n",
       "      <td>1</td>\n",
       "      <td>0</td>\n",
       "      <td>0</td>\n",
       "      <td>0</td>\n",
       "      <td>0</td>\n",
       "      <td>1</td>\n",
       "    </tr>\n",
       "    <tr>\n",
       "      <th>6</th>\n",
       "      <td>55</td>\n",
       "      <td>200</td>\n",
       "      <td>110</td>\n",
       "      <td>34.2</td>\n",
       "      <td>0</td>\n",
       "      <td>1</td>\n",
       "      <td>0</td>\n",
       "      <td>1</td>\n",
       "      <td>0</td>\n",
       "      <td>0</td>\n",
       "    </tr>\n",
       "    <tr>\n",
       "      <th>7</th>\n",
       "      <td>60</td>\n",
       "      <td>130</td>\n",
       "      <td>30</td>\n",
       "      <td>13.3</td>\n",
       "      <td>1</td>\n",
       "      <td>0</td>\n",
       "      <td>0</td>\n",
       "      <td>0</td>\n",
       "      <td>0</td>\n",
       "      <td>1</td>\n",
       "    </tr>\n",
       "    <tr>\n",
       "      <th>8</th>\n",
       "      <td>65</td>\n",
       "      <td>210</td>\n",
       "      <td>120</td>\n",
       "      <td>37.2</td>\n",
       "      <td>0</td>\n",
       "      <td>1</td>\n",
       "      <td>0</td>\n",
       "      <td>1</td>\n",
       "      <td>0</td>\n",
       "      <td>0</td>\n",
       "    </tr>\n",
       "    <tr>\n",
       "      <th>9</th>\n",
       "      <td>70</td>\n",
       "      <td>120</td>\n",
       "      <td>20</td>\n",
       "      <td>10.0</td>\n",
       "      <td>1</td>\n",
       "      <td>0</td>\n",
       "      <td>0</td>\n",
       "      <td>0</td>\n",
       "      <td>0</td>\n",
       "      <td>1</td>\n",
       "    </tr>\n",
       "  </tbody>\n",
       "</table>\n",
       "</div>"
      ],
      "text/plain": [
       "   Age  Height  Weight   BMI  Gender_Female  Gender_Male  Label_Normal Weight  \\\n",
       "0   25     175      80  25.3              0            1                    1   \n",
       "1   30     160      60  22.5              1            0                    1   \n",
       "2   35     180      90  27.3              0            1                    0   \n",
       "3   40     150      50  20.0              1            0                    0   \n",
       "4   45     190     100  31.2              0            1                    0   \n",
       "5   50     140      40  16.7              1            0                    0   \n",
       "6   55     200     110  34.2              0            1                    0   \n",
       "7   60     130      30  13.3              1            0                    0   \n",
       "8   65     210     120  37.2              0            1                    0   \n",
       "9   70     120      20  10.0              1            0                    0   \n",
       "\n",
       "   Label_Obese  Label_Overweight  Label_Underweight  \n",
       "0            0                 0                  0  \n",
       "1            0                 0                  0  \n",
       "2            0                 1                  0  \n",
       "3            0                 0                  1  \n",
       "4            1                 0                  0  \n",
       "5            0                 0                  1  \n",
       "6            1                 0                  0  \n",
       "7            0                 0                  1  \n",
       "8            1                 0                  0  \n",
       "9            0                 0                  1  "
      ]
     },
     "execution_count": 156,
     "metadata": {},
     "output_type": "execute_result"
    }
   ],
   "source": [
    "df2=df.drop('ID',axis=1)\n",
    "df2=pd.get_dummies(df2)\n",
    "df2.head(10)"
   ]
  },
  {
   "cell_type": "code",
   "execution_count": 160,
   "metadata": {},
   "outputs": [
    {
     "data": {
      "image/png": "[encoded data removed]",
      "text/plain": [
       "<Figure size 1500x1500 with 42 Axes>"
      ]
     },
     "metadata": {},
     "output_type": "display_data"
    }
   ],
   "source": [
    "df = pd.DataFrame(df)\n",
    "\n",
    "# Select relevant columns for pairplot\n",
    "columns_for_pairplot = ['Age', 'Height', 'Weight', 'BMI', 'Gender_Female', 'Gender_Male']\n",
    "\n",
    "# Create a pairplot\n",
    "sns.pairplot(df[columns_for_pairplot])\n",
    "plt.show()"
   ]
  },
  {
   "cell_type": "code",
   "execution_count": 157,
   "metadata": {},
   "outputs": [
    {
     "name": "stderr",
     "output_type": "stream",
     "text": [
      "C:\\Users\\victus\\AppData\\Local\\Temp\\ipykernel_3580\\2289309333.py:4: FutureWarning:\n",
      "\n",
      "The default value of numeric_only in DataFrame.corr is deprecated. In a future version, it will default to False. Select only valid columns or specify the value of numeric_only to silence this warning.\n",
      "\n"
     ]
    },
    {
     "data": {
      "image/png": "[encoded data removed]",
      "text/plain": [
       "<Figure size 1000x800 with 2 Axes>"
      ]
     },
     "metadata": {},
     "output_type": "display_data"
    }
   ],
   "source": [
    "df = pd.DataFrame(data)\n",
    "\n",
    "# Create the correlation matrix\n",
    "correlation_matrix = df.corr()\n",
    "\n",
    "# Visualize the correlation matrix with a heatmap\n",
    "plt.figure(figsize=(10, 8))\n",
    "sns.heatmap(correlation_matrix, annot=True, cmap='coolwarm', fmt=\".2f\", linewidths=0.5)\n",
    "plt.title('Correlation Matrix')\n",
    "plt.show()"
   ]
  },
  {
   "cell_type": "markdown",
   "metadata": {},
   "source": [
    "0,97'lik korelasyon katsayısı, BMI ile Ağırlık arasında güçlü bir pozitif korelasyon olduğunu göstermektedir.\n",
    "Cinsiyet_Erkek ve Boy da oldukça ilişkilidir.\n",
    "Label_Obese ve BMI'nin Yaş, Boy ve Kilo ile de ilişkili olduğu görülmektedir.\n",
    "Gender_Female, Label_Underweight dışındaki diğer etiketlerle negatif ilişkilidir."
   ]
  },
  {
   "cell_type": "code",
   "execution_count": null,
   "metadata": {},
   "outputs": [],
   "source": [
    "df = pd.DataFrame(df)\n",
    "\n",
    "# 'Gender' sütununu one-hot encoding kullanarak numerik formata çevirme\n",
    "df = pd.get_dummies(df, columns=['Gender'])\n",
    "\n",
    "print(df)"
   ]
  }
 ],
 "metadata": {
  "kernelspec": {
   "display_name": "Python 3",
   "language": "python",
   "name": "python3"
  },
  "language_info": {
   "codemirror_mode": {
    "name": "ipython",
    "version": 3
   },
   "file_extension": ".py",
   "mimetype": "text/x-python",
   "name": "python",
   "nbconvert_exporter": "python",
   "pygments_lexer": "ipython3",
   "version": "3.11.5"
  }
 },
 "nbformat": 4,
 "nbformat_minor": 2
}
